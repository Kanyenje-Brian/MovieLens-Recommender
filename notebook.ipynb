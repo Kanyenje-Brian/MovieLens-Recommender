{
 "cells": [
  {
   "cell_type": "markdown",
   "id": "1bd80327",
   "metadata": {},
   "source": [
    "# **Movielens Recommender System**"
   ]
  },
  {
   "cell_type": "markdown",
   "id": "9a504282",
   "metadata": {},
   "source": [
    "## **Problem Statement** \n",
    "\n",
    "Users on the MovieLens platform often struggle to discover content that matches their preferences due to the vast number of available options. With thousands of movies to choose from, users are often overwhelmed and find it difficult to locate movies that match their interests, especially since most don't scroll deeply or explore the site extensively. This results in user-frustration, decision fatigue and in some cases platform abandonment. \n",
    "\n",
    "As a result, MovieLens faces a critical challenge in retaining users and maintaining long-term engagement, which directly impacts business sustainability. \n"
   ]
  },
  {
   "cell_type": "markdown",
   "id": "de8bea75",
   "metadata": {},
   "source": [
    "## **Business Understanding**\n",
    "\n",
    "In the rapidly growing digital streaming industry, platforms like Netflix, Amazon Prime, and Showmax face intense competition. One of the biggest drivers of user retention and satisfaction is how relevant the recommended content is.\n",
    "\n",
    "However, traditional recommendation systems often fail in two critical areas:\n",
    "\n",
    "* Cold Start Problem: When a user is new and hasn't rated or watched any movies, collaborative filtering fails to provide meaningful suggestions.\n",
    "\n",
    "* Scalability & Diversity: Over-reliance on collaborative filtering or content-based filtering alone often leads to poor diversity, echo chambers, or irrelevant recommendations."
   ]
  },
  {
   "cell_type": "markdown",
   "id": "f403fadc",
   "metadata": {},
   "source": [
    "## **Project Overview**\n",
    "\n",
    "\n",
    ">* This project aims to build a movie recommendation system using the MovieLens dataset from GroupLens. We will perform exploratory data analysis, analyze user rating behavior, and implement recommendation algorithms to suggest movies tailored to users.\n",
    "\n",
    ">* In this project, we built a movie recommendation system using the MovieLens dataset from the GroupLens research lab at the University of Minnesota. The project follows a full supervised modeling workflow and focuses on an advanced modeling technique: recommendation systems.\n",
    "\n",
    ">* Our analysis began with exploratory data analysis (EDA) to investigate movie popularity and user rating behavior. We then developed a recommendation engine to provide personalized movie suggestions based on historical user ratings.\n",
    "\n",
    ">* The goal of this project is to demonstrate our understanding of advanced supervised learning by building a functional, interpretable recommendation system that could be used by stakeholders such as streaming platforms to enhance user engagement.\n",
    "\n"
   ]
  },
  {
   "cell_type": "markdown",
   "id": "8bfedc82",
   "metadata": {},
   "source": [
    "## **Project Objectives** \n",
    "\n",
    "### `Objective 1: Identify the Most Popular Movies by popularity`\n",
    "\n",
    "- Identifying the most popular movies based on number of ratings\n",
    "\n",
    "### `Objective 2: Analyze User Rating Activity`\n",
    "\n",
    "- Investigating how users rate movies — rating distribution, biases, and engagement levels.\n",
    "\n",
    "### `Objective 3: Analyze user rating trends`\n",
    "- Investigating how movie popularity based on user ratings over the years\n",
    "\n",
    "### `Objective 4: Build Content-Based and Collaborative Recommendation Systems`\n",
    "\n",
    "- Developing and evaluating advanced recommender models (e.g., collaborative filtering, matrix factorization, or hybrid methods).\n",
    "\n",
    "- Providing personalized movie recommendations for users.\n",
    "\n",
    "### `Objective 5: Build a Hybrid Recommender System`\n",
    "\n",
    "- Building a hybrid recommender system to merge the best of both worlds"
   ]
  },
  {
   "cell_type": "markdown",
   "id": "0942756e",
   "metadata": {},
   "source": [
    "## Importing Libraries"
   ]
  },
  {
   "cell_type": "code",
   "execution_count": 1,
   "id": "8e22ff17",
   "metadata": {},
   "outputs": [],
   "source": [
    "# Import necessary libraries\n",
    "import pandas as pd\n",
    "import numpy as np\n",
    "from surprise.model_selection import train_test_split, GridSearchCV, cross_validate\n",
    "from surprise.prediction_algorithms import knns, SVD\n",
    "from surprise.similarities import cosine, pearson\n",
    "import matplotlib.pyplot as plt\n",
    "import seaborn as sns\n",
    "from surprise import Dataset, Reader\n",
    "from sklearn.feature_extraction.text import CountVectorizer, TfidfVectorizer\n",
    "from sklearn.metrics.pairwise import linear_kernel\n",
    "from surprise import KNNBasic, KNNWithMeans, KNNBaseline\n",
    "from surprise import accuracy\n",
    "from sklearn.impute import SimpleImputer"
   ]
  },
  {
   "cell_type": "markdown",
   "id": "ba05cea2",
   "metadata": {},
   "source": [
    "## **Data Understanding **\n",
    "\n",
    "\n",
    " The datasets used in this project are from MovieLens ‘ml-latest’, downloaded from [GroupLens](https://files.grouplens.org/datasets/movielens/ml-latest.zip). The datasets contain four datasets which are:\n",
    "\n",
    "|   |Datasets       | Columns                                       |\n",
    "----|---------------|-----------------------------------------------|\n",
    "| 1 |ratings.csv    |userId, movieId, rating (0.5–5.0), timestamp`  |\n",
    "| 2 |movies.csv     |movieId, title, genres`                        |\n",
    "| 3 |tags.csv       |user-applied tags`                             |\n",
    "| 4|links.csv       |IDs mapping to IMDb/TMDb`                      |\n",
    "\n",
    "\n",
    "#### Relationships between datasets.\n",
    "\n",
    ">* The `movieId` column serves as the primary key linking all four datasets, `ratings.csv` captures user preferences and drives the recommendation model, `movies.csv` provides movie titles and genres for context, `tags.csv` adds user-generated keywords for richer content analysis and `links.csv` maps movies to IMDb and TMDb for external metadata enrichment.\n"
   ]
  },
  {
   "cell_type": "code",
   "execution_count": 2,
   "id": "4a1f080c",
   "metadata": {},
   "outputs": [
    {
     "name": "stdout",
     "output_type": "stream",
     "text": [
      "\n",
      "First 5 rows of movies.csv: \n",
      "\n"
     ]
    },
    {
     "data": {
      "text/html": [
       "<div>\n",
       "<style scoped>\n",
       "    .dataframe tbody tr th:only-of-type {\n",
       "        vertical-align: middle;\n",
       "    }\n",
       "\n",
       "    .dataframe tbody tr th {\n",
       "        vertical-align: top;\n",
       "    }\n",
       "\n",
       "    .dataframe thead th {\n",
       "        text-align: right;\n",
       "    }\n",
       "</style>\n",
       "<table border=\"1\" class=\"dataframe\">\n",
       "  <thead>\n",
       "    <tr style=\"text-align: right;\">\n",
       "      <th></th>\n",
       "      <th>movieId</th>\n",
       "      <th>title</th>\n",
       "      <th>genres</th>\n",
       "    </tr>\n",
       "  </thead>\n",
       "  <tbody>\n",
       "    <tr>\n",
       "      <th>0</th>\n",
       "      <td>1</td>\n",
       "      <td>Toy Story (1995)</td>\n",
       "      <td>Adventure|Animation|Children|Comedy|Fantasy</td>\n",
       "    </tr>\n",
       "    <tr>\n",
       "      <th>1</th>\n",
       "      <td>2</td>\n",
       "      <td>Jumanji (1995)</td>\n",
       "      <td>Adventure|Children|Fantasy</td>\n",
       "    </tr>\n",
       "    <tr>\n",
       "      <th>2</th>\n",
       "      <td>3</td>\n",
       "      <td>Grumpier Old Men (1995)</td>\n",
       "      <td>Comedy|Romance</td>\n",
       "    </tr>\n",
       "    <tr>\n",
       "      <th>3</th>\n",
       "      <td>4</td>\n",
       "      <td>Waiting to Exhale (1995)</td>\n",
       "      <td>Comedy|Drama|Romance</td>\n",
       "    </tr>\n",
       "    <tr>\n",
       "      <th>4</th>\n",
       "      <td>5</td>\n",
       "      <td>Father of the Bride Part II (1995)</td>\n",
       "      <td>Comedy</td>\n",
       "    </tr>\n",
       "  </tbody>\n",
       "</table>\n",
       "</div>"
      ],
      "text/plain": [
       "   movieId                               title  \\\n",
       "0        1                    Toy Story (1995)   \n",
       "1        2                      Jumanji (1995)   \n",
       "2        3             Grumpier Old Men (1995)   \n",
       "3        4            Waiting to Exhale (1995)   \n",
       "4        5  Father of the Bride Part II (1995)   \n",
       "\n",
       "                                        genres  \n",
       "0  Adventure|Animation|Children|Comedy|Fantasy  \n",
       "1                   Adventure|Children|Fantasy  \n",
       "2                               Comedy|Romance  \n",
       "3                         Comedy|Drama|Romance  \n",
       "4                                       Comedy  "
      ]
     },
     "metadata": {},
     "output_type": "display_data"
    },
    {
     "name": "stdout",
     "output_type": "stream",
     "text": [
      "\n",
      "\n",
      " First 5 rows of links.csv:\n"
     ]
    },
    {
     "data": {
      "text/html": [
       "<div>\n",
       "<style scoped>\n",
       "    .dataframe tbody tr th:only-of-type {\n",
       "        vertical-align: middle;\n",
       "    }\n",
       "\n",
       "    .dataframe tbody tr th {\n",
       "        vertical-align: top;\n",
       "    }\n",
       "\n",
       "    .dataframe thead th {\n",
       "        text-align: right;\n",
       "    }\n",
       "</style>\n",
       "<table border=\"1\" class=\"dataframe\">\n",
       "  <thead>\n",
       "    <tr style=\"text-align: right;\">\n",
       "      <th></th>\n",
       "      <th>imdbId</th>\n",
       "      <th>tmdbId</th>\n",
       "    </tr>\n",
       "    <tr>\n",
       "      <th>movieId</th>\n",
       "      <th></th>\n",
       "      <th></th>\n",
       "    </tr>\n",
       "  </thead>\n",
       "  <tbody>\n",
       "    <tr>\n",
       "      <th>1</th>\n",
       "      <td>114709</td>\n",
       "      <td>862.0</td>\n",
       "    </tr>\n",
       "    <tr>\n",
       "      <th>2</th>\n",
       "      <td>113497</td>\n",
       "      <td>8844.0</td>\n",
       "    </tr>\n",
       "    <tr>\n",
       "      <th>3</th>\n",
       "      <td>113228</td>\n",
       "      <td>15602.0</td>\n",
       "    </tr>\n",
       "    <tr>\n",
       "      <th>4</th>\n",
       "      <td>114885</td>\n",
       "      <td>31357.0</td>\n",
       "    </tr>\n",
       "    <tr>\n",
       "      <th>5</th>\n",
       "      <td>113041</td>\n",
       "      <td>11862.0</td>\n",
       "    </tr>\n",
       "  </tbody>\n",
       "</table>\n",
       "</div>"
      ],
      "text/plain": [
       "         imdbId   tmdbId\n",
       "movieId                 \n",
       "1        114709    862.0\n",
       "2        113497   8844.0\n",
       "3        113228  15602.0\n",
       "4        114885  31357.0\n",
       "5        113041  11862.0"
      ]
     },
     "metadata": {},
     "output_type": "display_data"
    },
    {
     "name": "stdout",
     "output_type": "stream",
     "text": [
      "\n",
      "\n",
      "First 5 rows of ratings.csv:\n"
     ]
    },
    {
     "data": {
      "text/html": [
       "<div>\n",
       "<style scoped>\n",
       "    .dataframe tbody tr th:only-of-type {\n",
       "        vertical-align: middle;\n",
       "    }\n",
       "\n",
       "    .dataframe tbody tr th {\n",
       "        vertical-align: top;\n",
       "    }\n",
       "\n",
       "    .dataframe thead th {\n",
       "        text-align: right;\n",
       "    }\n",
       "</style>\n",
       "<table border=\"1\" class=\"dataframe\">\n",
       "  <thead>\n",
       "    <tr style=\"text-align: right;\">\n",
       "      <th></th>\n",
       "      <th>userId</th>\n",
       "      <th>movieId</th>\n",
       "      <th>rating</th>\n",
       "      <th>timestamp</th>\n",
       "    </tr>\n",
       "  </thead>\n",
       "  <tbody>\n",
       "    <tr>\n",
       "      <th>0</th>\n",
       "      <td>1</td>\n",
       "      <td>1</td>\n",
       "      <td>4.0</td>\n",
       "      <td>964982703</td>\n",
       "    </tr>\n",
       "    <tr>\n",
       "      <th>1</th>\n",
       "      <td>1</td>\n",
       "      <td>3</td>\n",
       "      <td>4.0</td>\n",
       "      <td>964981247</td>\n",
       "    </tr>\n",
       "    <tr>\n",
       "      <th>2</th>\n",
       "      <td>1</td>\n",
       "      <td>6</td>\n",
       "      <td>4.0</td>\n",
       "      <td>964982224</td>\n",
       "    </tr>\n",
       "    <tr>\n",
       "      <th>3</th>\n",
       "      <td>1</td>\n",
       "      <td>47</td>\n",
       "      <td>5.0</td>\n",
       "      <td>964983815</td>\n",
       "    </tr>\n",
       "    <tr>\n",
       "      <th>4</th>\n",
       "      <td>1</td>\n",
       "      <td>50</td>\n",
       "      <td>5.0</td>\n",
       "      <td>964982931</td>\n",
       "    </tr>\n",
       "  </tbody>\n",
       "</table>\n",
       "</div>"
      ],
      "text/plain": [
       "   userId  movieId  rating  timestamp\n",
       "0       1        1     4.0  964982703\n",
       "1       1        3     4.0  964981247\n",
       "2       1        6     4.0  964982224\n",
       "3       1       47     5.0  964983815\n",
       "4       1       50     5.0  964982931"
      ]
     },
     "metadata": {},
     "output_type": "display_data"
    },
    {
     "name": "stdout",
     "output_type": "stream",
     "text": [
      "\n",
      "\n",
      "First 5 rows of tags.csv:\n"
     ]
    },
    {
     "data": {
      "text/html": [
       "<div>\n",
       "<style scoped>\n",
       "    .dataframe tbody tr th:only-of-type {\n",
       "        vertical-align: middle;\n",
       "    }\n",
       "\n",
       "    .dataframe tbody tr th {\n",
       "        vertical-align: top;\n",
       "    }\n",
       "\n",
       "    .dataframe thead th {\n",
       "        text-align: right;\n",
       "    }\n",
       "</style>\n",
       "<table border=\"1\" class=\"dataframe\">\n",
       "  <thead>\n",
       "    <tr style=\"text-align: right;\">\n",
       "      <th></th>\n",
       "      <th>userId</th>\n",
       "      <th>movieId</th>\n",
       "      <th>tag</th>\n",
       "      <th>timestamp</th>\n",
       "    </tr>\n",
       "  </thead>\n",
       "  <tbody>\n",
       "    <tr>\n",
       "      <th>0</th>\n",
       "      <td>2</td>\n",
       "      <td>60756</td>\n",
       "      <td>funny</td>\n",
       "      <td>1445714994</td>\n",
       "    </tr>\n",
       "    <tr>\n",
       "      <th>1</th>\n",
       "      <td>2</td>\n",
       "      <td>60756</td>\n",
       "      <td>Highly quotable</td>\n",
       "      <td>1445714996</td>\n",
       "    </tr>\n",
       "    <tr>\n",
       "      <th>2</th>\n",
       "      <td>2</td>\n",
       "      <td>60756</td>\n",
       "      <td>will ferrell</td>\n",
       "      <td>1445714992</td>\n",
       "    </tr>\n",
       "    <tr>\n",
       "      <th>3</th>\n",
       "      <td>2</td>\n",
       "      <td>89774</td>\n",
       "      <td>Boxing story</td>\n",
       "      <td>1445715207</td>\n",
       "    </tr>\n",
       "    <tr>\n",
       "      <th>4</th>\n",
       "      <td>2</td>\n",
       "      <td>89774</td>\n",
       "      <td>MMA</td>\n",
       "      <td>1445715200</td>\n",
       "    </tr>\n",
       "  </tbody>\n",
       "</table>\n",
       "</div>"
      ],
      "text/plain": [
       "   userId  movieId              tag   timestamp\n",
       "0       2    60756            funny  1445714994\n",
       "1       2    60756  Highly quotable  1445714996\n",
       "2       2    60756     will ferrell  1445714992\n",
       "3       2    89774     Boxing story  1445715207\n",
       "4       2    89774              MMA  1445715200"
      ]
     },
     "metadata": {},
     "output_type": "display_data"
    }
   ],
   "source": [
    "# Load datasets\n",
    "movies = pd.read_csv('data/movies.csv')\n",
    "links = pd.read_csv('data/links.csv', index_col=0)\n",
    "ratings = pd.read_csv('data/ratings.csv')\n",
    "tag = pd.read_csv('data/tags.csv')\n",
    "\n",
    "# Load movies.csv\n",
    "print(\"\\nFirst 5 rows of movies.csv: \\n\")\n",
    "display(movies.head())\n",
    "\n",
    "# Load links.csv\n",
    "print(\"\\n\\n First 5 rows of links.csv:\")\n",
    "display(links.head())\n",
    "\n",
    "# Load ratings.csv\n",
    "print(\"\\n\\nFirst 5 rows of ratings.csv:\")\n",
    "display(ratings.head())\n",
    "\n",
    "# Load tags.csv\n",
    "print(\"\\n\\nFirst 5 rows of tags.csv:\")\n",
    "display(tag.head())"
   ]
  },
  {
   "cell_type": "markdown",
   "id": "55235798",
   "metadata": {},
   "source": [
    "### Movies Dataset\n",
    "\n",
    "#### Column Descriptions\n",
    "\n",
    "- movieId: Unique identifier for each movie.\n",
    "\n",
    "- title: The movie title, including the release year.\n",
    "\n",
    "- genres: A pipe-separated list of genres associated with the movie. Movies can belong to multiple genres."
   ]
  },
  {
   "cell_type": "code",
   "execution_count": 3,
   "id": "e276cfb3",
   "metadata": {},
   "outputs": [
    {
     "data": {
      "text/html": [
       "<div>\n",
       "<style scoped>\n",
       "    .dataframe tbody tr th:only-of-type {\n",
       "        vertical-align: middle;\n",
       "    }\n",
       "\n",
       "    .dataframe tbody tr th {\n",
       "        vertical-align: top;\n",
       "    }\n",
       "\n",
       "    .dataframe thead th {\n",
       "        text-align: right;\n",
       "    }\n",
       "</style>\n",
       "<table border=\"1\" class=\"dataframe\">\n",
       "  <thead>\n",
       "    <tr style=\"text-align: right;\">\n",
       "      <th></th>\n",
       "      <th>movieId</th>\n",
       "      <th>title</th>\n",
       "      <th>genres</th>\n",
       "    </tr>\n",
       "  </thead>\n",
       "  <tbody>\n",
       "    <tr>\n",
       "      <th>0</th>\n",
       "      <td>1</td>\n",
       "      <td>Toy Story (1995)</td>\n",
       "      <td>Adventure|Animation|Children|Comedy|Fantasy</td>\n",
       "    </tr>\n",
       "    <tr>\n",
       "      <th>1</th>\n",
       "      <td>2</td>\n",
       "      <td>Jumanji (1995)</td>\n",
       "      <td>Adventure|Children|Fantasy</td>\n",
       "    </tr>\n",
       "    <tr>\n",
       "      <th>2</th>\n",
       "      <td>3</td>\n",
       "      <td>Grumpier Old Men (1995)</td>\n",
       "      <td>Comedy|Romance</td>\n",
       "    </tr>\n",
       "    <tr>\n",
       "      <th>3</th>\n",
       "      <td>4</td>\n",
       "      <td>Waiting to Exhale (1995)</td>\n",
       "      <td>Comedy|Drama|Romance</td>\n",
       "    </tr>\n",
       "    <tr>\n",
       "      <th>4</th>\n",
       "      <td>5</td>\n",
       "      <td>Father of the Bride Part II (1995)</td>\n",
       "      <td>Comedy</td>\n",
       "    </tr>\n",
       "  </tbody>\n",
       "</table>\n",
       "</div>"
      ],
      "text/plain": [
       "   movieId                               title  \\\n",
       "0        1                    Toy Story (1995)   \n",
       "1        2                      Jumanji (1995)   \n",
       "2        3             Grumpier Old Men (1995)   \n",
       "3        4            Waiting to Exhale (1995)   \n",
       "4        5  Father of the Bride Part II (1995)   \n",
       "\n",
       "                                        genres  \n",
       "0  Adventure|Animation|Children|Comedy|Fantasy  \n",
       "1                   Adventure|Children|Fantasy  \n",
       "2                               Comedy|Romance  \n",
       "3                         Comedy|Drama|Romance  \n",
       "4                                       Comedy  "
      ]
     },
     "execution_count": 3,
     "metadata": {},
     "output_type": "execute_result"
    }
   ],
   "source": [
    "# Display the first few rows of the movies DataFrame\n",
    "movies.head()"
   ]
  },
  {
   "cell_type": "markdown",
   "id": "80c5b429",
   "metadata": {},
   "source": [
    "Let’s begin by exploring the dataset’s summary and descriptive statistics. We’ll use the `summary` function from the `data_utils` module, which contains a collection of pre-built utility functions for streamlined data analysis."
   ]
  },
  {
   "cell_type": "code",
   "execution_count": 4,
   "id": "f42b5e46",
   "metadata": {},
   "outputs": [
    {
     "name": "stdout",
     "output_type": "stream",
     "text": [
      "-------- Dataframe Shape -------\n",
      "\n",
      "The dataframe has 9742 rows and 3 columns\n",
      "\n",
      "-------- Dataframe Info --------\n",
      "\n",
      "<class 'pandas.core.frame.DataFrame'>\n",
      "RangeIndex: 9742 entries, 0 to 9741\n",
      "Data columns (total 3 columns):\n",
      " #   Column   Non-Null Count  Dtype \n",
      "---  ------   --------------  ----- \n",
      " 0   movieId  9742 non-null   int64 \n",
      " 1   title    9742 non-null   object\n",
      " 2   genres   9742 non-null   object\n",
      "dtypes: int64(1), object(2)\n",
      "memory usage: 228.5+ KB\n",
      "None\n",
      "\n",
      "\n",
      "-------- Dataframe Descriptive Statistics --------\n",
      "\n",
      "             movieId\n",
      "count    9742.000000\n",
      "mean    42200.353623\n",
      "std     52160.494854\n",
      "min         1.000000\n",
      "25%      3248.250000\n",
      "50%      7300.000000\n",
      "75%     76232.000000\n",
      "max    193609.000000\n",
      "\n",
      "\n"
     ]
    }
   ],
   "source": [
    "# Import the summary function from data_utils module\n",
    "from data_utils import summary\n",
    "\n",
    "# Display summary of the movies DataFrame\n",
    "summary(movies)"
   ]
  },
  {
   "cell_type": "markdown",
   "id": "0ff24b8c",
   "metadata": {},
   "source": [
    "All columns appear to have appropriate data types.\n",
    "Notably, the maximum movieId is 193609, while the dataset contains only 9,742 unique entries. This suggests that either:\n",
    "\n",
    "* Some movieIds are missing (gaps in allocation), or\n",
    "\n",
    "* movieIds are not assigned sequentially, possibly due to removals or external database linkage.\n",
    "\n",
    "Next, let's check for missing and duplicate values using `data_integrity` function from `data_utils`"
   ]
  },
  {
   "cell_type": "code",
   "execution_count": 5,
   "id": "01bb8b30",
   "metadata": {},
   "outputs": [
    {
     "name": "stdout",
     "output_type": "stream",
     "text": [
      "-------- DataFrame Missing Values --------\n",
      "\n",
      "movieId    0\n",
      "title      0\n",
      "genres     0\n",
      "dtype: int64\n",
      "\n",
      "\n",
      "-------- Dataframe Duplicate Values --------\n",
      "\n",
      "False    9742\n",
      "dtype: int64\n"
     ]
    }
   ],
   "source": [
    "# Import the data_integrity function from data_utils module\n",
    "from data_utils import data_integrity\n",
    "\n",
    "# Check for missing and duplicate values\n",
    "data_integrity(movies)"
   ]
  },
  {
   "cell_type": "markdown",
   "id": "e9425ac1",
   "metadata": {},
   "source": [
    "There seem to be no missing or duplicate values in this dataset. Let's now proceed to the next dataset.\n",
    "\n",
    "### Ratings Dataset\n",
    "\n",
    "#### Column Descriptions\n",
    "\n",
    "- userId: Unique identifier for each user who rated at least one movie.\n",
    "\n",
    "- movieId: Foreign key referencing movies.csv.\n",
    "\n",
    "- rating: The rating score assigned by the user (typically from 0.5 to 5.0 in 0.5 increments).\n",
    "\n",
    "- timestamp: Unix time format indicating when the rating was given.\n",
    "\n",
    "Let's preview the contents of the dataset:"
   ]
  },
  {
   "cell_type": "code",
   "execution_count": 6,
   "id": "b6c4c917",
   "metadata": {},
   "outputs": [
    {
     "data": {
      "text/html": [
       "<div>\n",
       "<style scoped>\n",
       "    .dataframe tbody tr th:only-of-type {\n",
       "        vertical-align: middle;\n",
       "    }\n",
       "\n",
       "    .dataframe tbody tr th {\n",
       "        vertical-align: top;\n",
       "    }\n",
       "\n",
       "    .dataframe thead th {\n",
       "        text-align: right;\n",
       "    }\n",
       "</style>\n",
       "<table border=\"1\" class=\"dataframe\">\n",
       "  <thead>\n",
       "    <tr style=\"text-align: right;\">\n",
       "      <th></th>\n",
       "      <th>userId</th>\n",
       "      <th>movieId</th>\n",
       "      <th>rating</th>\n",
       "      <th>timestamp</th>\n",
       "    </tr>\n",
       "  </thead>\n",
       "  <tbody>\n",
       "    <tr>\n",
       "      <th>0</th>\n",
       "      <td>1</td>\n",
       "      <td>1</td>\n",
       "      <td>4.0</td>\n",
       "      <td>964982703</td>\n",
       "    </tr>\n",
       "    <tr>\n",
       "      <th>1</th>\n",
       "      <td>1</td>\n",
       "      <td>3</td>\n",
       "      <td>4.0</td>\n",
       "      <td>964981247</td>\n",
       "    </tr>\n",
       "    <tr>\n",
       "      <th>2</th>\n",
       "      <td>1</td>\n",
       "      <td>6</td>\n",
       "      <td>4.0</td>\n",
       "      <td>964982224</td>\n",
       "    </tr>\n",
       "    <tr>\n",
       "      <th>3</th>\n",
       "      <td>1</td>\n",
       "      <td>47</td>\n",
       "      <td>5.0</td>\n",
       "      <td>964983815</td>\n",
       "    </tr>\n",
       "    <tr>\n",
       "      <th>4</th>\n",
       "      <td>1</td>\n",
       "      <td>50</td>\n",
       "      <td>5.0</td>\n",
       "      <td>964982931</td>\n",
       "    </tr>\n",
       "  </tbody>\n",
       "</table>\n",
       "</div>"
      ],
      "text/plain": [
       "   userId  movieId  rating  timestamp\n",
       "0       1        1     4.0  964982703\n",
       "1       1        3     4.0  964981247\n",
       "2       1        6     4.0  964982224\n",
       "3       1       47     5.0  964983815\n",
       "4       1       50     5.0  964982931"
      ]
     },
     "execution_count": 6,
     "metadata": {},
     "output_type": "execute_result"
    }
   ],
   "source": [
    "# Display the first few rows of the ratings DataFrame\n",
    "ratings.head()"
   ]
  },
  {
   "cell_type": "markdown",
   "id": "656af685",
   "metadata": {},
   "source": [
    "The dataset has both the userId and the movieId. These two columns may come in handy in the data preparation step when we want to merge it to other datasets. Let's now check the dataset summary using our `summary` function.\n"
   ]
  },
  {
   "cell_type": "code",
   "execution_count": 7,
   "id": "5b882bec",
   "metadata": {},
   "outputs": [
    {
     "name": "stdout",
     "output_type": "stream",
     "text": [
      "-------- Dataframe Shape -------\n",
      "\n",
      "The dataframe has 100836 rows and 4 columns\n",
      "\n",
      "-------- Dataframe Info --------\n",
      "\n",
      "<class 'pandas.core.frame.DataFrame'>\n",
      "RangeIndex: 100836 entries, 0 to 100835\n",
      "Data columns (total 4 columns):\n",
      " #   Column     Non-Null Count   Dtype  \n",
      "---  ------     --------------   -----  \n",
      " 0   userId     100836 non-null  int64  \n",
      " 1   movieId    100836 non-null  int64  \n",
      " 2   rating     100836 non-null  float64\n",
      " 3   timestamp  100836 non-null  int64  \n",
      "dtypes: float64(1), int64(3)\n",
      "memory usage: 3.1 MB\n",
      "None\n",
      "\n",
      "\n",
      "-------- Dataframe Descriptive Statistics --------\n",
      "\n",
      "              userId        movieId         rating     timestamp\n",
      "count  100836.000000  100836.000000  100836.000000  1.008360e+05\n",
      "mean      326.127564   19435.295718       3.501557  1.205946e+09\n",
      "std       182.618491   35530.987199       1.042529  2.162610e+08\n",
      "min         1.000000       1.000000       0.500000  8.281246e+08\n",
      "25%       177.000000    1199.000000       3.000000  1.019124e+09\n",
      "50%       325.000000    2991.000000       3.500000  1.186087e+09\n",
      "75%       477.000000    8122.000000       4.000000  1.435994e+09\n",
      "max       610.000000  193609.000000       5.000000  1.537799e+09\n",
      "\n",
      "\n"
     ]
    }
   ],
   "source": [
    "# Display summary of the ratings DataFrame\n",
    "summary(ratings)"
   ]
  },
  {
   "cell_type": "markdown",
   "id": "e475cd4f",
   "metadata": {},
   "source": [
    "The columns appear to have appropriate data types.\n",
    "A key observation is that while the maximum userId is 610, the dataset contains 100,836 total ratings. This indicates that users are highly active and tend to rate multiple movies.\n",
    "Additionally, the timestamp column does not provide any immediate analytical value for our use case and will be dropped during the data preparation phase.\n",
    "\n",
    "Next, let's check for missing and duplicate values:"
   ]
  },
  {
   "cell_type": "code",
   "execution_count": 8,
   "id": "ad5ab5e6",
   "metadata": {},
   "outputs": [
    {
     "name": "stdout",
     "output_type": "stream",
     "text": [
      "-------- DataFrame Missing Values --------\n",
      "\n",
      "userId       0\n",
      "movieId      0\n",
      "rating       0\n",
      "timestamp    0\n",
      "dtype: int64\n",
      "\n",
      "\n",
      "-------- Dataframe Duplicate Values --------\n",
      "\n",
      "False    100836\n",
      "dtype: int64\n"
     ]
    }
   ],
   "source": [
    "# CHeck for missing values\n",
    "data_integrity(ratings)"
   ]
  },
  {
   "cell_type": "markdown",
   "id": "766c0eed",
   "metadata": {},
   "source": [
    "The dataset contains no missing or duplicate values.\n",
    "Next, we’ll explore the rating column to examine the distribution of user ratings across movies."
   ]
  },
  {
   "cell_type": "code",
   "execution_count": null,
   "id": "b1e240c4",
   "metadata": {},
   "outputs": [
    {
     "data": {
      "image/png": "[encoded data removed]",
      "text/plain": [
       "<Figure size 720x432 with 1 Axes>"
      ]
     },
     "metadata": {
      "needs_background": "light"
     },
     "output_type": "display_data"
    }
   ],
   "source": [
    "# Visualize the distribution of ratings\n",
    "plt.figure(figsize=(10, 6))\n",
    "sns.set_style('darkgrid') # Set the style for seaborn\n",
    "sns.histplot(ratings['rating'], bins=10, color=\"#0552AA\", edgecolor='black')\n",
    "plt.axvline(ratings['rating'].mean(), color='red', linestyle='dashed', linewidth=1)\n",
    "plt.xticks(ticks=[0,1,2,3,4,5])\n",
    "plt.xlim(0, 5.3)\n",
    "plt.xlabel('Rating')\n",
    "plt.ylabel('Count')\n",
    "plt.title('Distribution of Ratings')\n",
    "plt.show();\n"
   ]
  },
  {
   "cell_type": "markdown",
   "id": "0ba588bc",
   "metadata": {},
   "source": [
    "***Observation:*** Users tend to give positive ratings (many 4 and 5 stars) and use half-star ratings.This shows us we have good positive feedback to learn from and that users provide detailed preferences. It also suggests we need models that can handle variations in how users rate."
   ]
  },
  {
   "cell_type": "markdown",
   "id": "7fd890e4",
   "metadata": {},
   "source": [
    "### Links Dataset\n",
    "\n",
    "#### Column Description\n",
    "- movieId: Matches the movieId in other datasets.\n",
    "\n",
    "- imdbId: Corresponding IMDb identifier.\n",
    "\n",
    "- tmdbId: Corresponding The Movie Database (TMDb) identifier."
   ]
  },
  {
   "cell_type": "code",
   "execution_count": 10,
   "id": "26e79f19",
   "metadata": {},
   "outputs": [
    {
     "data": {
      "text/html": [
       "<div>\n",
       "<style scoped>\n",
       "    .dataframe tbody tr th:only-of-type {\n",
       "        vertical-align: middle;\n",
       "    }\n",
       "\n",
       "    .dataframe tbody tr th {\n",
       "        vertical-align: top;\n",
       "    }\n",
       "\n",
       "    .dataframe thead th {\n",
       "        text-align: right;\n",
       "    }\n",
       "</style>\n",
       "<table border=\"1\" class=\"dataframe\">\n",
       "  <thead>\n",
       "    <tr style=\"text-align: right;\">\n",
       "      <th></th>\n",
       "      <th>imdbId</th>\n",
       "      <th>tmdbId</th>\n",
       "    </tr>\n",
       "    <tr>\n",
       "      <th>movieId</th>\n",
       "      <th></th>\n",
       "      <th></th>\n",
       "    </tr>\n",
       "  </thead>\n",
       "  <tbody>\n",
       "    <tr>\n",
       "      <th>1</th>\n",
       "      <td>114709</td>\n",
       "      <td>862.0</td>\n",
       "    </tr>\n",
       "    <tr>\n",
       "      <th>2</th>\n",
       "      <td>113497</td>\n",
       "      <td>8844.0</td>\n",
       "    </tr>\n",
       "    <tr>\n",
       "      <th>3</th>\n",
       "      <td>113228</td>\n",
       "      <td>15602.0</td>\n",
       "    </tr>\n",
       "    <tr>\n",
       "      <th>4</th>\n",
       "      <td>114885</td>\n",
       "      <td>31357.0</td>\n",
       "    </tr>\n",
       "    <tr>\n",
       "      <th>5</th>\n",
       "      <td>113041</td>\n",
       "      <td>11862.0</td>\n",
       "    </tr>\n",
       "  </tbody>\n",
       "</table>\n",
       "</div>"
      ],
      "text/plain": [
       "         imdbId   tmdbId\n",
       "movieId                 \n",
       "1        114709    862.0\n",
       "2        113497   8844.0\n",
       "3        113228  15602.0\n",
       "4        114885  31357.0\n",
       "5        113041  11862.0"
      ]
     },
     "execution_count": 10,
     "metadata": {},
     "output_type": "execute_result"
    }
   ],
   "source": [
    "# Display the first few rows of the links DataFrame\n",
    "links.head()"
   ]
  },
  {
   "cell_type": "markdown",
   "id": "cebc470e",
   "metadata": {},
   "source": [
    "This dataset doesn't seem to bring any benefit to our analysis and will be dropped moving forward"
   ]
  },
  {
   "cell_type": "markdown",
   "id": "97ec283f",
   "metadata": {},
   "source": [
    "### Tag Dataset\n",
    "\n",
    "#### Column Description\n",
    "\n",
    "- userId: Unique identifier for the user who applied the tag.\n",
    "\n",
    "- movieId: References the movieId in the movies.csv dataset.\n",
    "\n",
    "- tag: A user-defined label or keyword associated with the movie. Tags can describe tone (“funny”), content (“MMA”), actors (“will ferrell”), or themes."
   ]
  },
  {
   "cell_type": "code",
   "execution_count": 11,
   "id": "3d6f3370",
   "metadata": {},
   "outputs": [
    {
     "data": {
      "text/html": [
       "<div>\n",
       "<style scoped>\n",
       "    .dataframe tbody tr th:only-of-type {\n",
       "        vertical-align: middle;\n",
       "    }\n",
       "\n",
       "    .dataframe tbody tr th {\n",
       "        vertical-align: top;\n",
       "    }\n",
       "\n",
       "    .dataframe thead th {\n",
       "        text-align: right;\n",
       "    }\n",
       "</style>\n",
       "<table border=\"1\" class=\"dataframe\">\n",
       "  <thead>\n",
       "    <tr style=\"text-align: right;\">\n",
       "      <th></th>\n",
       "      <th>userId</th>\n",
       "      <th>movieId</th>\n",
       "      <th>tag</th>\n",
       "      <th>timestamp</th>\n",
       "    </tr>\n",
       "  </thead>\n",
       "  <tbody>\n",
       "    <tr>\n",
       "      <th>0</th>\n",
       "      <td>2</td>\n",
       "      <td>60756</td>\n",
       "      <td>funny</td>\n",
       "      <td>1445714994</td>\n",
       "    </tr>\n",
       "    <tr>\n",
       "      <th>1</th>\n",
       "      <td>2</td>\n",
       "      <td>60756</td>\n",
       "      <td>Highly quotable</td>\n",
       "      <td>1445714996</td>\n",
       "    </tr>\n",
       "    <tr>\n",
       "      <th>2</th>\n",
       "      <td>2</td>\n",
       "      <td>60756</td>\n",
       "      <td>will ferrell</td>\n",
       "      <td>1445714992</td>\n",
       "    </tr>\n",
       "    <tr>\n",
       "      <th>3</th>\n",
       "      <td>2</td>\n",
       "      <td>89774</td>\n",
       "      <td>Boxing story</td>\n",
       "      <td>1445715207</td>\n",
       "    </tr>\n",
       "    <tr>\n",
       "      <th>4</th>\n",
       "      <td>2</td>\n",
       "      <td>89774</td>\n",
       "      <td>MMA</td>\n",
       "      <td>1445715200</td>\n",
       "    </tr>\n",
       "  </tbody>\n",
       "</table>\n",
       "</div>"
      ],
      "text/plain": [
       "   userId  movieId              tag   timestamp\n",
       "0       2    60756            funny  1445714994\n",
       "1       2    60756  Highly quotable  1445714996\n",
       "2       2    60756     will ferrell  1445714992\n",
       "3       2    89774     Boxing story  1445715207\n",
       "4       2    89774              MMA  1445715200"
      ]
     },
     "execution_count": 11,
     "metadata": {},
     "output_type": "execute_result"
    }
   ],
   "source": [
    "# Display the first few rows of the tag DataFrame\n",
    "tag.head()"
   ]
  },
  {
   "cell_type": "code",
   "execution_count": 12,
   "id": "8693c58a",
   "metadata": {},
   "outputs": [
    {
     "name": "stdout",
     "output_type": "stream",
     "text": [
      "-------- Dataframe Shape -------\n",
      "\n",
      "The dataframe has 3683 rows and 4 columns\n",
      "\n",
      "-------- Dataframe Info --------\n",
      "\n",
      "<class 'pandas.core.frame.DataFrame'>\n",
      "RangeIndex: 3683 entries, 0 to 3682\n",
      "Data columns (total 4 columns):\n",
      " #   Column     Non-Null Count  Dtype \n",
      "---  ------     --------------  ----- \n",
      " 0   userId     3683 non-null   int64 \n",
      " 1   movieId    3683 non-null   int64 \n",
      " 2   tag        3683 non-null   object\n",
      " 3   timestamp  3683 non-null   int64 \n",
      "dtypes: int64(3), object(1)\n",
      "memory usage: 115.2+ KB\n",
      "None\n",
      "\n",
      "\n",
      "-------- Dataframe Descriptive Statistics --------\n",
      "\n",
      "            userId        movieId     timestamp\n",
      "count  3683.000000    3683.000000  3.683000e+03\n",
      "mean    431.149335   27252.013576  1.320032e+09\n",
      "std     158.472553   43490.558803  1.721025e+08\n",
      "min       2.000000       1.000000  1.137179e+09\n",
      "25%     424.000000    1262.500000  1.137521e+09\n",
      "50%     474.000000    4454.000000  1.269833e+09\n",
      "75%     477.000000   39263.000000  1.498457e+09\n",
      "max     610.000000  193565.000000  1.537099e+09\n",
      "\n",
      "\n"
     ]
    }
   ],
   "source": [
    "# Display summary of the tag DataFrame\n",
    "summary(tag)"
   ]
  },
  {
   "cell_type": "markdown",
   "id": "6ebbc1d2",
   "metadata": {},
   "source": [
    "All the columns seem to be of the correct data type. This dataset also has both the userId and movieId which will come in handy in merging it with other datasets. \n",
    "\n",
    "Let's explore the most common user tags used in movies:"
   ]
  },
  {
   "cell_type": "code",
   "execution_count": 13,
   "id": "cb44fd53",
   "metadata": {},
   "outputs": [
    {
     "data": {
      "text/plain": [
       "Text(0.5, 1.0, 'Most Common User Tags')"
      ]
     },
     "execution_count": 13,
     "metadata": {},
     "output_type": "execute_result"
    },
    {
     "data": {
      "image/png": "[encoded data removed]",
      "text/plain": [
       "<Figure size 720x432 with 1 Axes>"
      ]
     },
     "metadata": {},
     "output_type": "display_data"
    }
   ],
   "source": [
    "common_tags = tag['tag'].value_counts().head(10)\n",
    "plt.figure(figsize=(10, 6))\n",
    "sns.barplot(x=common_tags.index, y=common_tags.values, palette='mako')\n",
    "plt.xticks(rotation=45)\n",
    "plt.xlabel('Tags')\n",
    "plt.ylabel('Count')\n",
    "plt.title('Most Common User Tags')"
   ]
  },
  {
   "cell_type": "markdown",
   "id": "f4e293d1",
   "metadata": {},
   "source": [
    "Ironically, the most common tag—**In Netflix queue**—suggests that many users tagging movies hadn’t actually watched them yet.\n",
    "This highlights an interesting behavior: users often tag movies they plan to watch rather than those they've already seen, which may introduce noise or intent-based bias in tag-based recommendation models.\n",
    "\n",
    "Next, let's check for missing and duplicate values"
   ]
  },
  {
   "cell_type": "code",
   "execution_count": 14,
   "id": "d28bb95c",
   "metadata": {},
   "outputs": [
    {
     "name": "stdout",
     "output_type": "stream",
     "text": [
      "-------- DataFrame Missing Values --------\n",
      "\n",
      "userId       0\n",
      "movieId      0\n",
      "tag          0\n",
      "timestamp    0\n",
      "dtype: int64\n",
      "\n",
      "\n",
      "-------- Dataframe Duplicate Values --------\n",
      "\n",
      "False    3683\n",
      "dtype: int64\n"
     ]
    }
   ],
   "source": [
    "# Check data integrity for the tag DataFrame\n",
    "data_integrity(tag)"
   ]
  },
  {
   "cell_type": "markdown",
   "id": "38a6c6e0",
   "metadata": {},
   "source": [
    "The dataset doesn't have any missing or duplicate values. We can now move on to data preparation."
   ]
  },
  {
   "cell_type": "markdown",
   "id": "2ff082ee",
   "metadata": {},
   "source": [
    "## Data Preparation \n",
    "\n",
    "The data preparation step aims to prepare the data for modelling and visualization. Key steps include dropping unnecessary columns, dropping missing and duplicate columns if any and merging relevant datasets.\n",
    "\n",
    "Before we start any merging, let's remove `timestamp` column from the `ratings` and `tag` dataframe:"
   ]
  },
  {
   "cell_type": "code",
   "execution_count": 15,
   "id": "93a1afd8",
   "metadata": {},
   "outputs": [],
   "source": [
    "# Drop the 'timestamp' column from ratings and tag DataFrames\n",
    "tag.drop('timestamp', axis=1, inplace=True)\n",
    "ratings.drop('timestamp', axis=1, inplace=True)"
   ]
  },
  {
   "cell_type": "markdown",
   "id": "bf44e76d",
   "metadata": {},
   "source": [
    "One notable dataset that needed a bit of cleaning was the movies dataframe. Let's preview it once more to check the issues."
   ]
  },
  {
   "cell_type": "code",
   "execution_count": 16,
   "id": "4114502b",
   "metadata": {},
   "outputs": [
    {
     "data": {
      "text/html": [
       "<div>\n",
       "<style scoped>\n",
       "    .dataframe tbody tr th:only-of-type {\n",
       "        vertical-align: middle;\n",
       "    }\n",
       "\n",
       "    .dataframe tbody tr th {\n",
       "        vertical-align: top;\n",
       "    }\n",
       "\n",
       "    .dataframe thead th {\n",
       "        text-align: right;\n",
       "    }\n",
       "</style>\n",
       "<table border=\"1\" class=\"dataframe\">\n",
       "  <thead>\n",
       "    <tr style=\"text-align: right;\">\n",
       "      <th></th>\n",
       "      <th>movieId</th>\n",
       "      <th>title</th>\n",
       "      <th>genres</th>\n",
       "    </tr>\n",
       "  </thead>\n",
       "  <tbody>\n",
       "    <tr>\n",
       "      <th>0</th>\n",
       "      <td>1</td>\n",
       "      <td>Toy Story (1995)</td>\n",
       "      <td>Adventure|Animation|Children|Comedy|Fantasy</td>\n",
       "    </tr>\n",
       "    <tr>\n",
       "      <th>1</th>\n",
       "      <td>2</td>\n",
       "      <td>Jumanji (1995)</td>\n",
       "      <td>Adventure|Children|Fantasy</td>\n",
       "    </tr>\n",
       "    <tr>\n",
       "      <th>2</th>\n",
       "      <td>3</td>\n",
       "      <td>Grumpier Old Men (1995)</td>\n",
       "      <td>Comedy|Romance</td>\n",
       "    </tr>\n",
       "    <tr>\n",
       "      <th>3</th>\n",
       "      <td>4</td>\n",
       "      <td>Waiting to Exhale (1995)</td>\n",
       "      <td>Comedy|Drama|Romance</td>\n",
       "    </tr>\n",
       "    <tr>\n",
       "      <th>4</th>\n",
       "      <td>5</td>\n",
       "      <td>Father of the Bride Part II (1995)</td>\n",
       "      <td>Comedy</td>\n",
       "    </tr>\n",
       "  </tbody>\n",
       "</table>\n",
       "</div>"
      ],
      "text/plain": [
       "   movieId                               title  \\\n",
       "0        1                    Toy Story (1995)   \n",
       "1        2                      Jumanji (1995)   \n",
       "2        3             Grumpier Old Men (1995)   \n",
       "3        4            Waiting to Exhale (1995)   \n",
       "4        5  Father of the Bride Part II (1995)   \n",
       "\n",
       "                                        genres  \n",
       "0  Adventure|Animation|Children|Comedy|Fantasy  \n",
       "1                   Adventure|Children|Fantasy  \n",
       "2                               Comedy|Romance  \n",
       "3                         Comedy|Drama|Romance  \n",
       "4                                       Comedy  "
      ]
     },
     "execution_count": 16,
     "metadata": {},
     "output_type": "execute_result"
    }
   ],
   "source": [
    "# Preview the dd\n",
    "movies.head()"
   ]
  },
  {
   "cell_type": "markdown",
   "id": "a8880d81",
   "metadata": {},
   "source": [
    "Key issues are:\n",
    "* The `title` column has both the movie title and the year\n",
    "* The `genres` contain unnecessary characters and will need to be properly extracted.\n",
    "\n",
    "In this data cleaning step, regular expresions will be used to extract the needed information"
   ]
  },
  {
   "cell_type": "code",
   "execution_count": 17,
   "id": "ae959888",
   "metadata": {},
   "outputs": [
    {
     "data": {
      "text/html": [
       "<div>\n",
       "<style scoped>\n",
       "    .dataframe tbody tr th:only-of-type {\n",
       "        vertical-align: middle;\n",
       "    }\n",
       "\n",
       "    .dataframe tbody tr th {\n",
       "        vertical-align: top;\n",
       "    }\n",
       "\n",
       "    .dataframe thead th {\n",
       "        text-align: right;\n",
       "    }\n",
       "</style>\n",
       "<table border=\"1\" class=\"dataframe\">\n",
       "  <thead>\n",
       "    <tr style=\"text-align: right;\">\n",
       "      <th></th>\n",
       "      <th>movieId</th>\n",
       "      <th>title</th>\n",
       "      <th>genres</th>\n",
       "      <th>year</th>\n",
       "    </tr>\n",
       "  </thead>\n",
       "  <tbody>\n",
       "    <tr>\n",
       "      <th>0</th>\n",
       "      <td>1</td>\n",
       "      <td>Toy Story</td>\n",
       "      <td>Adventure|Animation|Children|Comedy|Fantasy</td>\n",
       "      <td>1995.0</td>\n",
       "    </tr>\n",
       "    <tr>\n",
       "      <th>1</th>\n",
       "      <td>2</td>\n",
       "      <td>Jumanji</td>\n",
       "      <td>Adventure|Children|Fantasy</td>\n",
       "      <td>1995.0</td>\n",
       "    </tr>\n",
       "    <tr>\n",
       "      <th>2</th>\n",
       "      <td>3</td>\n",
       "      <td>Grumpier Old Men</td>\n",
       "      <td>Comedy|Romance</td>\n",
       "      <td>1995.0</td>\n",
       "    </tr>\n",
       "    <tr>\n",
       "      <th>3</th>\n",
       "      <td>4</td>\n",
       "      <td>Waiting to Exhale</td>\n",
       "      <td>Comedy|Drama|Romance</td>\n",
       "      <td>1995.0</td>\n",
       "    </tr>\n",
       "    <tr>\n",
       "      <th>4</th>\n",
       "      <td>5</td>\n",
       "      <td>Father of the Bride Part II</td>\n",
       "      <td>Comedy</td>\n",
       "      <td>1995.0</td>\n",
       "    </tr>\n",
       "  </tbody>\n",
       "</table>\n",
       "</div>"
      ],
      "text/plain": [
       "   movieId                        title  \\\n",
       "0        1                    Toy Story   \n",
       "1        2                      Jumanji   \n",
       "2        3             Grumpier Old Men   \n",
       "3        4            Waiting to Exhale   \n",
       "4        5  Father of the Bride Part II   \n",
       "\n",
       "                                        genres    year  \n",
       "0  Adventure|Animation|Children|Comedy|Fantasy  1995.0  \n",
       "1                   Adventure|Children|Fantasy  1995.0  \n",
       "2                               Comedy|Romance  1995.0  \n",
       "3                         Comedy|Drama|Romance  1995.0  \n",
       "4                                       Comedy  1995.0  "
      ]
     },
     "execution_count": 17,
     "metadata": {},
     "output_type": "execute_result"
    }
   ],
   "source": [
    "# Make a copy of the original movies DataFrame to preserve the raw data\n",
    "movies_clean = movies.copy()\n",
    "\n",
    "# Extract the year from the movie title (e.g., \"Toy Story (1995)\" → 1995)\n",
    "movies_clean[\"year\"] = movies_clean[\"title\"].str.extract(r\"\\((\\d{4})\\)\").astype(float)\n",
    "\n",
    "# Remove the year from the movie title string (e.g., \"Toy Story (1995)\" → \"Toy Story\")\n",
    "movies_clean[\"title\"] = movies_clean[\"title\"].str.replace(r\"\\s*\\(\\d{4}\\)\", \"\", regex=True)\n",
    "\n",
    "# Display the first few rows of the cleaned DataFrame\n",
    "movies_clean.head()"
   ]
  },
  {
   "cell_type": "markdown",
   "id": "791fab7b",
   "metadata": {},
   "source": [
    "Let's check if the extraction worked properly for all records by checking for any missing values"
   ]
  },
  {
   "cell_type": "code",
   "execution_count": 18,
   "id": "67a83316",
   "metadata": {},
   "outputs": [
    {
     "name": "stdout",
     "output_type": "stream",
     "text": [
      "-------- DataFrame Missing Values --------\n",
      "\n",
      "movieId     0\n",
      "title       0\n",
      "genres      0\n",
      "year       13\n",
      "dtype: int64\n",
      "\n",
      "\n",
      "-------- Dataframe Duplicate Values --------\n",
      "\n",
      "False    9742\n",
      "dtype: int64\n"
     ]
    }
   ],
   "source": [
    "# Display integrity of the cleaned movies DataFrame\n",
    "data_integrity(movies_clean)"
   ]
  },
  {
   "cell_type": "markdown",
   "id": "619685b6",
   "metadata": {},
   "source": [
    "A total of 13 records didn't have the year of release. Since the `year` feature won't be used to build the recommender system, let's fill the missing values with the median of the column."
   ]
  },
  {
   "cell_type": "code",
   "execution_count": 19,
   "id": "954a09f4",
   "metadata": {},
   "outputs": [],
   "source": [
    "# instantiate the SimpleImputer with the median strategy\n",
    "imputer = SimpleImputer(strategy='median')\n",
    "# Fill missing values in the 'year' column with the median\n",
    "movies_clean['year'] = imputer.fit_transform(movies_clean[['year']])"
   ]
  },
  {
   "cell_type": "markdown",
   "id": "438a632f",
   "metadata": {},
   "source": [
    "Now that this dataFrame has been prepared, we can merge it with the ratings DataFrame to enrich each movie entry with its corresponding user ratings and enable deeper analysis. We will merge the two dataframes on `movieId`."
   ]
  },
  {
   "cell_type": "code",
   "execution_count": 20,
   "id": "0d035f39",
   "metadata": {},
   "outputs": [
    {
     "data": {
      "text/html": [
       "<div>\n",
       "<style scoped>\n",
       "    .dataframe tbody tr th:only-of-type {\n",
       "        vertical-align: middle;\n",
       "    }\n",
       "\n",
       "    .dataframe tbody tr th {\n",
       "        vertical-align: top;\n",
       "    }\n",
       "\n",
       "    .dataframe thead th {\n",
       "        text-align: right;\n",
       "    }\n",
       "</style>\n",
       "<table border=\"1\" class=\"dataframe\">\n",
       "  <thead>\n",
       "    <tr style=\"text-align: right;\">\n",
       "      <th></th>\n",
       "      <th>userId</th>\n",
       "      <th>movieId</th>\n",
       "      <th>rating</th>\n",
       "      <th>title</th>\n",
       "      <th>genres</th>\n",
       "      <th>year</th>\n",
       "    </tr>\n",
       "  </thead>\n",
       "  <tbody>\n",
       "    <tr>\n",
       "      <th>0</th>\n",
       "      <td>1</td>\n",
       "      <td>1</td>\n",
       "      <td>4.0</td>\n",
       "      <td>Toy Story</td>\n",
       "      <td>Adventure|Animation|Children|Comedy|Fantasy</td>\n",
       "      <td>1995.0</td>\n",
       "    </tr>\n",
       "    <tr>\n",
       "      <th>1</th>\n",
       "      <td>5</td>\n",
       "      <td>1</td>\n",
       "      <td>4.0</td>\n",
       "      <td>Toy Story</td>\n",
       "      <td>Adventure|Animation|Children|Comedy|Fantasy</td>\n",
       "      <td>1995.0</td>\n",
       "    </tr>\n",
       "    <tr>\n",
       "      <th>2</th>\n",
       "      <td>7</td>\n",
       "      <td>1</td>\n",
       "      <td>4.5</td>\n",
       "      <td>Toy Story</td>\n",
       "      <td>Adventure|Animation|Children|Comedy|Fantasy</td>\n",
       "      <td>1995.0</td>\n",
       "    </tr>\n",
       "    <tr>\n",
       "      <th>3</th>\n",
       "      <td>15</td>\n",
       "      <td>1</td>\n",
       "      <td>2.5</td>\n",
       "      <td>Toy Story</td>\n",
       "      <td>Adventure|Animation|Children|Comedy|Fantasy</td>\n",
       "      <td>1995.0</td>\n",
       "    </tr>\n",
       "    <tr>\n",
       "      <th>4</th>\n",
       "      <td>17</td>\n",
       "      <td>1</td>\n",
       "      <td>4.5</td>\n",
       "      <td>Toy Story</td>\n",
       "      <td>Adventure|Animation|Children|Comedy|Fantasy</td>\n",
       "      <td>1995.0</td>\n",
       "    </tr>\n",
       "  </tbody>\n",
       "</table>\n",
       "</div>"
      ],
      "text/plain": [
       "   userId  movieId  rating      title  \\\n",
       "0       1        1     4.0  Toy Story   \n",
       "1       5        1     4.0  Toy Story   \n",
       "2       7        1     4.5  Toy Story   \n",
       "3      15        1     2.5  Toy Story   \n",
       "4      17        1     4.5  Toy Story   \n",
       "\n",
       "                                        genres    year  \n",
       "0  Adventure|Animation|Children|Comedy|Fantasy  1995.0  \n",
       "1  Adventure|Animation|Children|Comedy|Fantasy  1995.0  \n",
       "2  Adventure|Animation|Children|Comedy|Fantasy  1995.0  \n",
       "3  Adventure|Animation|Children|Comedy|Fantasy  1995.0  \n",
       "4  Adventure|Animation|Children|Comedy|Fantasy  1995.0  "
      ]
     },
     "execution_count": 20,
     "metadata": {},
     "output_type": "execute_result"
    }
   ],
   "source": [
    "# Merge ratings with cleaned movies DataFrame\n",
    "movie_ratings = ratings.merge(movies_clean, on='movieId', how='inner')\n",
    "# Preview the merged DataFrame\n",
    "movie_ratings.head()"
   ]
  },
  {
   "cell_type": "markdown",
   "id": "65fcf9dc",
   "metadata": {},
   "source": [
    "Let's check the size of the resulting merged dataframe and the number of unique movies."
   ]
  },
  {
   "cell_type": "code",
   "execution_count": 21,
   "id": "7d5efc02",
   "metadata": {},
   "outputs": [
    {
     "name": "stdout",
     "output_type": "stream",
     "text": [
      "Size of the merged DataFrame: 100836 rows and 6 columns\n",
      "Number of unique movies: 9724\n"
     ]
    }
   ],
   "source": [
    "# Check the size of the resulting merged dataframe\n",
    "print(f\"Size of the merged DataFrame: {movie_ratings.shape[0]} rows and {movie_ratings.shape[1]} columns\")\n",
    "# Check the number of unique movies\n",
    "print(f\"Number of unique movies: {movie_ratings['movieId'].nunique()}\")"
   ]
  },
  {
   "cell_type": "markdown",
   "id": "6fd51ba1",
   "metadata": {},
   "source": [
    "Next, we’ll create a dataset purely for content-based fitering by merge this DataFrame with the `tag` dataFrame, which contains user-generated movie tags.\n",
    "We'll use an inner join because not all users provided tags for the movies they rated. Since our goal is to retain all tags for content-based filtering, which depends on movie descriptions and tags, this approach ensures we preserve every movie tags."
   ]
  },
  {
   "cell_type": "code",
   "execution_count": 22,
   "id": "b24b5bb2",
   "metadata": {},
   "outputs": [
    {
     "data": {
      "text/html": [
       "<div>\n",
       "<style scoped>\n",
       "    .dataframe tbody tr th:only-of-type {\n",
       "        vertical-align: middle;\n",
       "    }\n",
       "\n",
       "    .dataframe tbody tr th {\n",
       "        vertical-align: top;\n",
       "    }\n",
       "\n",
       "    .dataframe thead th {\n",
       "        text-align: right;\n",
       "    }\n",
       "</style>\n",
       "<table border=\"1\" class=\"dataframe\">\n",
       "  <thead>\n",
       "    <tr style=\"text-align: right;\">\n",
       "      <th></th>\n",
       "      <th>userId</th>\n",
       "      <th>movieId</th>\n",
       "      <th>rating</th>\n",
       "      <th>title</th>\n",
       "      <th>genres</th>\n",
       "      <th>year</th>\n",
       "      <th>tag</th>\n",
       "    </tr>\n",
       "  </thead>\n",
       "  <tbody>\n",
       "    <tr>\n",
       "      <th>0</th>\n",
       "      <td>336</td>\n",
       "      <td>1</td>\n",
       "      <td>4.0</td>\n",
       "      <td>Toy Story</td>\n",
       "      <td>Adventure|Animation|Children|Comedy|Fantasy</td>\n",
       "      <td>1995.0</td>\n",
       "      <td>pixar</td>\n",
       "    </tr>\n",
       "    <tr>\n",
       "      <th>1</th>\n",
       "      <td>474</td>\n",
       "      <td>1</td>\n",
       "      <td>4.0</td>\n",
       "      <td>Toy Story</td>\n",
       "      <td>Adventure|Animation|Children|Comedy|Fantasy</td>\n",
       "      <td>1995.0</td>\n",
       "      <td>pixar</td>\n",
       "    </tr>\n",
       "    <tr>\n",
       "      <th>2</th>\n",
       "      <td>567</td>\n",
       "      <td>1</td>\n",
       "      <td>3.5</td>\n",
       "      <td>Toy Story</td>\n",
       "      <td>Adventure|Animation|Children|Comedy|Fantasy</td>\n",
       "      <td>1995.0</td>\n",
       "      <td>fun</td>\n",
       "    </tr>\n",
       "    <tr>\n",
       "      <th>3</th>\n",
       "      <td>289</td>\n",
       "      <td>3</td>\n",
       "      <td>2.5</td>\n",
       "      <td>Grumpier Old Men</td>\n",
       "      <td>Comedy|Romance</td>\n",
       "      <td>1995.0</td>\n",
       "      <td>moldy</td>\n",
       "    </tr>\n",
       "    <tr>\n",
       "      <th>4</th>\n",
       "      <td>289</td>\n",
       "      <td>3</td>\n",
       "      <td>2.5</td>\n",
       "      <td>Grumpier Old Men</td>\n",
       "      <td>Comedy|Romance</td>\n",
       "      <td>1995.0</td>\n",
       "      <td>old</td>\n",
       "    </tr>\n",
       "  </tbody>\n",
       "</table>\n",
       "</div>"
      ],
      "text/plain": [
       "   userId  movieId  rating             title  \\\n",
       "0     336        1     4.0         Toy Story   \n",
       "1     474        1     4.0         Toy Story   \n",
       "2     567        1     3.5         Toy Story   \n",
       "3     289        3     2.5  Grumpier Old Men   \n",
       "4     289        3     2.5  Grumpier Old Men   \n",
       "\n",
       "                                        genres    year    tag  \n",
       "0  Adventure|Animation|Children|Comedy|Fantasy  1995.0  pixar  \n",
       "1  Adventure|Animation|Children|Comedy|Fantasy  1995.0  pixar  \n",
       "2  Adventure|Animation|Children|Comedy|Fantasy  1995.0    fun  \n",
       "3                               Comedy|Romance  1995.0  moldy  \n",
       "4                               Comedy|Romance  1995.0    old  "
      ]
     },
     "execution_count": 22,
     "metadata": {},
     "output_type": "execute_result"
    }
   ],
   "source": [
    "# Merge tag DataFrame with movie ratings DataFrame \n",
    "tagged_movies = movie_ratings.merge(tag, on=['movieId', 'userId'], how='inner')\n",
    "# Preview the merged DataFrame\n",
    "tagged_movies.head()"
   ]
  },
  {
   "cell_type": "code",
   "execution_count": 23,
   "id": "f443a32f",
   "metadata": {},
   "outputs": [
    {
     "name": "stdout",
     "output_type": "stream",
     "text": [
      "Size of the merged DataFrame: 3476 rows and 6 columns\n",
      "Number of unique movies: 1464\n"
     ]
    }
   ],
   "source": [
    "# Check the size of the resulting merged dataframe\n",
    "print(f\"Size of the merged DataFrame: {tagged_movies.shape[0]} rows and {movie_ratings.shape[1]} columns\")\n",
    "# Check the number of unique movies\n",
    "print(f\"Number of unique movies: {tagged_movies['movieId'].nunique()}\")"
   ]
  },
  {
   "cell_type": "markdown",
   "id": "55f40800",
   "metadata": {},
   "source": [
    "Let's check if there are any missing values resulting from the merge."
   ]
  },
  {
   "cell_type": "code",
   "execution_count": 24,
   "id": "20e837e5",
   "metadata": {},
   "outputs": [
    {
     "name": "stdout",
     "output_type": "stream",
     "text": [
      "-------- DataFrame Missing Values --------\n",
      "\n",
      "userId     0\n",
      "movieId    0\n",
      "rating     0\n",
      "title      0\n",
      "genres     0\n",
      "year       0\n",
      "tag        0\n",
      "dtype: int64\n",
      "\n",
      "\n",
      "-------- Dataframe Duplicate Values --------\n",
      "\n",
      "False    3476\n",
      "dtype: int64\n"
     ]
    }
   ],
   "source": [
    "data_integrity(tagged_movies)"
   ]
  },
  {
   "cell_type": "markdown",
   "id": "55d036d7",
   "metadata": {},
   "source": [
    "The last step comprises of feature engineering. The `tag` and `genres` features need to be combined in order to be used in creating a bag of words that will be used in content-based filtering. One thing that has already stood out is that one movie can have multiple tags from the same or different users. To verify this hypothesis, let's focus on one movie."
   ]
  },
  {
   "cell_type": "code",
   "execution_count": 25,
   "id": "e1f61f6a",
   "metadata": {},
   "outputs": [
    {
     "data": {
      "text/html": [
       "<div>\n",
       "<style scoped>\n",
       "    .dataframe tbody tr th:only-of-type {\n",
       "        vertical-align: middle;\n",
       "    }\n",
       "\n",
       "    .dataframe tbody tr th {\n",
       "        vertical-align: top;\n",
       "    }\n",
       "\n",
       "    .dataframe thead th {\n",
       "        text-align: right;\n",
       "    }\n",
       "</style>\n",
       "<table border=\"1\" class=\"dataframe\">\n",
       "  <thead>\n",
       "    <tr style=\"text-align: right;\">\n",
       "      <th></th>\n",
       "      <th>userId</th>\n",
       "      <th>movieId</th>\n",
       "      <th>rating</th>\n",
       "      <th>title</th>\n",
       "      <th>genres</th>\n",
       "      <th>year</th>\n",
       "      <th>tag</th>\n",
       "    </tr>\n",
       "  </thead>\n",
       "  <tbody>\n",
       "    <tr>\n",
       "      <th>0</th>\n",
       "      <td>336</td>\n",
       "      <td>1</td>\n",
       "      <td>4.0</td>\n",
       "      <td>Toy Story</td>\n",
       "      <td>Adventure|Animation|Children|Comedy|Fantasy</td>\n",
       "      <td>1995.0</td>\n",
       "      <td>pixar</td>\n",
       "    </tr>\n",
       "    <tr>\n",
       "      <th>1</th>\n",
       "      <td>474</td>\n",
       "      <td>1</td>\n",
       "      <td>4.0</td>\n",
       "      <td>Toy Story</td>\n",
       "      <td>Adventure|Animation|Children|Comedy|Fantasy</td>\n",
       "      <td>1995.0</td>\n",
       "      <td>pixar</td>\n",
       "    </tr>\n",
       "    <tr>\n",
       "      <th>2</th>\n",
       "      <td>567</td>\n",
       "      <td>1</td>\n",
       "      <td>3.5</td>\n",
       "      <td>Toy Story</td>\n",
       "      <td>Adventure|Animation|Children|Comedy|Fantasy</td>\n",
       "      <td>1995.0</td>\n",
       "      <td>fun</td>\n",
       "    </tr>\n",
       "  </tbody>\n",
       "</table>\n",
       "</div>"
      ],
      "text/plain": [
       "   userId  movieId  rating      title  \\\n",
       "0     336        1     4.0  Toy Story   \n",
       "1     474        1     4.0  Toy Story   \n",
       "2     567        1     3.5  Toy Story   \n",
       "\n",
       "                                        genres    year    tag  \n",
       "0  Adventure|Animation|Children|Comedy|Fantasy  1995.0  pixar  \n",
       "1  Adventure|Animation|Children|Comedy|Fantasy  1995.0  pixar  \n",
       "2  Adventure|Animation|Children|Comedy|Fantasy  1995.0    fun  "
      ]
     },
     "execution_count": 25,
     "metadata": {},
     "output_type": "execute_result"
    }
   ],
   "source": [
    "# Check the dataset for records with movieId 1\n",
    "tagged_movies[tagged_movies['movieId'] == 1]"
   ]
  },
  {
   "cell_type": "markdown",
   "id": "f2f3acff",
   "metadata": {},
   "source": [
    "As expected, the movie has multiple tags contributed by different users to describe the movie. To apply CountVectorizer (or TfidfVectorizer), we need each movie to have a single, unified text entry. This requires merging all tags associated with a movie into one consolidated string — effectively combining the separate tag entries into a single row per movie."
   ]
  },
  {
   "cell_type": "code",
   "execution_count": 26,
   "id": "8724a78a",
   "metadata": {},
   "outputs": [
    {
     "data": {
      "text/html": [
       "<div>\n",
       "<style scoped>\n",
       "    .dataframe tbody tr th:only-of-type {\n",
       "        vertical-align: middle;\n",
       "    }\n",
       "\n",
       "    .dataframe tbody tr th {\n",
       "        vertical-align: top;\n",
       "    }\n",
       "\n",
       "    .dataframe thead th {\n",
       "        text-align: right;\n",
       "    }\n",
       "</style>\n",
       "<table border=\"1\" class=\"dataframe\">\n",
       "  <thead>\n",
       "    <tr style=\"text-align: right;\">\n",
       "      <th></th>\n",
       "      <th>movieId</th>\n",
       "      <th>title</th>\n",
       "      <th>genres</th>\n",
       "      <th>year</th>\n",
       "      <th>merged_tags</th>\n",
       "    </tr>\n",
       "  </thead>\n",
       "  <tbody>\n",
       "    <tr>\n",
       "      <th>0</th>\n",
       "      <td>1</td>\n",
       "      <td>Toy Story</td>\n",
       "      <td>Adventure|Animation|Children|Comedy|Fantasy</td>\n",
       "      <td>1995.0</td>\n",
       "      <td>pixar, fun</td>\n",
       "    </tr>\n",
       "    <tr>\n",
       "      <th>1</th>\n",
       "      <td>2</td>\n",
       "      <td>Jumanji</td>\n",
       "      <td>Adventure|Children|Fantasy</td>\n",
       "      <td>1995.0</td>\n",
       "      <td>game, Robin Williams, fantasy, magic board game</td>\n",
       "    </tr>\n",
       "    <tr>\n",
       "      <th>2</th>\n",
       "      <td>3</td>\n",
       "      <td>Grumpier Old Men</td>\n",
       "      <td>Comedy|Romance</td>\n",
       "      <td>1995.0</td>\n",
       "      <td>old, moldy</td>\n",
       "    </tr>\n",
       "    <tr>\n",
       "      <th>3</th>\n",
       "      <td>5</td>\n",
       "      <td>Father of the Bride Part II</td>\n",
       "      <td>Comedy</td>\n",
       "      <td>1995.0</td>\n",
       "      <td>pregnancy, remake</td>\n",
       "    </tr>\n",
       "    <tr>\n",
       "      <th>4</th>\n",
       "      <td>7</td>\n",
       "      <td>Sabrina</td>\n",
       "      <td>Comedy|Romance</td>\n",
       "      <td>1995.0</td>\n",
       "      <td>remake</td>\n",
       "    </tr>\n",
       "  </tbody>\n",
       "</table>\n",
       "</div>"
      ],
      "text/plain": [
       "   movieId                        title  \\\n",
       "0        1                    Toy Story   \n",
       "1        2                      Jumanji   \n",
       "2        3             Grumpier Old Men   \n",
       "3        5  Father of the Bride Part II   \n",
       "4        7                      Sabrina   \n",
       "\n",
       "                                        genres    year  \\\n",
       "0  Adventure|Animation|Children|Comedy|Fantasy  1995.0   \n",
       "1                   Adventure|Children|Fantasy  1995.0   \n",
       "2                               Comedy|Romance  1995.0   \n",
       "3                                       Comedy  1995.0   \n",
       "4                               Comedy|Romance  1995.0   \n",
       "\n",
       "                                       merged_tags  \n",
       "0                                       pixar, fun  \n",
       "1  game, Robin Williams, fantasy, magic board game  \n",
       "2                                       old, moldy  \n",
       "3                                pregnancy, remake  \n",
       "4                                           remake  "
      ]
     },
     "execution_count": 26,
     "metadata": {},
     "output_type": "execute_result"
    }
   ],
   "source": [
    "# Group the tagged_movies DataFrame by movieId, title, genres, and year\n",
    "# For each group, aggregate the 'tag' column by:\n",
    "# - removing duplicates using set()\n",
    "# - joining all unique tags into a single comma-separated string\n",
    "merged_tags = tagged_movies.groupby(['movieId', 'title', 'genres', 'year'])['tag'] \\\n",
    "    .agg(lambda tags: ', '.join(set(tags))) \\\n",
    "    .reset_index(name='merged_tags')\n",
    "\n",
    "# Preview the resulting DataFrame\n",
    "merged_tags.head()"
   ]
  },
  {
   "cell_type": "markdown",
   "id": "5332ca9c",
   "metadata": {},
   "source": [
    "All records have been grouped leaving one entry with merged tags. Duplicates tags have also been removed since we want the tags to describe what the movie is not how often a tag was reused to describe a particular movie.\n",
    "\n",
    "The next step is cleaning the `genres` column by removing the `|` character:"
   ]
  },
  {
   "cell_type": "code",
   "execution_count": 27,
   "id": "a44e8d67",
   "metadata": {},
   "outputs": [
    {
     "data": {
      "text/html": [
       "<div>\n",
       "<style scoped>\n",
       "    .dataframe tbody tr th:only-of-type {\n",
       "        vertical-align: middle;\n",
       "    }\n",
       "\n",
       "    .dataframe tbody tr th {\n",
       "        vertical-align: top;\n",
       "    }\n",
       "\n",
       "    .dataframe thead th {\n",
       "        text-align: right;\n",
       "    }\n",
       "</style>\n",
       "<table border=\"1\" class=\"dataframe\">\n",
       "  <thead>\n",
       "    <tr style=\"text-align: right;\">\n",
       "      <th></th>\n",
       "      <th>movieId</th>\n",
       "      <th>title</th>\n",
       "      <th>genres</th>\n",
       "      <th>year</th>\n",
       "      <th>merged_tags</th>\n",
       "    </tr>\n",
       "  </thead>\n",
       "  <tbody>\n",
       "    <tr>\n",
       "      <th>0</th>\n",
       "      <td>1</td>\n",
       "      <td>Toy Story</td>\n",
       "      <td>Adventure Animation Children Comedy Fantasy</td>\n",
       "      <td>1995.0</td>\n",
       "      <td>pixar, fun</td>\n",
       "    </tr>\n",
       "    <tr>\n",
       "      <th>1</th>\n",
       "      <td>2</td>\n",
       "      <td>Jumanji</td>\n",
       "      <td>Adventure Children Fantasy</td>\n",
       "      <td>1995.0</td>\n",
       "      <td>game, Robin Williams, fantasy, magic board game</td>\n",
       "    </tr>\n",
       "    <tr>\n",
       "      <th>2</th>\n",
       "      <td>3</td>\n",
       "      <td>Grumpier Old Men</td>\n",
       "      <td>Comedy Romance</td>\n",
       "      <td>1995.0</td>\n",
       "      <td>old, moldy</td>\n",
       "    </tr>\n",
       "    <tr>\n",
       "      <th>3</th>\n",
       "      <td>5</td>\n",
       "      <td>Father of the Bride Part II</td>\n",
       "      <td>Comedy</td>\n",
       "      <td>1995.0</td>\n",
       "      <td>pregnancy, remake</td>\n",
       "    </tr>\n",
       "    <tr>\n",
       "      <th>4</th>\n",
       "      <td>7</td>\n",
       "      <td>Sabrina</td>\n",
       "      <td>Comedy Romance</td>\n",
       "      <td>1995.0</td>\n",
       "      <td>remake</td>\n",
       "    </tr>\n",
       "  </tbody>\n",
       "</table>\n",
       "</div>"
      ],
      "text/plain": [
       "   movieId                        title  \\\n",
       "0        1                    Toy Story   \n",
       "1        2                      Jumanji   \n",
       "2        3             Grumpier Old Men   \n",
       "3        5  Father of the Bride Part II   \n",
       "4        7                      Sabrina   \n",
       "\n",
       "                                        genres    year  \\\n",
       "0  Adventure Animation Children Comedy Fantasy  1995.0   \n",
       "1                   Adventure Children Fantasy  1995.0   \n",
       "2                               Comedy Romance  1995.0   \n",
       "3                                       Comedy  1995.0   \n",
       "4                               Comedy Romance  1995.0   \n",
       "\n",
       "                                       merged_tags  \n",
       "0                                       pixar, fun  \n",
       "1  game, Robin Williams, fantasy, magic board game  \n",
       "2                                       old, moldy  \n",
       "3                                pregnancy, remake  \n",
       "4                                           remake  "
      ]
     },
     "execution_count": 27,
     "metadata": {},
     "output_type": "execute_result"
    }
   ],
   "source": [
    "# Create a function for splitting genres on the '|' character \n",
    "def merge(x):\n",
    "    genres = x.split('|')\n",
    "\n",
    "    # Join the genres into a single string separated by spaces\n",
    "    return ' '.join(genres)\n",
    "\n",
    "# Apply the merge function to the 'genres' column\n",
    "merged_tags['genres'] = merged_tags['genres'].apply(merge)\n",
    "\n",
    "# Preview the updated DataFrame\n",
    "merged_tags.head()"
   ]
  },
  {
   "cell_type": "markdown",
   "id": "43cb9f12",
   "metadata": {},
   "source": [
    "The final step before vectorising is combining the two features into a text **\"soup\"**"
   ]
  },
  {
   "cell_type": "code",
   "execution_count": 28,
   "id": "649e47a9",
   "metadata": {},
   "outputs": [
    {
     "data": {
      "text/html": [
       "<div>\n",
       "<style scoped>\n",
       "    .dataframe tbody tr th:only-of-type {\n",
       "        vertical-align: middle;\n",
       "    }\n",
       "\n",
       "    .dataframe tbody tr th {\n",
       "        vertical-align: top;\n",
       "    }\n",
       "\n",
       "    .dataframe thead th {\n",
       "        text-align: right;\n",
       "    }\n",
       "</style>\n",
       "<table border=\"1\" class=\"dataframe\">\n",
       "  <thead>\n",
       "    <tr style=\"text-align: right;\">\n",
       "      <th></th>\n",
       "      <th>movieId</th>\n",
       "      <th>title</th>\n",
       "      <th>genres</th>\n",
       "      <th>year</th>\n",
       "      <th>merged_tags</th>\n",
       "      <th>soup</th>\n",
       "    </tr>\n",
       "  </thead>\n",
       "  <tbody>\n",
       "    <tr>\n",
       "      <th>0</th>\n",
       "      <td>1</td>\n",
       "      <td>Toy Story</td>\n",
       "      <td>Adventure Animation Children Comedy Fantasy</td>\n",
       "      <td>1995.0</td>\n",
       "      <td>pixar, fun</td>\n",
       "      <td>Adventure Animation Children Comedy Fantasy pi...</td>\n",
       "    </tr>\n",
       "    <tr>\n",
       "      <th>1</th>\n",
       "      <td>2</td>\n",
       "      <td>Jumanji</td>\n",
       "      <td>Adventure Children Fantasy</td>\n",
       "      <td>1995.0</td>\n",
       "      <td>game, Robin Williams, fantasy, magic board game</td>\n",
       "      <td>Adventure Children Fantasy game, Robin William...</td>\n",
       "    </tr>\n",
       "    <tr>\n",
       "      <th>2</th>\n",
       "      <td>3</td>\n",
       "      <td>Grumpier Old Men</td>\n",
       "      <td>Comedy Romance</td>\n",
       "      <td>1995.0</td>\n",
       "      <td>old, moldy</td>\n",
       "      <td>Comedy Romance old, moldy</td>\n",
       "    </tr>\n",
       "    <tr>\n",
       "      <th>3</th>\n",
       "      <td>5</td>\n",
       "      <td>Father of the Bride Part II</td>\n",
       "      <td>Comedy</td>\n",
       "      <td>1995.0</td>\n",
       "      <td>pregnancy, remake</td>\n",
       "      <td>Comedy pregnancy, remake</td>\n",
       "    </tr>\n",
       "    <tr>\n",
       "      <th>4</th>\n",
       "      <td>7</td>\n",
       "      <td>Sabrina</td>\n",
       "      <td>Comedy Romance</td>\n",
       "      <td>1995.0</td>\n",
       "      <td>remake</td>\n",
       "      <td>Comedy Romance remake</td>\n",
       "    </tr>\n",
       "  </tbody>\n",
       "</table>\n",
       "</div>"
      ],
      "text/plain": [
       "   movieId                        title  \\\n",
       "0        1                    Toy Story   \n",
       "1        2                      Jumanji   \n",
       "2        3             Grumpier Old Men   \n",
       "3        5  Father of the Bride Part II   \n",
       "4        7                      Sabrina   \n",
       "\n",
       "                                        genres    year  \\\n",
       "0  Adventure Animation Children Comedy Fantasy  1995.0   \n",
       "1                   Adventure Children Fantasy  1995.0   \n",
       "2                               Comedy Romance  1995.0   \n",
       "3                                       Comedy  1995.0   \n",
       "4                               Comedy Romance  1995.0   \n",
       "\n",
       "                                       merged_tags  \\\n",
       "0                                       pixar, fun   \n",
       "1  game, Robin Williams, fantasy, magic board game   \n",
       "2                                       old, moldy   \n",
       "3                                pregnancy, remake   \n",
       "4                                           remake   \n",
       "\n",
       "                                                soup  \n",
       "0  Adventure Animation Children Comedy Fantasy pi...  \n",
       "1  Adventure Children Fantasy game, Robin William...  \n",
       "2                          Comedy Romance old, moldy  \n",
       "3                           Comedy pregnancy, remake  \n",
       "4                              Comedy Romance remake  "
      ]
     },
     "execution_count": 28,
     "metadata": {},
     "output_type": "execute_result"
    }
   ],
   "source": [
    "# Combine genres and tags into one text field\n",
    "merged_tags['soup'] = merged_tags['genres'] + ' ' + merged_tags['merged_tags']\n",
    "\n",
    "# Preview result\n",
    "merged_tags.head()"
   ]
  },
  {
   "cell_type": "markdown",
   "id": "870ee7bb",
   "metadata": {},
   "source": [
    "The data in now ready for modelling."
   ]
  },
  {
   "cell_type": "markdown",
   "id": "a3fafba3",
   "metadata": {},
   "source": [
    "## Exploratory Data Analysis"
   ]
  },
  {
   "cell_type": "markdown",
   "id": "bfc55ba0",
   "metadata": {},
   "source": [
    "### Objective 1: Identify the Most Popular Movies by popularity\n",
    "\n",
    "In our first objective, we will identify the most popular movies by analyzing user ratings and watch frequency.\n",
    "This will help us understand audience preferences and trends in movie popularity.\n",
    "Below is the plot of movie title and and nmber of rating."
   ]
  },
  {
   "cell_type": "code",
   "execution_count": 29,
   "id": "ee1bef5f",
   "metadata": {},
   "outputs": [
    {
     "data": {
      "image/png": "[encoded data removed]",
      "text/plain": [
       "<Figure size 720x432 with 1 Axes>"
      ]
     },
     "metadata": {},
     "output_type": "display_data"
    }
   ],
   "source": [
    "# Group the ratings by movieId and calculate the mean and count of ratings for each movie\n",
    "popular_movies = ratings.groupby('movieId').agg({'rating': ['mean', 'count']})\n",
    "\n",
    "# Rename the columns for clarity\n",
    "popular_movies.columns = ['avg_rating', 'num_ratings']\n",
    "\n",
    "# Sort movies in descending order based on the number of ratings (popularity)\n",
    "popular_movies = popular_movies.sort_values('num_ratings', ascending=False)\n",
    "\n",
    "# Merge the popularity data with movie metadata to include titles and other details\n",
    "top_movies = pd.merge(popular_movies, movies_clean, on='movieId')\n",
    "\n",
    "top_movies_by_num = top_movies.sort_values(by='num_ratings', ascending=False)\n",
    "plt.figure(figsize=(10, 6))\n",
    "sns.barplot(x='num_ratings', y='title', \n",
    "            data=top_movies_by_num.head(10), palette='mako')\n",
    "plt.xlabel('Number of Ratings')\n",
    "plt.ylabel('Movie Title')\n",
    "plt.title('Top 10 Most Popular Movies by Number of Ratings')\n",
    "plt.show()"
   ]
  },
  {
   "cell_type": "markdown",
   "id": "ff3032da",
   "metadata": {},
   "source": [
    "### Objective 2: Analyze User Rating Activity\n",
    "\n",
    "Our objective here is to find out how many movies each user has rated.\n",
    "This helps us see how active different users are and how often they give ratings.\n",
    "Below is a plot for user count and the their rating"
   ]
  },
  {
   "cell_type": "code",
   "execution_count": 30,
   "id": "94d85749",
   "metadata": {},
   "outputs": [
    {
     "data": {
      "image/png": "[encoded data removed]",
      "text/plain": [
       "<Figure size 720x432 with 1 Axes>"
      ]
     },
     "metadata": {},
     "output_type": "display_data"
    }
   ],
   "source": [
    "# Count how many ratings each user has made and sort users by number of ratings in descending order\n",
    "user_rating_count = ratings.groupby('userId', as_index=False).size().sort_values(by='size', ascending=False)\n",
    "\n",
    "# Plot the distribution of number of ratings per user\n",
    "plt.figure(figsize=(10, 6))\n",
    "sns.histplot(x='size', data=user_rating_count, color=\"#0D2881\")\n",
    "\n",
    "# Limit the x-axis to focus on users with fewer than 1000 ratings\n",
    "plt.xlim(0, 1000)\n",
    "\n",
    "# Label the axes and add a title\n",
    "plt.xlabel('Number of Ratings per User')\n",
    "plt.ylabel('Number of Users')   \n",
    "plt.title('Distribution of Ratings per User')\n",
    "\n",
    "plt.show()\n"
   ]
  },
  {
   "cell_type": "markdown",
   "id": "4bc0b19c",
   "metadata": {},
   "source": [
    "Most users have rated only a small number of movies.\n",
    "This can be a limitation when building a collaborative filtering model, as such models rely heavily on sufficient user-item interactions to learn meaningful similarities and make accurate predictions."
   ]
  },
  {
   "cell_type": "markdown",
   "id": "11ecb0d3",
   "metadata": {},
   "source": [
    "#### Objective 3: Analyze Trends in Movie Popularity Over the Years\n",
    "This objective focuses on understanding how movie popularity has changed over time by looking at the number of user ratings per year.\n",
    "By using a line plot to show the total ratings of top movies across different years, we can observe patterns such as which years had a rise or drop in popularity.\n",
    "This helps us identify periods when user interest in movies was high and may reveal how trends in movie watching have evolved."
   ]
  },
  {
   "cell_type": "code",
   "execution_count": 31,
   "id": "6227d45a",
   "metadata": {},
   "outputs": [
    {
     "data": {
      "image/png": "[encoded data removed]",
      "text/plain": [
       "<Figure size 720x432 with 1 Axes>"
      ]
     },
     "metadata": {},
     "output_type": "display_data"
    }
   ],
   "source": [
    "# Plot the number of ratings each year to visualize movie popularity trends over time\n",
    "plt.figure(figsize=(10, 6))\n",
    "sns.lineplot(x='year', y='num_ratings', data=top_movies, color=\"#0D2881\")\n",
    "\n",
    "# Label the x-axis and y-axis\n",
    "plt.xlabel('Year')\n",
    "plt.ylabel('Number of Ratings')\n",
    "\n",
    "# Set the title of the plot\n",
    "plt.title('Movie Popularity Across the Years')\n",
    "\n",
    "plt.show()\n"
   ]
  },
  {
   "cell_type": "markdown",
   "id": "2419a732",
   "metadata": {},
   "source": [
    "The plot shows that movie ratings increased steadily from the 1950s, peaking in the late 1990s to early 2000s.\n",
    "After that, there is a sharp decline in ratings for newer movies.\n",
    "This suggests that movies from the late 90s are the most rated, while older and more recent films received fewer ratings, possibly due to lower engagement or dataset limitations."
   ]
  },
  {
   "cell_type": "markdown",
   "id": "650f739d",
   "metadata": {},
   "source": [
    "## Modelling\n",
    "\n",
    "The modelling will comprise of 3 different recommender models:\n",
    "* Content-Based Recommender Systems (Memory and Model Systems)\n",
    "* Collaborative Recommender Systems\n",
    "* Hybrid Recommender Systems\n",
    "\n",
    "To build an effective recommendation system, we will prepare the ratings data using the Surprise library.\n",
    "This involves formatting the dataset appropriately, defining the rating scale, and splitting the data into training and testing sets."
   ]
  },
  {
   "cell_type": "code",
   "execution_count": 32,
   "id": "3c6933fd",
   "metadata": {},
   "outputs": [],
   "source": [
    "#Sets ratings range from 0.5 to 5.0.\n",
    "reader = Reader(rating_scale=(0.5, 5.0))\n",
    "#  Loads your movie_ratings and use userId, movieId and rating columns\n",
    "data = Dataset.load_from_df(movie_ratings[['userId', 'movieId', 'rating']], reader=reader)\n",
    "# Convert dataset into surprise algorithm and build a training set on available data\n",
    "dataset = data.build_full_trainset()\n",
    "# Randomly splits the data into training 80% and testing 20% sets\n",
    "trainset, testset = train_test_split(data, test_size=0.2, random_state=42)"
   ]
  },
  {
   "cell_type": "markdown",
   "id": "f3d9707a",
   "metadata": {},
   "source": [
    "### Content Based Filtering\n",
    "\n",
    "**Content based filtering** is another type of recommender system that recommends movies based on the features of the movies and the preference or behaviour of the user. In short, content based filtering uses the notion **\"If you liked this movie, you'll probably like another movie that's similar\"**. In many movie recommender systems, the movie descriptions are used to measure the similarity between different movies and movies that are the most similar are recommended to users. However, in the project, there are no movie descriptions leaving the need to identify other features that have been used describe the movies. These features will be the primary features within which the recommender system will be build upon. Luckily, these fueatures have already been feature engineered in the data preparation step.\n",
    "\n",
    "Let's preview the dataset once more:"
   ]
  },
  {
   "cell_type": "code",
   "execution_count": 33,
   "id": "815caed8",
   "metadata": {},
   "outputs": [
    {
     "data": {
      "text/html": [
       "<div>\n",
       "<style scoped>\n",
       "    .dataframe tbody tr th:only-of-type {\n",
       "        vertical-align: middle;\n",
       "    }\n",
       "\n",
       "    .dataframe tbody tr th {\n",
       "        vertical-align: top;\n",
       "    }\n",
       "\n",
       "    .dataframe thead th {\n",
       "        text-align: right;\n",
       "    }\n",
       "</style>\n",
       "<table border=\"1\" class=\"dataframe\">\n",
       "  <thead>\n",
       "    <tr style=\"text-align: right;\">\n",
       "      <th></th>\n",
       "      <th>userId</th>\n",
       "      <th>movieId</th>\n",
       "      <th>rating</th>\n",
       "      <th>title</th>\n",
       "      <th>genres</th>\n",
       "      <th>year</th>\n",
       "      <th>tag</th>\n",
       "    </tr>\n",
       "  </thead>\n",
       "  <tbody>\n",
       "    <tr>\n",
       "      <th>0</th>\n",
       "      <td>336</td>\n",
       "      <td>1</td>\n",
       "      <td>4.0</td>\n",
       "      <td>Toy Story</td>\n",
       "      <td>Adventure|Animation|Children|Comedy|Fantasy</td>\n",
       "      <td>1995.0</td>\n",
       "      <td>pixar</td>\n",
       "    </tr>\n",
       "    <tr>\n",
       "      <th>1</th>\n",
       "      <td>474</td>\n",
       "      <td>1</td>\n",
       "      <td>4.0</td>\n",
       "      <td>Toy Story</td>\n",
       "      <td>Adventure|Animation|Children|Comedy|Fantasy</td>\n",
       "      <td>1995.0</td>\n",
       "      <td>pixar</td>\n",
       "    </tr>\n",
       "    <tr>\n",
       "      <th>2</th>\n",
       "      <td>567</td>\n",
       "      <td>1</td>\n",
       "      <td>3.5</td>\n",
       "      <td>Toy Story</td>\n",
       "      <td>Adventure|Animation|Children|Comedy|Fantasy</td>\n",
       "      <td>1995.0</td>\n",
       "      <td>fun</td>\n",
       "    </tr>\n",
       "    <tr>\n",
       "      <th>3</th>\n",
       "      <td>289</td>\n",
       "      <td>3</td>\n",
       "      <td>2.5</td>\n",
       "      <td>Grumpier Old Men</td>\n",
       "      <td>Comedy|Romance</td>\n",
       "      <td>1995.0</td>\n",
       "      <td>moldy</td>\n",
       "    </tr>\n",
       "    <tr>\n",
       "      <th>4</th>\n",
       "      <td>289</td>\n",
       "      <td>3</td>\n",
       "      <td>2.5</td>\n",
       "      <td>Grumpier Old Men</td>\n",
       "      <td>Comedy|Romance</td>\n",
       "      <td>1995.0</td>\n",
       "      <td>old</td>\n",
       "    </tr>\n",
       "    <tr>\n",
       "      <th>...</th>\n",
       "      <td>...</td>\n",
       "      <td>...</td>\n",
       "      <td>...</td>\n",
       "      <td>...</td>\n",
       "      <td>...</td>\n",
       "      <td>...</td>\n",
       "      <td>...</td>\n",
       "    </tr>\n",
       "    <tr>\n",
       "      <th>3471</th>\n",
       "      <td>567</td>\n",
       "      <td>170945</td>\n",
       "      <td>3.5</td>\n",
       "      <td>It Comes at Night</td>\n",
       "      <td>Horror|Mystery|Thriller</td>\n",
       "      <td>2017.0</td>\n",
       "      <td>Suspenseful</td>\n",
       "    </tr>\n",
       "    <tr>\n",
       "      <th>3472</th>\n",
       "      <td>567</td>\n",
       "      <td>176419</td>\n",
       "      <td>3.0</td>\n",
       "      <td>Mother!</td>\n",
       "      <td>Drama|Horror|Mystery|Thriller</td>\n",
       "      <td>2017.0</td>\n",
       "      <td>allegorical</td>\n",
       "    </tr>\n",
       "    <tr>\n",
       "      <th>3473</th>\n",
       "      <td>567</td>\n",
       "      <td>176419</td>\n",
       "      <td>3.0</td>\n",
       "      <td>Mother!</td>\n",
       "      <td>Drama|Horror|Mystery|Thriller</td>\n",
       "      <td>2017.0</td>\n",
       "      <td>uncomfortable</td>\n",
       "    </tr>\n",
       "    <tr>\n",
       "      <th>3474</th>\n",
       "      <td>567</td>\n",
       "      <td>176419</td>\n",
       "      <td>3.0</td>\n",
       "      <td>Mother!</td>\n",
       "      <td>Drama|Horror|Mystery|Thriller</td>\n",
       "      <td>2017.0</td>\n",
       "      <td>unsettling</td>\n",
       "    </tr>\n",
       "    <tr>\n",
       "      <th>3475</th>\n",
       "      <td>606</td>\n",
       "      <td>6107</td>\n",
       "      <td>4.0</td>\n",
       "      <td>Night of the Shooting Stars (Notte di San Lore...</td>\n",
       "      <td>Drama|War</td>\n",
       "      <td>1982.0</td>\n",
       "      <td>World War II</td>\n",
       "    </tr>\n",
       "  </tbody>\n",
       "</table>\n",
       "<p>3476 rows × 7 columns</p>\n",
       "</div>"
      ],
      "text/plain": [
       "      userId  movieId  rating  \\\n",
       "0        336        1     4.0   \n",
       "1        474        1     4.0   \n",
       "2        567        1     3.5   \n",
       "3        289        3     2.5   \n",
       "4        289        3     2.5   \n",
       "...      ...      ...     ...   \n",
       "3471     567   170945     3.5   \n",
       "3472     567   176419     3.0   \n",
       "3473     567   176419     3.0   \n",
       "3474     567   176419     3.0   \n",
       "3475     606     6107     4.0   \n",
       "\n",
       "                                                  title  \\\n",
       "0                                             Toy Story   \n",
       "1                                             Toy Story   \n",
       "2                                             Toy Story   \n",
       "3                                      Grumpier Old Men   \n",
       "4                                      Grumpier Old Men   \n",
       "...                                                 ...   \n",
       "3471                                  It Comes at Night   \n",
       "3472                                            Mother!   \n",
       "3473                                            Mother!   \n",
       "3474                                            Mother!   \n",
       "3475  Night of the Shooting Stars (Notte di San Lore...   \n",
       "\n",
       "                                           genres    year            tag  \n",
       "0     Adventure|Animation|Children|Comedy|Fantasy  1995.0          pixar  \n",
       "1     Adventure|Animation|Children|Comedy|Fantasy  1995.0          pixar  \n",
       "2     Adventure|Animation|Children|Comedy|Fantasy  1995.0            fun  \n",
       "3                                  Comedy|Romance  1995.0          moldy  \n",
       "4                                  Comedy|Romance  1995.0            old  \n",
       "...                                           ...     ...            ...  \n",
       "3471                      Horror|Mystery|Thriller  2017.0    Suspenseful  \n",
       "3472                Drama|Horror|Mystery|Thriller  2017.0    allegorical  \n",
       "3473                Drama|Horror|Mystery|Thriller  2017.0  uncomfortable  \n",
       "3474                Drama|Horror|Mystery|Thriller  2017.0     unsettling  \n",
       "3475                                    Drama|War  1982.0   World War II  \n",
       "\n",
       "[3476 rows x 7 columns]"
      ]
     },
     "execution_count": 33,
     "metadata": {},
     "output_type": "execute_result"
    }
   ],
   "source": [
    "# Preview the Dataset\n",
    "tagged_movies"
   ]
  },
  {
   "cell_type": "markdown",
   "id": "27854496",
   "metadata": {},
   "source": [
    "The features to be used will be in the `soup` column since they act as movie descriptions in this case. \n",
    "\n",
    "After the preprocessing has been done, the merged features can be vectorized but before this, it's best to decide whether to use `CountVectorizer` or `TfidfVectorizer`. In this case, `TfidfVectorizer` will be the best option since we would like to reduce the weight of common words and boost rare but descriptive tags that help distinguish one movie from another. After vectorizing, calculating the dot product will directly give us the cosine similarity score. Therefore, we will use sklearn's `linear_kernel()` instead of `cosine_similarities()` since it is faster."
   ]
  },
  {
   "cell_type": "code",
   "execution_count": 34,
   "id": "5de80b58",
   "metadata": {},
   "outputs": [
    {
     "data": {
      "text/plain": [
       "title\n",
       "Toy Story                      0\n",
       "Jumanji                        1\n",
       "Grumpier Old Men               2\n",
       "Father of the Bride Part II    3\n",
       "Sabrina                        4\n",
       "dtype: int64"
      ]
     },
     "execution_count": 34,
     "metadata": {},
     "output_type": "execute_result"
    }
   ],
   "source": [
    "# Convert the 'soup' text into a TF-IDF matrix (removes common English stop words if any)\n",
    "vectorizer = TfidfVectorizer(stop_words='english')\n",
    "count_matrix = vectorizer.fit_transform(merged_tags['soup'])\n",
    "\n",
    "# Compute cosine similarity between all movie pairs\n",
    "cosine_sim = linear_kernel(count_matrix, count_matrix)\n",
    "\n",
    "# Create a Series mapping movie titles to their index in the DataFrame\n",
    "indices = pd.Series(merged_tags.index, index=merged_tags['title'])\n",
    "\n",
    "# Preview the index mapping\n",
    "indices.head()"
   ]
  },
  {
   "cell_type": "markdown",
   "id": "3ac9df44",
   "metadata": {},
   "source": [
    "We are now in a good position to create our recommendation function that takes in a movie title, fetches the n-th similar movies and returns the movie titles, genres and year released.\n"
   ]
  },
  {
   "cell_type": "code",
   "execution_count": 35,
   "id": "9496f196",
   "metadata": {},
   "outputs": [],
   "source": [
    "def get_recommendations(title, n_recommendations=10):\n",
    "    # Check if the title exists in the index\n",
    "    if title not in indices.index:\n",
    "        raise ValueError(f\"Title '{title}' not found in the dataset.\")\n",
    "    \n",
    "    # Get index of the given movie title\n",
    "    index = indices[title]\n",
    "    \n",
    "    # Get similarity scores for all movies with the given movie\n",
    "    sim_scores = list(enumerate(cosine_sim[index]))\n",
    "    \n",
    "    # Sort by similarity score in descending order\n",
    "    sim_scores = sorted(sim_scores, key=lambda x: x[1], reverse=True)\n",
    "    \n",
    "    # Exclude the movie itself and select top 10 similar movies\n",
    "    sim_scores = sim_scores[1:n_recommendations + 1]\n",
    "    \n",
    "    # Get the indices of these top 10 similar movies\n",
    "    movie_indices = [i[0] for i in sim_scores]\n",
    "    \n",
    "    # Return the titles, genres, and years of the recommended movies\n",
    "    return merged_tags.iloc[movie_indices][['title', 'genres', 'year']]\n"
   ]
  },
  {
   "cell_type": "markdown",
   "id": "46d04728",
   "metadata": {},
   "source": [
    "Let's test out the recommendation system by getting top 10 movie recommendations for movies similar to `Jumanji`."
   ]
  },
  {
   "cell_type": "code",
   "execution_count": 36,
   "id": "ecfc0ec8",
   "metadata": {},
   "outputs": [
    {
     "data": {
      "text/html": [
       "<div>\n",
       "<style scoped>\n",
       "    .dataframe tbody tr th:only-of-type {\n",
       "        vertical-align: middle;\n",
       "    }\n",
       "\n",
       "    .dataframe tbody tr th {\n",
       "        vertical-align: top;\n",
       "    }\n",
       "\n",
       "    .dataframe thead th {\n",
       "        text-align: right;\n",
       "    }\n",
       "</style>\n",
       "<table border=\"1\" class=\"dataframe\">\n",
       "  <thead>\n",
       "    <tr style=\"text-align: right;\">\n",
       "      <th></th>\n",
       "      <th>title</th>\n",
       "      <th>genres</th>\n",
       "      <th>year</th>\n",
       "    </tr>\n",
       "  </thead>\n",
       "  <tbody>\n",
       "    <tr>\n",
       "      <th>1460</th>\n",
       "      <td>Tomb Raider</td>\n",
       "      <td>Action Adventure Fantasy</td>\n",
       "      <td>2018.0</td>\n",
       "    </tr>\n",
       "    <tr>\n",
       "      <th>1266</th>\n",
       "      <td>Night at the Museum</td>\n",
       "      <td>Action Comedy Fantasy IMAX</td>\n",
       "      <td>2006.0</td>\n",
       "    </tr>\n",
       "    <tr>\n",
       "      <th>880</th>\n",
       "      <td>Harry Potter and the Chamber of Secrets</td>\n",
       "      <td>Adventure Fantasy</td>\n",
       "      <td>2002.0</td>\n",
       "    </tr>\n",
       "    <tr>\n",
       "      <th>1125</th>\n",
       "      <td>Harry Potter and the Prisoner of Azkaban</td>\n",
       "      <td>Adventure Fantasy IMAX</td>\n",
       "      <td>2004.0</td>\n",
       "    </tr>\n",
       "    <tr>\n",
       "      <th>1249</th>\n",
       "      <td>Harry Potter and the Goblet of Fire</td>\n",
       "      <td>Adventure Fantasy Thriller IMAX</td>\n",
       "      <td>2005.0</td>\n",
       "    </tr>\n",
       "    <tr>\n",
       "      <th>585</th>\n",
       "      <td>Big</td>\n",
       "      <td>Comedy Drama Fantasy Romance</td>\n",
       "      <td>1988.0</td>\n",
       "    </tr>\n",
       "    <tr>\n",
       "      <th>1342</th>\n",
       "      <td>Sintel</td>\n",
       "      <td>Animation Fantasy</td>\n",
       "      <td>2010.0</td>\n",
       "    </tr>\n",
       "    <tr>\n",
       "      <th>1252</th>\n",
       "      <td>Chronicles of Narnia: The Lion, the Witch and ...</td>\n",
       "      <td>Adventure Children Fantasy</td>\n",
       "      <td>2005.0</td>\n",
       "    </tr>\n",
       "    <tr>\n",
       "      <th>1180</th>\n",
       "      <td>Kiki's Delivery Service (Majo no takkyûbin)</td>\n",
       "      <td>Adventure Animation Children Drama Fantasy</td>\n",
       "      <td>1989.0</td>\n",
       "    </tr>\n",
       "    <tr>\n",
       "      <th>1187</th>\n",
       "      <td>Cat Returns, The (Neko no ongaeshi)</td>\n",
       "      <td>Adventure Animation Children Fantasy</td>\n",
       "      <td>2002.0</td>\n",
       "    </tr>\n",
       "  </tbody>\n",
       "</table>\n",
       "</div>"
      ],
      "text/plain": [
       "                                                  title  \\\n",
       "1460                                        Tomb Raider   \n",
       "1266                                Night at the Museum   \n",
       "880             Harry Potter and the Chamber of Secrets   \n",
       "1125           Harry Potter and the Prisoner of Azkaban   \n",
       "1249                Harry Potter and the Goblet of Fire   \n",
       "585                                                 Big   \n",
       "1342                                             Sintel   \n",
       "1252  Chronicles of Narnia: The Lion, the Witch and ...   \n",
       "1180        Kiki's Delivery Service (Majo no takkyûbin)   \n",
       "1187                Cat Returns, The (Neko no ongaeshi)   \n",
       "\n",
       "                                          genres    year  \n",
       "1460                    Action Adventure Fantasy  2018.0  \n",
       "1266                  Action Comedy Fantasy IMAX  2006.0  \n",
       "880                            Adventure Fantasy  2002.0  \n",
       "1125                      Adventure Fantasy IMAX  2004.0  \n",
       "1249             Adventure Fantasy Thriller IMAX  2005.0  \n",
       "585                 Comedy Drama Fantasy Romance  1988.0  \n",
       "1342                           Animation Fantasy  2010.0  \n",
       "1252                  Adventure Children Fantasy  2005.0  \n",
       "1180  Adventure Animation Children Drama Fantasy  1989.0  \n",
       "1187        Adventure Animation Children Fantasy  2002.0  "
      ]
     },
     "execution_count": 36,
     "metadata": {},
     "output_type": "execute_result"
    }
   ],
   "source": [
    "# Get movie recommendations for movies similar to Jumanji\n",
    "get_recommendations('Jumanji', 10)"
   ]
  },
  {
   "cell_type": "markdown",
   "id": "e0f72ea6",
   "metadata": {},
   "source": [
    "The last step is creating a score to evaluate whether the recommendations given are relevant to the user or not. This score evaluates how well the content-based recommender is performing for a specific user. It compares the recommended movies to the ones the user has actually rated highly (rating ≥ 3.5). 3.5 was not chosen arbitrariry but was derived from the average movie ratings. The function will output the following metrics: \n",
    "\n",
    "* Total Hits: Number of recommended movies that the user already liked.\n",
    "\n",
    "* Precision@K: Proportion of recommended movies that were relevant (liked by the user).\n",
    "\n",
    "For example, if 4 out of 10 recommended movies are ones the user liked,\n",
    "the precision is 0.4 or 40%.\n"
   ]
  },
  {
   "cell_type": "code",
   "execution_count": 37,
   "id": "f600c6b2",
   "metadata": {},
   "outputs": [],
   "source": [
    "def content_based_scoring(userId, seed_title, n_recommendations=10):\n",
    "    # Get all movies rated by the user\n",
    "    user_ratings = movie_ratings[movie_ratings['userId'] == userId][['title', 'rating']]\n",
    "    \n",
    "    # Mark titles the user actually liked (e.g. rating >= 3.5)\n",
    "    actual_likes = user_ratings[user_ratings['rating'] >= 3.5]['title'].tolist()\n",
    "    \n",
    "    # Get recommended titles from content-based recommender\n",
    "    recommended = get_recommendations(seed_title, n_recommendations)\n",
    "    \n",
    "    # Binary relevance: 1 if recommended title is in user's actual likes\n",
    "    binary_relevance = [1 if rec_title in actual_likes else 0 for rec_title in recommended['title']]\n",
    "\n",
    "    # Return hits and optionally precision\n",
    "    total_hits = int(np.sum(binary_relevance))\n",
    "    precision = total_hits / n_recommendations\n",
    "\n",
    "    return f'Total Hits: {total_hits} | Precision@{n_recommendations}: {precision:.2f}'"
   ]
  },
  {
   "cell_type": "markdown",
   "id": "3e53738e",
   "metadata": {},
   "source": [
    "To test the performance of this model, let's check the movies rated by a particular user first then feed one of the movies to the score function to see the relevance."
   ]
  },
  {
   "cell_type": "code",
   "execution_count": 38,
   "id": "6a378565",
   "metadata": {},
   "outputs": [
    {
     "data": {
      "text/html": [
       "<div>\n",
       "<style scoped>\n",
       "    .dataframe tbody tr th:only-of-type {\n",
       "        vertical-align: middle;\n",
       "    }\n",
       "\n",
       "    .dataframe tbody tr th {\n",
       "        vertical-align: top;\n",
       "    }\n",
       "\n",
       "    .dataframe thead th {\n",
       "        text-align: right;\n",
       "    }\n",
       "</style>\n",
       "<table border=\"1\" class=\"dataframe\">\n",
       "  <thead>\n",
       "    <tr style=\"text-align: right;\">\n",
       "      <th></th>\n",
       "      <th>title</th>\n",
       "      <th>rating</th>\n",
       "    </tr>\n",
       "  </thead>\n",
       "  <tbody>\n",
       "    <tr>\n",
       "      <th>0</th>\n",
       "      <td>Toy Story</td>\n",
       "      <td>4.0</td>\n",
       "    </tr>\n",
       "    <tr>\n",
       "      <th>215</th>\n",
       "      <td>Grumpier Old Men</td>\n",
       "      <td>4.0</td>\n",
       "    </tr>\n",
       "    <tr>\n",
       "      <th>267</th>\n",
       "      <td>Heat</td>\n",
       "      <td>4.0</td>\n",
       "    </tr>\n",
       "    <tr>\n",
       "      <th>369</th>\n",
       "      <td>Seven (a.k.a. Se7en)</td>\n",
       "      <td>5.0</td>\n",
       "    </tr>\n",
       "    <tr>\n",
       "      <th>572</th>\n",
       "      <td>Usual Suspects, The</td>\n",
       "      <td>5.0</td>\n",
       "    </tr>\n",
       "  </tbody>\n",
       "</table>\n",
       "</div>"
      ],
      "text/plain": [
       "                    title  rating\n",
       "0               Toy Story     4.0\n",
       "215      Grumpier Old Men     4.0\n",
       "267                  Heat     4.0\n",
       "369  Seven (a.k.a. Se7en)     5.0\n",
       "572   Usual Suspects, The     5.0"
      ]
     },
     "execution_count": 38,
     "metadata": {},
     "output_type": "execute_result"
    }
   ],
   "source": [
    "# Check the movies rated by a particular user\n",
    "movie_ratings[movie_ratings['userId'] == 1][['title','rating']].head()"
   ]
  },
  {
   "cell_type": "markdown",
   "id": "e5cff7a9",
   "metadata": {},
   "source": [
    "`Seven (a.k.a. Se7en)` was rated pretty high. We will use it to check the performance of the recommender system."
   ]
  },
  {
   "cell_type": "code",
   "execution_count": 39,
   "id": "5beebcde",
   "metadata": {},
   "outputs": [
    {
     "data": {
      "text/plain": [
       "'Total Hits: 3 | Precision@10: 0.30'"
      ]
     },
     "execution_count": 39,
     "metadata": {},
     "output_type": "execute_result"
    }
   ],
   "source": [
    "content_based_scoring(1, 'Seven (a.k.a. Se7en)')"
   ]
  },
  {
   "cell_type": "markdown",
   "id": "d6d9daf1",
   "metadata": {},
   "source": [
    "#### Model Evaluation\n",
    "\n",
    "Out of the 10 movies recommended by your content-based recommender, 3 of them were actually liked by the user, based on their past ratings (i.e., the user rated them ≥ 3.5). The model has a moderate level of accuracy — it got 3 out of 10 right. The user might find some recommendations useful, but there’s room for improvement."
   ]
  },
  {
   "cell_type": "markdown",
   "id": "674b6e08",
   "metadata": {},
   "source": [
    "**Limitations** - One drawback of content-based filtering is recommends items similar to what the user already liked. This limits diversity and doesn't help users explore new content."
   ]
  },
  {
   "cell_type": "markdown",
   "id": "b6e72a4a",
   "metadata": {},
   "source": [
    "### Collaborative Filtering"
   ]
  },
  {
   "cell_type": "markdown",
   "id": "c8e439a6",
   "metadata": {},
   "source": [
    "#### KNN Basic\n",
    "\n",
    "In this section, we aim to build a collaborative filtering model using user-based KNN.\n",
    "The goal is to recommend movies to users based on the preferences of similar users.\n",
    "We will use cosine similarity to measure how similar users are, and fit the model on the full training dataset to learn user-user relationships.\n",
    "\n",
    "Before modelling, it is best to analyze whether to use user-based filtering or item-based filtering. This can be done by checking the size of both the users and items and choose the one with the least size in order to improve model training time."
   ]
  },
  {
   "cell_type": "code",
   "execution_count": 40,
   "id": "196eddc8",
   "metadata": {},
   "outputs": [
    {
     "name": "stdout",
     "output_type": "stream",
     "text": [
      "Using user-based filtering\n",
      "\n",
      "Number of users:  610\n",
      "Number of items:  9724\n"
     ]
    }
   ],
   "source": [
    "if dataset.n_users > dataset.n_items:       \n",
    "    print('Using item-based filtering\\n')\n",
    "else:\n",
    "    print('Using user-based filtering\\n')\n",
    "print('Number of users: ', dataset.n_users)\n",
    "print('Number of items: ', dataset.n_items)"
   ]
  },
  {
   "cell_type": "code",
   "execution_count": 41,
   "id": "6c92ed05",
   "metadata": {},
   "outputs": [
    {
     "name": "stdout",
     "output_type": "stream",
     "text": [
      "Computing the cosine similarity matrix...\n",
      "Done computing similarity matrix.\n"
     ]
    },
    {
     "data": {
      "text/plain": [
       "<surprise.prediction_algorithms.knns.KNNBasic at 0x20a1c940640>"
      ]
     },
     "execution_count": 41,
     "metadata": {},
     "output_type": "execute_result"
    }
   ],
   "source": [
    "# sets the similarity options for the KNN algorithm\n",
    "sim_options = {'name': 'cosine', 'user_based': True}\n",
    "# Initializes the KNNBasic algorithm using the similarity options we defined\n",
    "baseline_model = KNNBasic(sim_options=sim_options)\n",
    "baseline_model.fit(dataset)"
   ]
  },
  {
   "cell_type": "code",
   "execution_count": 42,
   "id": "91aa7b62",
   "metadata": {},
   "outputs": [],
   "source": [
    "with open('cosine_sim.pkl', 'wb') as f:\n",
    "    import pickle\n",
    "    pickle.dump(cosine_sim, f)"
   ]
  },
  {
   "cell_type": "markdown",
   "id": "29ba2c92",
   "metadata": {},
   "source": [
    "After training the model, let's evaluate the performance. We will use **root mean squared error (RMSE)** as the evaluation metric."
   ]
  },
  {
   "cell_type": "code",
   "execution_count": 43,
   "id": "bae8d579",
   "metadata": {},
   "outputs": [
    {
     "name": "stdout",
     "output_type": "stream",
     "text": [
      "Computing the cosine similarity matrix...\n",
      "Done computing similarity matrix.\n",
      "Computing the cosine similarity matrix...\n",
      "Done computing similarity matrix.\n",
      "Computing the cosine similarity matrix...\n",
      "Done computing similarity matrix.\n",
      "Computing the cosine similarity matrix...\n",
      "Done computing similarity matrix.\n",
      "Computing the cosine similarity matrix...\n",
      "Done computing similarity matrix.\n"
     ]
    },
    {
     "data": {
      "text/plain": [
       "'The model has an RMSE score of 0.9728688003143692'"
      ]
     },
     "execution_count": 43,
     "metadata": {},
     "output_type": "execute_result"
    }
   ],
   "source": [
    "# Define a function to evaluate a recommendation model using cross-validation\n",
    "def evaluate(model):\n",
    "    # Perform 5-fold cross-validation and compute RMSE for each fold\n",
    "    scores = cross_validate(model, data, measures=['RMSE'], cv=5)\n",
    "    \n",
    "    # Return the average RMSE across all folds\n",
    "    return f\"The model has an RMSE score of {scores['test_rmse'].mean()}\"\n",
    "\n",
    "evaluate(baseline_model)"
   ]
  },
  {
   "cell_type": "markdown",
   "id": "f6af9607",
   "metadata": {},
   "source": [
    "#### Hyperparameter Tuning: Optimizing the Number of Neighbors\n",
    "\n",
    "One of the most important hyperparameters in the KNN models is the number of neighbors `k`.\n",
    "This parameter determines how many similar users or items are considered when predicting a rating. A smaller k may lead to **high variance** and **overfitting**, while a larger k can smooth predictions but may **dilute personalization** by including less relevant neighbors.\n",
    "\n",
    "To get the optimal number of neighbors, we will need to iterate through a list of `k` values and find the vaue with the least RMSE"
   ]
  },
  {
   "cell_type": "code",
   "execution_count": 44,
   "id": "96202728",
   "metadata": {},
   "outputs": [
    {
     "data": {
      "image/png": "[encoded data removed]",
      "text/plain": [
       "<Figure size 720x432 with 1 Axes>"
      ]
     },
     "metadata": {},
     "output_type": "display_data"
    }
   ],
   "source": [
    "def optimal_k(knn_model):\n",
    "    # ── Define the range of odd k values to test (21, 23, … 49) \n",
    "    k_values = np.arange(21, 50, 2)\n",
    "    scores = []\n",
    "\n",
    "    # ── Train and evaluate the model for each k \n",
    "    for n in k_values:\n",
    "        model = knn_model(k=n, sim_options=sim_options, verbose=False)  # create model\n",
    "        model.fit(trainset)                                             # train\n",
    "        predictions = model.test(testset)                               # validate\n",
    "        score = accuracy.rmse(predictions, verbose=False)               # RMSE\n",
    "        scores.append(score)                                            # store score\n",
    "\n",
    "    # ── Plot RMSE versus k \n",
    "    plt.figure(figsize=(10, 6))\n",
    "    sns.set_style('darkgrid')\n",
    "    sns.lineplot(x=k_values, y=scores, color=\"green\")\n",
    "\n",
    "    # ── Highlight the k with the lowest RMSE \n",
    "    best_idx   = np.argmin(scores)\n",
    "    best_k     = k_values[best_idx]\n",
    "    best_score = scores[best_idx]\n",
    "    plt.scatter(best_k, best_score, color=\"red\", linewidths=3,\n",
    "                label=f'Optimal k: {best_k}\\nLowest RMSE: {best_score:.4f}')\n",
    "\n",
    "    # ── Plot labels and title\n",
    "    plt.xlabel('k values')\n",
    "    plt.ylabel('RMSE')\n",
    "    plt.title('Optimal k value for KNN')\n",
    "    plt.legend()\n",
    "    plt.show()\n",
    "\n",
    "# Run the search for KNNBasic\n",
    "optimal_k(KNNBasic)\n"
   ]
  },
  {
   "cell_type": "markdown",
   "id": "112cc2b1",
   "metadata": {},
   "source": [
    "The best `k` value with the least RMSE score is k = 33. Let's create a new model with k = 33 and evaluate the model performance."
   ]
  },
  {
   "cell_type": "code",
   "execution_count": 45,
   "id": "ddaac099",
   "metadata": {},
   "outputs": [
    {
     "data": {
      "text/plain": [
       "'The model has an RMSE score of 0.9719852574371032'"
      ]
     },
     "execution_count": 45,
     "metadata": {},
     "output_type": "execute_result"
    }
   ],
   "source": [
    "# Create an instance of KNNBasic with the optimal number of neighbors (k = 43)\n",
    "optimal_knn_basic = KNNBasic(k=43, sim_options=sim_options, verbose=False)\n",
    "\n",
    "# Train the model on the full dataset\n",
    "optimal_knn_basic.fit(dataset)\n",
    "\n",
    "# Evaluate the model using the evaluate function\n",
    "evaluate(optimal_knn_basic)"
   ]
  },
  {
   "cell_type": "markdown",
   "id": "60e92b1a",
   "metadata": {},
   "source": [
    "#### Model Evaluation\n",
    "\n",
    "The model has scored an RMSE score of 0.97. This means the model is off by roughly ±0.97 rating points per prediction.\n",
    "\n",
    "While not extremely poor, it's also not highly accurate suggesting that:\n",
    "\n",
    "* User similarity might not be capturing strong signals\n",
    "\n",
    "* There's likely data sparsity (not enough overlapping ratings)\n",
    "\n",
    "* Cold-start users or popular-item bias may be affecting results\n",
    "\n",
    "**Limitations** Doesn't generalize well for user/items with few ratings."
   ]
  },
  {
   "cell_type": "markdown",
   "id": "1827736b",
   "metadata": {},
   "source": [
    "#### KNN With Means"
   ]
  },
  {
   "cell_type": "markdown",
   "id": "af23f858",
   "metadata": {},
   "source": [
    "\n",
    "The **KNNWithMeans** algorithm is introduced as an enhancement over basic collaborative filtering methods by incorporating user-based neighborhood modeling with mean-centered rating predictions. This approach adjusts for individual user biases by subtracting each user’s average rating before computing similarity-based predictions. The similarity metric used here is cosine similarity, which effectively captures directional similarity in user preference patterns."
   ]
  },
  {
   "cell_type": "code",
   "execution_count": 46,
   "id": "f435e761",
   "metadata": {},
   "outputs": [
    {
     "name": "stdout",
     "output_type": "stream",
     "text": [
      "Computing the cosine similarity matrix...\n",
      "Done computing similarity matrix.\n"
     ]
    },
    {
     "data": {
      "text/plain": [
       "<surprise.prediction_algorithms.knns.KNNWithMeans at 0x20a1c223400>"
      ]
     },
     "execution_count": 46,
     "metadata": {},
     "output_type": "execute_result"
    }
   ],
   "source": [
    "# Initialize KNNWithMeans with similarity configuration\n",
    "knn_means = KNNWithMeans(sim_options=sim_options)\n",
    "# Fit model to the training dataset\n",
    "knn_means.fit(dataset)"
   ]
  },
  {
   "cell_type": "markdown",
   "id": "c34d9f0a",
   "metadata": {},
   "source": [
    "Let's perform model evaluation using cross validation with 5 folds then get the mean of the 5 root mean squared error (RMSE) scores. This will help us compare the performance of the model with the other models."
   ]
  },
  {
   "cell_type": "code",
   "execution_count": 47,
   "id": "a6d8885f",
   "metadata": {},
   "outputs": [
    {
     "name": "stdout",
     "output_type": "stream",
     "text": [
      "Computing the cosine similarity matrix...\n",
      "Done computing similarity matrix.\n",
      "Computing the cosine similarity matrix...\n",
      "Done computing similarity matrix.\n",
      "Computing the cosine similarity matrix...\n",
      "Done computing similarity matrix.\n",
      "Computing the cosine similarity matrix...\n",
      "Done computing similarity matrix.\n",
      "Computing the cosine similarity matrix...\n",
      "Done computing similarity matrix.\n"
     ]
    },
    {
     "data": {
      "text/plain": [
       "'The model has an RMSE score of 0.9018669970561607'"
      ]
     },
     "execution_count": 47,
     "metadata": {},
     "output_type": "execute_result"
    }
   ],
   "source": [
    "# Evaluate using 5-fold cross-validation (RMSE)\n",
    "evaluate(knn_means)"
   ]
  },
  {
   "cell_type": "markdown",
   "id": "d2ad6959",
   "metadata": {},
   "source": [
    "This indicates the model, on average, deviates by approximately 0.9 rating points from actual user ratings—an acceptable performance for a baseline collaborative filtering method on sparse recommendation data."
   ]
  },
  {
   "cell_type": "markdown",
   "id": "2fa173bb",
   "metadata": {},
   "source": [
    "### Hyperparameter Tuning: Optimizing the Number of Neighbors"
   ]
  },
  {
   "cell_type": "markdown",
   "id": "aa9af70a",
   "metadata": {},
   "source": [
    "To find the optimal number of neighbors, we will iterate through a list of `k` values and find the optimal value for `k` with the least RMSE."
   ]
  },
  {
   "cell_type": "code",
   "execution_count": 48,
   "id": "8418ed7f",
   "metadata": {},
   "outputs": [
    {
     "data": {
      "image/png": "[encoded data removed]",
      "text/plain": [
       "<Figure size 720x432 with 1 Axes>"
      ]
     },
     "metadata": {},
     "output_type": "display_data"
    }
   ],
   "source": [
    "# Fit KNNWithMeans with optimal number of neighbors (k)\n",
    "optimal_k(KNNWithMeans)"
   ]
  },
  {
   "cell_type": "markdown",
   "id": "c4d09620",
   "metadata": {},
   "source": [
    "To improve performance, we search for the optimal number of neighbors (k),as it greatly affects collaborative filtering performance.\n",
    "After tuning, we find that k = 35 yields the best results.\n",
    "With this in mind, let's create a new model with the optimal number of neighbors (35) and check the performance.\n"
   ]
  },
  {
   "cell_type": "code",
   "execution_count": 49,
   "id": "dad6f520",
   "metadata": {},
   "outputs": [
    {
     "data": {
      "text/plain": [
       "<surprise.prediction_algorithms.knns.KNNWithMeans at 0x20a1c1f4f10>"
      ]
     },
     "execution_count": 49,
     "metadata": {},
     "output_type": "execute_result"
    }
   ],
   "source": [
    "# Build the optimal KNNWithMeans model with the best k value\n",
    "optimal_knn_means = KNNWithMeans(k= 35, sim_options=sim_options, verbose=False)\n",
    "optimal_knn_means.fit(dataset)"
   ]
  },
  {
   "cell_type": "markdown",
   "id": "0c64115c",
   "metadata": {},
   "source": [
    "The model is evaluated using 5-fold cross-validation to estimate its generalization performance. We use Root Mean Square Error (RMSE) as the evaluation metric because it penalizes larger errors more than MAE, making it appropriate for recommendation systems."
   ]
  },
  {
   "cell_type": "code",
   "execution_count": 50,
   "id": "23eefeb3",
   "metadata": {},
   "outputs": [
    {
     "data": {
      "text/plain": [
       "'The model has an RMSE score of 0.901530371594221'"
      ]
     },
     "execution_count": 50,
     "metadata": {},
     "output_type": "execute_result"
    }
   ],
   "source": [
    "# Evaluate optimized model\n",
    "evaluate(optimal_knn_means)"
   ]
  },
  {
   "cell_type": "markdown",
   "id": "d68a5cbc",
   "metadata": {},
   "source": [
    "#### Model Evaluation\n",
    "\n",
    "the model has an RMSE score of 0.90. Although the improvement is marginal, this suggests that fine-tuning the neighborhood size contributes to slightly more accurate predictions, particularly for users with sparse rating histories. \n",
    "\n",
    "**Limitations** - Poor performance when user/item has few ratings. The model also requires many co-rated items for meaningful similarity.\n",
    "\n",
    "**Recommendations** - Use **Model based models** such as SVD which capture latent factors between users and items."
   ]
  },
  {
   "cell_type": "markdown",
   "id": "64441253",
   "metadata": {},
   "source": [
    "#### Singluar Value Decomposition (SVD)"
   ]
  },
  {
   "cell_type": "markdown",
   "id": "e8c3f5c3",
   "metadata": {},
   "source": [
    "To complement the user-based collaborative filtering approach, a model-based technique—Singular Value Decomposition (SVD)—is utilized. Unlike neighborhood models, SVD captures latent relationships between users and items by factorizing the user-item interaction matrix into lower-dimensional representations. This method is particularly effective in handling sparse datasets and uncovering deeper patterns in user preferences."
   ]
  },
  {
   "cell_type": "code",
   "execution_count": 51,
   "id": "cf2e6322",
   "metadata": {},
   "outputs": [],
   "source": [
    "# Define the hyperparameter grid for SVD\n",
    "param_grid = {\n",
    "    'n_factors': [50, 100],\n",
    "    'n_epochs': [10, 20],\n",
    "    'lr_all': [0.002, 0.005],\n",
    "    'reg_all': [0.02, 0.1]\n",
    "}\n",
    "grid_svd = GridSearchCV(SVD, param_grid, measures=['rmse', 'mae'], cv=3, joblib_verbose=1)\n",
    "grid_svd.fit(data)"
   ]
  },
  {
   "cell_type": "markdown",
   "id": "d616c68f",
   "metadata": {},
   "source": [
    "The search explores 48 different parameter combinations using 3-fold cross-validation. Evaluation metrics include both RMSE (Root Mean Square Error) and MAE (Mean Absolute Error)."
   ]
  },
  {
   "cell_type": "code",
   "execution_count": 52,
   "id": "946d52a9",
   "metadata": {},
   "outputs": [
    {
     "data": {
      "text/plain": [
       "(0.8754447008298616,\n",
       " {'n_factors': 50, 'n_epochs': 20, 'lr_all': 0.005, 'reg_all': 0.1})"
      ]
     },
     "execution_count": 52,
     "metadata": {},
     "output_type": "execute_result"
    }
   ],
   "source": [
    "# Show best score and parameters\n",
    "grid_svd.best_score['rmse'], grid_svd.best_params['rmse']"
   ]
  },
  {
   "cell_type": "markdown",
   "id": "3e7fe14c",
   "metadata": {},
   "source": [
    "The optimized SVD model garnered a score of 0.875 on RMSE. This is a marginal improved from 0.901 gotten by the best Memory-Based model. Let's npw create a fresh model with the best parameters and get a prediction."
   ]
  },
  {
   "cell_type": "code",
   "execution_count": 53,
   "id": "2e09810b",
   "metadata": {},
   "outputs": [
    {
     "data": {
      "text/plain": [
       "<surprise.prediction_algorithms.matrix_factorization.SVD at 0x20a170ba340>"
      ]
     },
     "execution_count": 53,
     "metadata": {},
     "output_type": "execute_result"
    }
   ],
   "source": [
    "# Fit the best estimator from grid search\n",
    "best_svd = grid_svd.best_estimator['rmse']\n",
    "best_svd.fit(trainset)"
   ]
  },
  {
   "cell_type": "code",
   "execution_count": 54,
   "id": "d05dca92",
   "metadata": {},
   "outputs": [
    {
     "data": {
      "text/plain": [
       "Prediction(uid=1, iid=356, r_ui=None, est=4.822565329265294, details={'was_impossible': False})"
      ]
     },
     "execution_count": 54,
     "metadata": {},
     "output_type": "execute_result"
    }
   ],
   "source": [
    "# Predict rating for user 1 on movie 356\n",
    "best_svd.predict(1, 356)"
   ]
  },
  {
   "cell_type": "markdown",
   "id": "813f7f3b",
   "metadata": {},
   "source": [
    "The model estimates that user 1 would rate the movie with movieId 356 approximately 4.75. Let's now create a function that takes in a userId and number of recomendations as arguments, calculates the top n movies that the user is likely to rate highly and return the list with their corresponding ratings.\n"
   ]
  },
  {
   "cell_type": "code",
   "execution_count": 55,
   "id": "acde5bd5",
   "metadata": {},
   "outputs": [],
   "source": [
    "def recommendations(user_id, n_recommendations=10):\n",
    "    # Get every unique movie ID in the dataset\n",
    "    all_movie_ids = movie_ratings['movieId'].unique()\n",
    "\n",
    "    # Movies the target user has already rated\n",
    "    rated_movies = movie_ratings[movie_ratings['userId'] == user_id]['movieId'].unique()\n",
    "\n",
    "    # Movies the user has NOT rated\n",
    "    unrated_movies = [movie_id for movie_id in all_movie_ids if movie_id not in rated_movies]\n",
    "\n",
    "    # Predict ratings for each unrated movie using the trained SVD model\n",
    "    predictions = [best_svd.predict(user_id, movie_id) for movie_id in unrated_movies]\n",
    "\n",
    "    # Sort predictions by estimated rating, highest first\n",
    "    predictions.sort(key=lambda x: x.est, reverse=True)\n",
    "\n",
    "    # Keep the top‑N predictions\n",
    "    top_recommendations = predictions[:n_recommendations]\n",
    "\n",
    "    # Build a DataFrame of titles and their estimated ratings\n",
    "    titles = []\n",
    "    est_scores = []\n",
    "    for rec in top_recommendations:\n",
    "        title = movies_clean.loc[movies_clean['movieId'] == rec.iid, 'title'].values[0]\n",
    "        titles.append(title)\n",
    "        est_scores.append(rec.est)\n",
    "\n",
    "    return pd.DataFrame(est_scores, titles, columns=['Estimated Rating'])\n"
   ]
  },
  {
   "cell_type": "markdown",
   "id": "62992abb",
   "metadata": {},
   "source": [
    "Let's try getting movie recommendations for a given user"
   ]
  },
  {
   "cell_type": "code",
   "execution_count": 56,
   "id": "6afa01ec",
   "metadata": {},
   "outputs": [
    {
     "data": {
      "text/html": [
       "<div>\n",
       "<style scoped>\n",
       "    .dataframe tbody tr th:only-of-type {\n",
       "        vertical-align: middle;\n",
       "    }\n",
       "\n",
       "    .dataframe tbody tr th {\n",
       "        vertical-align: top;\n",
       "    }\n",
       "\n",
       "    .dataframe thead th {\n",
       "        text-align: right;\n",
       "    }\n",
       "</style>\n",
       "<table border=\"1\" class=\"dataframe\">\n",
       "  <thead>\n",
       "    <tr style=\"text-align: right;\">\n",
       "      <th></th>\n",
       "      <th>Estimated Rating</th>\n",
       "    </tr>\n",
       "  </thead>\n",
       "  <tbody>\n",
       "    <tr>\n",
       "      <th>Shawshank Redemption, The</th>\n",
       "      <td>5.000000</td>\n",
       "    </tr>\n",
       "    <tr>\n",
       "      <th>Lawrence of Arabia</th>\n",
       "      <td>5.000000</td>\n",
       "    </tr>\n",
       "    <tr>\n",
       "      <th>Streetcar Named Desire, A</th>\n",
       "      <td>4.985713</td>\n",
       "    </tr>\n",
       "    <tr>\n",
       "      <th>Dr. Strangelove or: How I Learned to Stop Worrying and Love the Bomb</th>\n",
       "      <td>4.954248</td>\n",
       "    </tr>\n",
       "    <tr>\n",
       "      <th>Cool Hand Luke</th>\n",
       "      <td>4.935177</td>\n",
       "    </tr>\n",
       "    <tr>\n",
       "      <th>Great Escape, The</th>\n",
       "      <td>4.932935</td>\n",
       "    </tr>\n",
       "    <tr>\n",
       "      <th>Rear Window</th>\n",
       "      <td>4.914203</td>\n",
       "    </tr>\n",
       "    <tr>\n",
       "      <th>Harold and Maude</th>\n",
       "      <td>4.899939</td>\n",
       "    </tr>\n",
       "    <tr>\n",
       "      <th>Philadelphia Story, The</th>\n",
       "      <td>4.899604</td>\n",
       "    </tr>\n",
       "    <tr>\n",
       "      <th>Casablanca</th>\n",
       "      <td>4.893551</td>\n",
       "    </tr>\n",
       "  </tbody>\n",
       "</table>\n",
       "</div>"
      ],
      "text/plain": [
       "                                                    Estimated Rating\n",
       "Shawshank Redemption, The                                   5.000000\n",
       "Lawrence of Arabia                                          5.000000\n",
       "Streetcar Named Desire, A                                   4.985713\n",
       "Dr. Strangelove or: How I Learned to Stop Worry...          4.954248\n",
       "Cool Hand Luke                                              4.935177\n",
       "Great Escape, The                                           4.932935\n",
       "Rear Window                                                 4.914203\n",
       "Harold and Maude                                            4.899939\n",
       "Philadelphia Story, The                                     4.899604\n",
       "Casablanca                                                  4.893551"
      ]
     },
     "execution_count": 56,
     "metadata": {},
     "output_type": "execute_result"
    }
   ],
   "source": [
    "# Get recommendations for user 1\n",
    "recommendations(1)"
   ]
  },
  {
   "cell_type": "markdown",
   "id": "65f277ee",
   "metadata": {},
   "source": [
    "#### Model Evaluation\n",
    "\n",
    "The model has an RMSE score of 0.875. This is a marginal increase in performance over the memory based systems. The SVD model demonstrates superior performance compared to KNNWithMeans, confirming the effectiveness of latent factor modeling for rating prediction and recommendation tasks.\n",
    "\n",
    "**Limitations** - Despite its strong performance, SVD requires sufficient historical user interaction data to generate accurate predictions. This makes it poorly suited for cold-start scenarios i.e., when dealing with new users or new items — as it lacks contextual information to make relevant suggestions.\n",
    "\n",
    "**Recommendation** -  build a hybrid recommender system that combines the strengths of both collaborative filtering (like SVD) and content-based filtering. This ensures better coverage for cold users/items and improved personalization across varying user behavior patterns. "
   ]
  },
  {
   "cell_type": "code",
   "execution_count": 57,
   "id": "6488d567",
   "metadata": {},
   "outputs": [
    {
     "data": {
      "image/png": "[encoded data removed]",
      "text/plain": [
       "<Figure size 720x432 with 1 Axes>"
      ]
     },
     "metadata": {},
     "output_type": "display_data"
    }
   ],
   "source": [
    "# Compare the RMSE of different models\n",
    "model_names = ['KNN Basic', 'KNNWithMeans', 'SVD (Collaborative)']\n",
    "rmse_values = [0.9730, 0.9005, 0.8746] # Using values from cell_id: 96174407\n",
    "\n",
    "# Create a DataFrame for plotting\n",
    "rmse_df = pd.DataFrame({\n",
    "    'Model': model_names,\n",
    "    'RMSE': rmse_values\n",
    "})\n",
    "\n",
    "# Sort by RMSE for better visualization (Descending order)\n",
    "rmse_df = rmse_df.sort_values('RMSE', ascending=False)\n",
    "\n",
    "# Create the bar chart\n",
    "plt.figure(figsize=(10, 6))\n",
    "sns.barplot(x='Model', y='RMSE', data=rmse_df, palette='viridis')\n",
    "plt.ylabel('RMSE')\n",
    "plt.title('Comparison of Model RMSE Scores')\n",
    "plt.ylim(0.8, 1.0) # Set y-axis limits to focus on the differences\n",
    "plt.show()"
   ]
  },
  {
   "cell_type": "markdown",
   "id": "33415191",
   "metadata": {},
   "source": [
    "### Hybrid Filtering\n",
    "\n",
    "A hybrid recommender system integrates collaborative filtering and content-based filtering to overcome the limitations of each individual method and enhance overall recommendation quality. It addresses the cold-start problem in collaborative filtering by switching to content-based filtering for new or unrated users. For users with sufficient interaction history, it leverages collaborative filtering to introduce diversity and improve personalization.\n",
    "\n",
    "Let's create a function that implements this by using collaborative filtering when a user interaction history is present and switches to content-based filtering when a cold user is encountered."
   ]
  },
  {
   "cell_type": "code",
   "execution_count": 58,
   "id": "bc0f8596",
   "metadata": {},
   "outputs": [],
   "source": [
    "def mixed_hybrid_system(user_id, title=None, top_n=10,):\n",
    "    \"\"\"\n",
    "    Recommend with CF if user has ratings; otherwise prompt (or use title)\n",
    "    for a movie title and fall back to content-based recommendations.\n",
    "    \"\"\"\n",
    "    # ---------------------------------------------------------\n",
    "    # 1. Check if user has ratings (cold‑start detection)\n",
    "   \n",
    "    rated_movie_ids = movie_ratings.loc[\n",
    "        movie_ratings['userId'] == user_id, 'movieId'\n",
    "    ].unique()\n",
    "    cold_user = len(rated_movie_ids) == 0      # True if no history\n",
    "\n",
    "    # ---------------------------------------------------------\n",
    "    # 2. If WARM user → Collaborative Filtering branch\n",
    "   \n",
    "    if not cold_user:\n",
    "        # Build CF candidate set (movies the user hasn't rated yet)\n",
    "        all_movie_ids = movie_ratings['movieId'].unique()\n",
    "        unrated_movies = [mid for mid in all_movie_ids if mid not in rated_movie_ids]\n",
    "\n",
    "        # Predict ratings with SVD\n",
    "        cf_preds = [(mid, best_svd.predict(user_id, mid).est) for mid in unrated_movies]\n",
    "        top_cf = sorted(cf_preds, key=lambda x: x[1], reverse=True)[:top_n]\n",
    "        cf_ids  = [mid for mid, _ in top_cf]\n",
    "\n",
    "        recs = movie_ratings[movie_ratings['movieId'].isin(cf_ids)][\n",
    "            ['title', 'genres', 'year']].copy()\n",
    "        recs['source'] = 'Collaborative Filtering'\n",
    "        return recs\n",
    "\n",
    "    # ---------------------------------------------------------\n",
    "    # 3. If COLD user → need a title for content‑based\n",
    "    # If caller didn’t supply a title, ask interactively\n",
    "    if title is None:\n",
    "        title = input(\n",
    "            \"No Movie Records found on User Account. Type a movie you like so I can recommend similar ones: \"\n",
    "        ).strip()\n",
    "\n",
    "    # Validate seed title\n",
    "    if title not in indices:\n",
    "        raise ValueError(f\"Seed title '{title}' not found in the catalog.\")\n",
    "\n",
    "    # Content‑based similarity\n",
    "    seed_idx    = indices[title]\n",
    "    sim_scores  = list(enumerate(cosine_sim[seed_idx]))\n",
    "    sim_scores  = sorted(sim_scores, key=lambda x: x[1], reverse=True)[1:top_n+1]\n",
    "    cb_indices  = [i[0] for i in sim_scores]\n",
    "\n",
    "    recs = merged_tags.iloc[cb_indices][['title', 'genres', 'year']].copy()\n",
    "    recs['source'] = 'Content‑Based (cold user)'\n",
    "    return recs\n"
   ]
  },
  {
   "cell_type": "code",
   "execution_count": null,
   "id": "0512523a",
   "metadata": {},
   "outputs": [],
   "source": []
  },
  {
   "cell_type": "markdown",
   "id": "dcd12e05",
   "metadata": {},
   "source": [
    "Let's try this on a user to ccheck the output:"
   ]
  },
  {
   "cell_type": "code",
   "execution_count": null,
   "id": "c7d4d471",
   "metadata": {},
   "outputs": [],
   "source": [
    "# Recommend movies similar to Juman\n",
    "mixed_hybrid_system(100000, top_n=10)"
   ]
  },
  {
   "cell_type": "markdown",
   "id": "24a1bd31",
   "metadata": {},
   "source": [
    "#### Model Evaluation\n",
    "\n",
    "This system uses a collaborative filter as the default recommender system but when a cold user is encountered, the system switches to a content-based filter and prompts the user to provide a movie that the user likes in order to provide recommendations of similar movies.\n",
    "\n",
    "This model addresses the shortcomings of all the other models created and will hereby be the **Final Model**."
   ]
  },
  {
   "cell_type": "markdown",
   "id": "8c43ca87",
   "metadata": {},
   "source": [
    "## Business Recommendations\n",
    "\n",
    "**1.Personalize User Experience**\n",
    "\n",
    "Implement collaborative filtering and content-based models on streaming platforms to suggest movies based on individual preferences, significantly improving engagement.\n",
    "\n",
    "**2.Cold-Start Strategy**\n",
    "\n",
    "Leverage content-based filtering for new users (with minimal history) by recommending movies similar in genre, tags, or metadata to their initial interests.\n",
    "\n",
    "**3.Hybrid Approach for Robustness**\n",
    "\n",
    "Adopt a weighted or switching hybrid recommender system to balance the strengths of collaborative and content-based methods, resulting in more accurate and diverse suggestions.\n",
    "\n",
    "**4.Promote Hidden Gems**\n",
    "\n",
    "Use model-generated high-rated but under-watched movies to diversify recommendations and promote lesser-known titles, potentially increasing catalog utilization.\n",
    "\n",
    "**5.User Tag Insights**\n",
    "\n",
    "Incorporate user-generated tags as a valuable metadata layer to enhance content relevance in recommendations and search.\n",
    "\n"
   ]
  },
  {
   "cell_type": "markdown",
   "id": "ae6edd2b",
   "metadata": {},
   "source": [
    "## Conclusion\n",
    "\n",
    "This project successfully built a multi-faceted movie recommendation system using the MovieLens dataset. By integrating collaborative filtering (KNN, KNNWithMeans, SVD), content-based filtering (tags + genre TF-IDF), and hybrid approaches, we were able to:\n",
    "\n",
    "Capture user-specific preferences,\n",
    "\n",
    "Address cold-start scenarios,\n",
    "\n",
    "Generate diverse and interpretable recommendations.\n",
    "\n",
    "The optimal model (SVD via GridSearchCV) achieved the lowest RMSE (~0.87), indicating strong predictive performance. The hybrid models further improved flexibility by dynamically adapting to user history depth.\n",
    "\n",
    "This work demonstrates the real-world applicability of machine learning in recommendation systems and how data-driven personalization can drive engagement for media platforms.\n",
    "\n"
   ]
  },
  {
   "cell_type": "markdown",
   "id": "ad4cd21e",
   "metadata": {},
   "source": [
    "## Future Works - Kelvin\n",
    "\n",
    "**1.Deep Learning Approaches**\n",
    "\n",
    "Explore neural collaborative filtering (NCF), autoencoders, or attention-based models for more nuanced representations of user-item interactions.\n",
    "\n",
    "**2.Incorporate Implicit Feedback**\n",
    "\n",
    "Include additional user behavior data (e.g., watch time, click-throughs) to complement explicit ratings and capture broader engagement signals.\n",
    "\n",
    "**3.Temporal Dynamics**\n",
    "\n",
    "Model temporal effects using time-aware recommender systems to capture changing user preferences and movie trends over time.\n",
    "\n",
    "**4.Context-Aware Recommendations**\n",
    "\n",
    "Integrate contextual signals (e.g., device, time of day, mood) for session-based or situational recommendations.\n",
    "\n",
    "**5.A/B Testing in Production**\n",
    "\n",
    "Simulate or implement A/B testing frameworks to evaluate recommendation strategies in real-world settings.\n"
   ]
  }
 ],
 "metadata": {
  "kernelspec": {
   "display_name": "learn-env",
   "language": "python",
   "name": "python3"
  },
  "language_info": {
   "codemirror_mode": {
    "name": "ipython",
    "version": 3
   },
   "file_extension": ".py",
   "mimetype": "text/x-python",
   "name": "python",
   "nbconvert_exporter": "python",
   "pygments_lexer": "ipython3",
   "version": "3.8.5"
  }
 },
 "nbformat": 4,
 "nbformat_minor": 5
}
