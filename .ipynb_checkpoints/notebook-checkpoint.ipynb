{
 "cells": [
  {
   "cell_type": "markdown",
   "id": "efdb031c",
   "metadata": {},
   "source": [
    "# Movielens Recommender System"
   ]
  },
  {
   "cell_type": "markdown",
   "id": "5c6656d6",
   "metadata": {},
   "source": [
    "## Summary - Hannah"
   ]
  },
  {
   "cell_type": "markdown",
   "id": "4556e0e4",
   "metadata": {},
   "source": [
    "## Project Overview - Hannah"
   ]
  },
  {
   "cell_type": "markdown",
   "id": "a7960c07",
   "metadata": {},
   "source": [
    "## Project Objectives - Hannah\n",
    "\n",
    "1. "
   ]
  },
  {
   "cell_type": "markdown",
   "id": "e8444adb",
   "metadata": {},
   "source": [
    "## Importing Libraries"
   ]
  },
  {
   "cell_type": "code",
   "execution_count": 12,
   "id": "f4e87841",
   "metadata": {},
   "outputs": [],
   "source": [
    "import pandas as pd\n",
    "import numpy as np\n",
    "from surprise.model_selection import train_test_split, GridSearchCV, cross_validate\n",
    "from surprise.prediction_algorithms import knns, SVD\n",
    "from surprise.similarities import cosine, pearson\n",
    "import matplotlib.pyplot as plt\n",
    "import seaborn as sns\n",
    "from surprise import Dataset, Reader\n",
    "from sklearn.feature_extraction.text import CountVectorizer, TfidfVectorizer\n",
    "from sklearn.metrics.pairwise import linear_kernel\n",
    "from surprise import KNNBasic, KNNWithMeans, KNNBaseline\n",
    "from surprise import accuracy"
   ]
  },
  {
   "cell_type": "markdown",
   "id": "78c0397c",
   "metadata": {},
   "source": [
    "## Data Understanding - Hannah"
   ]
  },
  {
   "cell_type": "code",
   "execution_count": 13,
   "id": "7c5f235b",
   "metadata": {},
   "outputs": [],
   "source": [
    "movies = pd.read_csv('data/movies.csv')\n",
    "links = pd.read_csv('data/links.csv', index_col=0)\n",
    "ratings = pd.read_csv('data/ratings.csv')\n",
    "tag = pd.read_csv('data/tags.csv')"
   ]
  },
  {
   "cell_type": "markdown",
   "id": "08975a95",
   "metadata": {},
   "source": [
    "### Movies Dataset"
   ]
  },
  {
   "cell_type": "code",
   "execution_count": 14,
   "id": "5b6bd0e2",
   "metadata": {},
   "outputs": [
    {
     "data": {
      "text/html": [
       "<div>\n",
       "<style scoped>\n",
       "    .dataframe tbody tr th:only-of-type {\n",
       "        vertical-align: middle;\n",
       "    }\n",
       "\n",
       "    .dataframe tbody tr th {\n",
       "        vertical-align: top;\n",
       "    }\n",
       "\n",
       "    .dataframe thead th {\n",
       "        text-align: right;\n",
       "    }\n",
       "</style>\n",
       "<table border=\"1\" class=\"dataframe\">\n",
       "  <thead>\n",
       "    <tr style=\"text-align: right;\">\n",
       "      <th></th>\n",
       "      <th>movieId</th>\n",
       "      <th>title</th>\n",
       "      <th>genres</th>\n",
       "    </tr>\n",
       "  </thead>\n",
       "  <tbody>\n",
       "    <tr>\n",
       "      <th>0</th>\n",
       "      <td>1</td>\n",
       "      <td>Toy Story (1995)</td>\n",
       "      <td>Adventure|Animation|Children|Comedy|Fantasy</td>\n",
       "    </tr>\n",
       "    <tr>\n",
       "      <th>1</th>\n",
       "      <td>2</td>\n",
       "      <td>Jumanji (1995)</td>\n",
       "      <td>Adventure|Children|Fantasy</td>\n",
       "    </tr>\n",
       "    <tr>\n",
       "      <th>2</th>\n",
       "      <td>3</td>\n",
       "      <td>Grumpier Old Men (1995)</td>\n",
       "      <td>Comedy|Romance</td>\n",
       "    </tr>\n",
       "    <tr>\n",
       "      <th>3</th>\n",
       "      <td>4</td>\n",
       "      <td>Waiting to Exhale (1995)</td>\n",
       "      <td>Comedy|Drama|Romance</td>\n",
       "    </tr>\n",
       "    <tr>\n",
       "      <th>4</th>\n",
       "      <td>5</td>\n",
       "      <td>Father of the Bride Part II (1995)</td>\n",
       "      <td>Comedy</td>\n",
       "    </tr>\n",
       "  </tbody>\n",
       "</table>\n",
       "</div>"
      ],
      "text/plain": [
       "   movieId                               title  \\\n",
       "0        1                    Toy Story (1995)   \n",
       "1        2                      Jumanji (1995)   \n",
       "2        3             Grumpier Old Men (1995)   \n",
       "3        4            Waiting to Exhale (1995)   \n",
       "4        5  Father of the Bride Part II (1995)   \n",
       "\n",
       "                                        genres  \n",
       "0  Adventure|Animation|Children|Comedy|Fantasy  \n",
       "1                   Adventure|Children|Fantasy  \n",
       "2                               Comedy|Romance  \n",
       "3                         Comedy|Drama|Romance  \n",
       "4                                       Comedy  "
      ]
     },
     "execution_count": 14,
     "metadata": {},
     "output_type": "execute_result"
    }
   ],
   "source": [
    "movies.head()"
   ]
  },
  {
   "cell_type": "code",
   "execution_count": 15,
   "id": "94858bd5",
   "metadata": {},
   "outputs": [
    {
     "name": "stdout",
     "output_type": "stream",
     "text": [
      "-------- Dataframe Shape -------\n",
      "\n",
      "The dataframe has 9742 rows and 3 columns\n",
      "\n",
      "-------- Dataframe Info --------\n",
      "\n",
      "<class 'pandas.core.frame.DataFrame'>\n",
      "RangeIndex: 9742 entries, 0 to 9741\n",
      "Data columns (total 3 columns):\n",
      " #   Column   Non-Null Count  Dtype \n",
      "---  ------   --------------  ----- \n",
      " 0   movieId  9742 non-null   int64 \n",
      " 1   title    9742 non-null   object\n",
      " 2   genres   9742 non-null   object\n",
      "dtypes: int64(1), object(2)\n",
      "memory usage: 228.5+ KB\n",
      "None\n",
      "\n",
      "\n",
      "-------- Dataframe Descriptive Statistics --------\n",
      "\n",
      "             movieId\n",
      "count    9742.000000\n",
      "mean    42200.353623\n",
      "std     52160.494854\n",
      "min         1.000000\n",
      "25%      3248.250000\n",
      "50%      7300.000000\n",
      "75%     76232.000000\n",
      "max    193609.000000\n",
      "\n",
      "\n"
     ]
    }
   ],
   "source": [
    "from data_utils import summary\n",
    "summary(movies)"
   ]
  },
  {
   "cell_type": "code",
   "execution_count": 16,
   "id": "31febbfe",
   "metadata": {},
   "outputs": [
    {
     "name": "stdout",
     "output_type": "stream",
     "text": [
      "-------- DataFrame Missing Values --------\n",
      "\n",
      "movieId    0\n",
      "title      0\n",
      "genres     0\n",
      "dtype: int64\n",
      "\n",
      "\n",
      "-------- Dataframe Duplicate Values --------\n",
      "\n",
      "False    9742\n",
      "dtype: int64\n"
     ]
    }
   ],
   "source": [
    "from data_utils import data_integrity\n",
    "data_integrity(movies)"
   ]
  },
  {
   "cell_type": "markdown",
   "id": "cb5554c3",
   "metadata": {},
   "source": [
    "### Ratings Dataset"
   ]
  },
  {
   "cell_type": "code",
   "execution_count": 17,
   "id": "f5686d76",
   "metadata": {},
   "outputs": [
    {
     "data": {
      "text/html": [
       "<div>\n",
       "<style scoped>\n",
       "    .dataframe tbody tr th:only-of-type {\n",
       "        vertical-align: middle;\n",
       "    }\n",
       "\n",
       "    .dataframe tbody tr th {\n",
       "        vertical-align: top;\n",
       "    }\n",
       "\n",
       "    .dataframe thead th {\n",
       "        text-align: right;\n",
       "    }\n",
       "</style>\n",
       "<table border=\"1\" class=\"dataframe\">\n",
       "  <thead>\n",
       "    <tr style=\"text-align: right;\">\n",
       "      <th></th>\n",
       "      <th>userId</th>\n",
       "      <th>movieId</th>\n",
       "      <th>rating</th>\n",
       "      <th>timestamp</th>\n",
       "    </tr>\n",
       "  </thead>\n",
       "  <tbody>\n",
       "    <tr>\n",
       "      <th>0</th>\n",
       "      <td>1</td>\n",
       "      <td>1</td>\n",
       "      <td>4.0</td>\n",
       "      <td>964982703</td>\n",
       "    </tr>\n",
       "    <tr>\n",
       "      <th>1</th>\n",
       "      <td>1</td>\n",
       "      <td>3</td>\n",
       "      <td>4.0</td>\n",
       "      <td>964981247</td>\n",
       "    </tr>\n",
       "    <tr>\n",
       "      <th>2</th>\n",
       "      <td>1</td>\n",
       "      <td>6</td>\n",
       "      <td>4.0</td>\n",
       "      <td>964982224</td>\n",
       "    </tr>\n",
       "    <tr>\n",
       "      <th>3</th>\n",
       "      <td>1</td>\n",
       "      <td>47</td>\n",
       "      <td>5.0</td>\n",
       "      <td>964983815</td>\n",
       "    </tr>\n",
       "    <tr>\n",
       "      <th>4</th>\n",
       "      <td>1</td>\n",
       "      <td>50</td>\n",
       "      <td>5.0</td>\n",
       "      <td>964982931</td>\n",
       "    </tr>\n",
       "  </tbody>\n",
       "</table>\n",
       "</div>"
      ],
      "text/plain": [
       "   userId  movieId  rating  timestamp\n",
       "0       1        1     4.0  964982703\n",
       "1       1        3     4.0  964981247\n",
       "2       1        6     4.0  964982224\n",
       "3       1       47     5.0  964983815\n",
       "4       1       50     5.0  964982931"
      ]
     },
     "execution_count": 17,
     "metadata": {},
     "output_type": "execute_result"
    }
   ],
   "source": [
    "ratings.head()"
   ]
  },
  {
   "cell_type": "code",
   "execution_count": 18,
   "id": "7f83611f",
   "metadata": {},
   "outputs": [
    {
     "name": "stdout",
     "output_type": "stream",
     "text": [
      "-------- Dataframe Shape -------\n",
      "\n",
      "The dataframe has 100836 rows and 4 columns\n",
      "\n",
      "-------- Dataframe Info --------\n",
      "\n",
      "<class 'pandas.core.frame.DataFrame'>\n",
      "RangeIndex: 100836 entries, 0 to 100835\n",
      "Data columns (total 4 columns):\n",
      " #   Column     Non-Null Count   Dtype  \n",
      "---  ------     --------------   -----  \n",
      " 0   userId     100836 non-null  int64  \n",
      " 1   movieId    100836 non-null  int64  \n",
      " 2   rating     100836 non-null  float64\n",
      " 3   timestamp  100836 non-null  int64  \n",
      "dtypes: float64(1), int64(3)\n",
      "memory usage: 3.1 MB\n",
      "None\n",
      "\n",
      "\n",
      "-------- Dataframe Descriptive Statistics --------\n",
      "\n",
      "              userId        movieId         rating     timestamp\n",
      "count  100836.000000  100836.000000  100836.000000  1.008360e+05\n",
      "mean      326.127564   19435.295718       3.501557  1.205946e+09\n",
      "std       182.618491   35530.987199       1.042529  2.162610e+08\n",
      "min         1.000000       1.000000       0.500000  8.281246e+08\n",
      "25%       177.000000    1199.000000       3.000000  1.019124e+09\n",
      "50%       325.000000    2991.000000       3.500000  1.186087e+09\n",
      "75%       477.000000    8122.000000       4.000000  1.435994e+09\n",
      "max       610.000000  193609.000000       5.000000  1.537799e+09\n",
      "\n",
      "\n"
     ]
    }
   ],
   "source": [
    "summary(ratings)"
   ]
  },
  {
   "cell_type": "code",
   "execution_count": 19,
   "id": "c2dc61a2",
   "metadata": {},
   "outputs": [
    {
     "data": {
      "text/plain": [
       "(0.0, 5.3)"
      ]
     },
     "execution_count": 19,
     "metadata": {},
     "output_type": "execute_result"
    },
    {
     "data": {
      "image/png": "[encoded data removed]",
      "text/plain": [
       "<Figure size 720x432 with 1 Axes>"
      ]
     },
     "metadata": {
      "needs_background": "light"
     },
     "output_type": "display_data"
    }
   ],
   "source": [
    "plt.figure(figsize=(10, 6))\n",
    "sns.set_style('darkgrid')\n",
    "sns.histplot(ratings['rating'], bins=10, color=\"#0552AA\", edgecolor='black')\n",
    "plt.axvline(ratings['rating'].mean(), color='red', linestyle='dashed', linewidth=1)\n",
    "plt.xticks(ticks=[0,1,2,3,4,5])\n",
    "plt.xlim(0, 5.3)"
   ]
  },
  {
   "cell_type": "markdown",
   "id": "139e7d8c",
   "metadata": {},
   "source": [
    "### Links Dataset"
   ]
  },
  {
   "cell_type": "code",
   "execution_count": 20,
   "id": "9075ac42",
   "metadata": {},
   "outputs": [
    {
     "data": {
      "text/html": [
       "<div>\n",
       "<style scoped>\n",
       "    .dataframe tbody tr th:only-of-type {\n",
       "        vertical-align: middle;\n",
       "    }\n",
       "\n",
       "    .dataframe tbody tr th {\n",
       "        vertical-align: top;\n",
       "    }\n",
       "\n",
       "    .dataframe thead th {\n",
       "        text-align: right;\n",
       "    }\n",
       "</style>\n",
       "<table border=\"1\" class=\"dataframe\">\n",
       "  <thead>\n",
       "    <tr style=\"text-align: right;\">\n",
       "      <th></th>\n",
       "      <th>imdbId</th>\n",
       "      <th>tmdbId</th>\n",
       "    </tr>\n",
       "    <tr>\n",
       "      <th>movieId</th>\n",
       "      <th></th>\n",
       "      <th></th>\n",
       "    </tr>\n",
       "  </thead>\n",
       "  <tbody>\n",
       "    <tr>\n",
       "      <th>1</th>\n",
       "      <td>114709</td>\n",
       "      <td>862.0</td>\n",
       "    </tr>\n",
       "    <tr>\n",
       "      <th>2</th>\n",
       "      <td>113497</td>\n",
       "      <td>8844.0</td>\n",
       "    </tr>\n",
       "    <tr>\n",
       "      <th>3</th>\n",
       "      <td>113228</td>\n",
       "      <td>15602.0</td>\n",
       "    </tr>\n",
       "    <tr>\n",
       "      <th>4</th>\n",
       "      <td>114885</td>\n",
       "      <td>31357.0</td>\n",
       "    </tr>\n",
       "    <tr>\n",
       "      <th>5</th>\n",
       "      <td>113041</td>\n",
       "      <td>11862.0</td>\n",
       "    </tr>\n",
       "  </tbody>\n",
       "</table>\n",
       "</div>"
      ],
      "text/plain": [
       "         imdbId   tmdbId\n",
       "movieId                 \n",
       "1        114709    862.0\n",
       "2        113497   8844.0\n",
       "3        113228  15602.0\n",
       "4        114885  31357.0\n",
       "5        113041  11862.0"
      ]
     },
     "execution_count": 20,
     "metadata": {},
     "output_type": "execute_result"
    }
   ],
   "source": [
    "links.head()"
   ]
  },
  {
   "cell_type": "code",
   "execution_count": 21,
   "id": "b6bf98d6",
   "metadata": {},
   "outputs": [
    {
     "name": "stdout",
     "output_type": "stream",
     "text": [
      "-------- Dataframe Shape -------\n",
      "\n",
      "The dataframe has 9742 rows and 2 columns\n",
      "\n",
      "-------- Dataframe Info --------\n",
      "\n",
      "<class 'pandas.core.frame.DataFrame'>\n",
      "Int64Index: 9742 entries, 1 to 193609\n",
      "Data columns (total 2 columns):\n",
      " #   Column  Non-Null Count  Dtype  \n",
      "---  ------  --------------  -----  \n",
      " 0   imdbId  9742 non-null   int64  \n",
      " 1   tmdbId  9734 non-null   float64\n",
      "dtypes: float64(1), int64(1)\n",
      "memory usage: 228.3 KB\n",
      "None\n",
      "\n",
      "\n",
      "-------- Dataframe Descriptive Statistics --------\n",
      "\n",
      "             imdbId         tmdbId\n",
      "count  9.742000e+03    9734.000000\n",
      "mean   6.771839e+05   55162.123793\n",
      "std    1.107228e+06   93653.481487\n",
      "min    4.170000e+02       2.000000\n",
      "25%    9.518075e+04    9665.500000\n",
      "50%    1.672605e+05   16529.000000\n",
      "75%    8.055685e+05   44205.750000\n",
      "max    8.391976e+06  525662.000000\n",
      "\n",
      "\n"
     ]
    }
   ],
   "source": [
    "summary(links)"
   ]
  },
  {
   "cell_type": "code",
   "execution_count": 22,
   "id": "44ba9c02",
   "metadata": {},
   "outputs": [
    {
     "name": "stdout",
     "output_type": "stream",
     "text": [
      "-------- DataFrame Missing Values --------\n",
      "\n",
      "imdbId    0\n",
      "tmdbId    8\n",
      "dtype: int64\n",
      "\n",
      "\n",
      "-------- Dataframe Duplicate Values --------\n",
      "\n",
      "False    9742\n",
      "dtype: int64\n"
     ]
    }
   ],
   "source": [
    "data_integrity(links)"
   ]
  },
  {
   "cell_type": "markdown",
   "id": "04eb82b7",
   "metadata": {},
   "source": [
    "### Tag Dataset"
   ]
  },
  {
   "cell_type": "code",
   "execution_count": 23,
   "id": "30934b41-dbd9-460d-bd9a-e343b138247f",
   "metadata": {},
   "outputs": [
    {
     "data": {
      "text/plain": [
       "58"
      ]
     },
     "execution_count": 23,
     "metadata": {},
     "output_type": "execute_result"
    }
   ],
   "source": [
    "tag['userId'].nunique()"
   ]
  },
  {
   "cell_type": "code",
   "execution_count": 24,
   "id": "3bace349",
   "metadata": {},
   "outputs": [
    {
     "data": {
      "text/html": [
       "<div>\n",
       "<style scoped>\n",
       "    .dataframe tbody tr th:only-of-type {\n",
       "        vertical-align: middle;\n",
       "    }\n",
       "\n",
       "    .dataframe tbody tr th {\n",
       "        vertical-align: top;\n",
       "    }\n",
       "\n",
       "    .dataframe thead th {\n",
       "        text-align: right;\n",
       "    }\n",
       "</style>\n",
       "<table border=\"1\" class=\"dataframe\">\n",
       "  <thead>\n",
       "    <tr style=\"text-align: right;\">\n",
       "      <th></th>\n",
       "      <th>userId</th>\n",
       "      <th>movieId</th>\n",
       "      <th>tag</th>\n",
       "      <th>timestamp</th>\n",
       "    </tr>\n",
       "  </thead>\n",
       "  <tbody>\n",
       "    <tr>\n",
       "      <th>0</th>\n",
       "      <td>2</td>\n",
       "      <td>60756</td>\n",
       "      <td>funny</td>\n",
       "      <td>1445714994</td>\n",
       "    </tr>\n",
       "    <tr>\n",
       "      <th>1</th>\n",
       "      <td>2</td>\n",
       "      <td>60756</td>\n",
       "      <td>Highly quotable</td>\n",
       "      <td>1445714996</td>\n",
       "    </tr>\n",
       "    <tr>\n",
       "      <th>2</th>\n",
       "      <td>2</td>\n",
       "      <td>60756</td>\n",
       "      <td>will ferrell</td>\n",
       "      <td>1445714992</td>\n",
       "    </tr>\n",
       "    <tr>\n",
       "      <th>3</th>\n",
       "      <td>2</td>\n",
       "      <td>89774</td>\n",
       "      <td>Boxing story</td>\n",
       "      <td>1445715207</td>\n",
       "    </tr>\n",
       "    <tr>\n",
       "      <th>4</th>\n",
       "      <td>2</td>\n",
       "      <td>89774</td>\n",
       "      <td>MMA</td>\n",
       "      <td>1445715200</td>\n",
       "    </tr>\n",
       "  </tbody>\n",
       "</table>\n",
       "</div>"
      ],
      "text/plain": [
       "   userId  movieId              tag   timestamp\n",
       "0       2    60756            funny  1445714994\n",
       "1       2    60756  Highly quotable  1445714996\n",
       "2       2    60756     will ferrell  1445714992\n",
       "3       2    89774     Boxing story  1445715207\n",
       "4       2    89774              MMA  1445715200"
      ]
     },
     "execution_count": 24,
     "metadata": {},
     "output_type": "execute_result"
    }
   ],
   "source": [
    "tag.head()"
   ]
  },
  {
   "cell_type": "code",
   "execution_count": 25,
   "id": "63ca6d7d",
   "metadata": {},
   "outputs": [
    {
     "name": "stdout",
     "output_type": "stream",
     "text": [
      "-------- Dataframe Shape -------\n",
      "\n",
      "The dataframe has 3683 rows and 4 columns\n",
      "\n",
      "-------- Dataframe Info --------\n",
      "\n",
      "<class 'pandas.core.frame.DataFrame'>\n",
      "RangeIndex: 3683 entries, 0 to 3682\n",
      "Data columns (total 4 columns):\n",
      " #   Column     Non-Null Count  Dtype \n",
      "---  ------     --------------  ----- \n",
      " 0   userId     3683 non-null   int64 \n",
      " 1   movieId    3683 non-null   int64 \n",
      " 2   tag        3683 non-null   object\n",
      " 3   timestamp  3683 non-null   int64 \n",
      "dtypes: int64(3), object(1)\n",
      "memory usage: 115.2+ KB\n",
      "None\n",
      "\n",
      "\n",
      "-------- Dataframe Descriptive Statistics --------\n",
      "\n",
      "            userId        movieId     timestamp\n",
      "count  3683.000000    3683.000000  3.683000e+03\n",
      "mean    431.149335   27252.013576  1.320032e+09\n",
      "std     158.472553   43490.558803  1.721025e+08\n",
      "min       2.000000       1.000000  1.137179e+09\n",
      "25%     424.000000    1262.500000  1.137521e+09\n",
      "50%     474.000000    4454.000000  1.269833e+09\n",
      "75%     477.000000   39263.000000  1.498457e+09\n",
      "max     610.000000  193565.000000  1.537099e+09\n",
      "\n",
      "\n"
     ]
    }
   ],
   "source": [
    "summary(tag)"
   ]
  },
  {
   "cell_type": "code",
   "execution_count": 26,
   "id": "6435a202",
   "metadata": {},
   "outputs": [
    {
     "name": "stdout",
     "output_type": "stream",
     "text": [
      "-------- DataFrame Missing Values --------\n",
      "\n",
      "userId       0\n",
      "movieId      0\n",
      "tag          0\n",
      "timestamp    0\n",
      "dtype: int64\n",
      "\n",
      "\n",
      "-------- Dataframe Duplicate Values --------\n",
      "\n",
      "False    3683\n",
      "dtype: int64\n"
     ]
    }
   ],
   "source": [
    "data_integrity(tag)"
   ]
  },
  {
   "cell_type": "code",
   "execution_count": 27,
   "id": "2c092327",
   "metadata": {},
   "outputs": [
    {
     "name": "stdout",
     "output_type": "stream",
     "text": [
      "\n",
      "First 5 rows of movies.csv: \n",
      "\n"
     ]
    },
    {
     "data": {
      "text/html": [
       "<div>\n",
       "<style scoped>\n",
       "    .dataframe tbody tr th:only-of-type {\n",
       "        vertical-align: middle;\n",
       "    }\n",
       "\n",
       "    .dataframe tbody tr th {\n",
       "        vertical-align: top;\n",
       "    }\n",
       "\n",
       "    .dataframe thead th {\n",
       "        text-align: right;\n",
       "    }\n",
       "</style>\n",
       "<table border=\"1\" class=\"dataframe\">\n",
       "  <thead>\n",
       "    <tr style=\"text-align: right;\">\n",
       "      <th></th>\n",
       "      <th>movieId</th>\n",
       "      <th>title</th>\n",
       "      <th>genres</th>\n",
       "    </tr>\n",
       "  </thead>\n",
       "  <tbody>\n",
       "    <tr>\n",
       "      <th>0</th>\n",
       "      <td>1</td>\n",
       "      <td>Toy Story (1995)</td>\n",
       "      <td>Adventure|Animation|Children|Comedy|Fantasy</td>\n",
       "    </tr>\n",
       "    <tr>\n",
       "      <th>1</th>\n",
       "      <td>2</td>\n",
       "      <td>Jumanji (1995)</td>\n",
       "      <td>Adventure|Children|Fantasy</td>\n",
       "    </tr>\n",
       "    <tr>\n",
       "      <th>2</th>\n",
       "      <td>3</td>\n",
       "      <td>Grumpier Old Men (1995)</td>\n",
       "      <td>Comedy|Romance</td>\n",
       "    </tr>\n",
       "    <tr>\n",
       "      <th>3</th>\n",
       "      <td>4</td>\n",
       "      <td>Waiting to Exhale (1995)</td>\n",
       "      <td>Comedy|Drama|Romance</td>\n",
       "    </tr>\n",
       "    <tr>\n",
       "      <th>4</th>\n",
       "      <td>5</td>\n",
       "      <td>Father of the Bride Part II (1995)</td>\n",
       "      <td>Comedy</td>\n",
       "    </tr>\n",
       "  </tbody>\n",
       "</table>\n",
       "</div>"
      ],
      "text/plain": [
       "   movieId                               title  \\\n",
       "0        1                    Toy Story (1995)   \n",
       "1        2                      Jumanji (1995)   \n",
       "2        3             Grumpier Old Men (1995)   \n",
       "3        4            Waiting to Exhale (1995)   \n",
       "4        5  Father of the Bride Part II (1995)   \n",
       "\n",
       "                                        genres  \n",
       "0  Adventure|Animation|Children|Comedy|Fantasy  \n",
       "1                   Adventure|Children|Fantasy  \n",
       "2                               Comedy|Romance  \n",
       "3                         Comedy|Drama|Romance  \n",
       "4                                       Comedy  "
      ]
     },
     "metadata": {},
     "output_type": "display_data"
    },
    {
     "name": "stdout",
     "output_type": "stream",
     "text": [
      "\n",
      "\n",
      " First 5 rows of links.csv:\n"
     ]
    },
    {
     "data": {
      "text/html": [
       "<div>\n",
       "<style scoped>\n",
       "    .dataframe tbody tr th:only-of-type {\n",
       "        vertical-align: middle;\n",
       "    }\n",
       "\n",
       "    .dataframe tbody tr th {\n",
       "        vertical-align: top;\n",
       "    }\n",
       "\n",
       "    .dataframe thead th {\n",
       "        text-align: right;\n",
       "    }\n",
       "</style>\n",
       "<table border=\"1\" class=\"dataframe\">\n",
       "  <thead>\n",
       "    <tr style=\"text-align: right;\">\n",
       "      <th></th>\n",
       "      <th>imdbId</th>\n",
       "      <th>tmdbId</th>\n",
       "    </tr>\n",
       "    <tr>\n",
       "      <th>movieId</th>\n",
       "      <th></th>\n",
       "      <th></th>\n",
       "    </tr>\n",
       "  </thead>\n",
       "  <tbody>\n",
       "    <tr>\n",
       "      <th>1</th>\n",
       "      <td>114709</td>\n",
       "      <td>862.0</td>\n",
       "    </tr>\n",
       "    <tr>\n",
       "      <th>2</th>\n",
       "      <td>113497</td>\n",
       "      <td>8844.0</td>\n",
       "    </tr>\n",
       "    <tr>\n",
       "      <th>3</th>\n",
       "      <td>113228</td>\n",
       "      <td>15602.0</td>\n",
       "    </tr>\n",
       "    <tr>\n",
       "      <th>4</th>\n",
       "      <td>114885</td>\n",
       "      <td>31357.0</td>\n",
       "    </tr>\n",
       "    <tr>\n",
       "      <th>5</th>\n",
       "      <td>113041</td>\n",
       "      <td>11862.0</td>\n",
       "    </tr>\n",
       "  </tbody>\n",
       "</table>\n",
       "</div>"
      ],
      "text/plain": [
       "         imdbId   tmdbId\n",
       "movieId                 \n",
       "1        114709    862.0\n",
       "2        113497   8844.0\n",
       "3        113228  15602.0\n",
       "4        114885  31357.0\n",
       "5        113041  11862.0"
      ]
     },
     "metadata": {},
     "output_type": "display_data"
    },
    {
     "name": "stdout",
     "output_type": "stream",
     "text": [
      "\n",
      "\n",
      "First 5 rows of ratings.csv:\n"
     ]
    },
    {
     "data": {
      "text/html": [
       "<div>\n",
       "<style scoped>\n",
       "    .dataframe tbody tr th:only-of-type {\n",
       "        vertical-align: middle;\n",
       "    }\n",
       "\n",
       "    .dataframe tbody tr th {\n",
       "        vertical-align: top;\n",
       "    }\n",
       "\n",
       "    .dataframe thead th {\n",
       "        text-align: right;\n",
       "    }\n",
       "</style>\n",
       "<table border=\"1\" class=\"dataframe\">\n",
       "  <thead>\n",
       "    <tr style=\"text-align: right;\">\n",
       "      <th></th>\n",
       "      <th>userId</th>\n",
       "      <th>movieId</th>\n",
       "      <th>rating</th>\n",
       "      <th>timestamp</th>\n",
       "    </tr>\n",
       "  </thead>\n",
       "  <tbody>\n",
       "    <tr>\n",
       "      <th>0</th>\n",
       "      <td>1</td>\n",
       "      <td>1</td>\n",
       "      <td>4.0</td>\n",
       "      <td>964982703</td>\n",
       "    </tr>\n",
       "    <tr>\n",
       "      <th>1</th>\n",
       "      <td>1</td>\n",
       "      <td>3</td>\n",
       "      <td>4.0</td>\n",
       "      <td>964981247</td>\n",
       "    </tr>\n",
       "    <tr>\n",
       "      <th>2</th>\n",
       "      <td>1</td>\n",
       "      <td>6</td>\n",
       "      <td>4.0</td>\n",
       "      <td>964982224</td>\n",
       "    </tr>\n",
       "    <tr>\n",
       "      <th>3</th>\n",
       "      <td>1</td>\n",
       "      <td>47</td>\n",
       "      <td>5.0</td>\n",
       "      <td>964983815</td>\n",
       "    </tr>\n",
       "    <tr>\n",
       "      <th>4</th>\n",
       "      <td>1</td>\n",
       "      <td>50</td>\n",
       "      <td>5.0</td>\n",
       "      <td>964982931</td>\n",
       "    </tr>\n",
       "  </tbody>\n",
       "</table>\n",
       "</div>"
      ],
      "text/plain": [
       "   userId  movieId  rating  timestamp\n",
       "0       1        1     4.0  964982703\n",
       "1       1        3     4.0  964981247\n",
       "2       1        6     4.0  964982224\n",
       "3       1       47     5.0  964983815\n",
       "4       1       50     5.0  964982931"
      ]
     },
     "metadata": {},
     "output_type": "display_data"
    },
    {
     "name": "stdout",
     "output_type": "stream",
     "text": [
      "\n",
      "\n",
      "First 5 rows of tags.csv:\n"
     ]
    },
    {
     "data": {
      "text/html": [
       "<div>\n",
       "<style scoped>\n",
       "    .dataframe tbody tr th:only-of-type {\n",
       "        vertical-align: middle;\n",
       "    }\n",
       "\n",
       "    .dataframe tbody tr th {\n",
       "        vertical-align: top;\n",
       "    }\n",
       "\n",
       "    .dataframe thead th {\n",
       "        text-align: right;\n",
       "    }\n",
       "</style>\n",
       "<table border=\"1\" class=\"dataframe\">\n",
       "  <thead>\n",
       "    <tr style=\"text-align: right;\">\n",
       "      <th></th>\n",
       "      <th>userId</th>\n",
       "      <th>movieId</th>\n",
       "      <th>tag</th>\n",
       "      <th>timestamp</th>\n",
       "    </tr>\n",
       "  </thead>\n",
       "  <tbody>\n",
       "    <tr>\n",
       "      <th>0</th>\n",
       "      <td>2</td>\n",
       "      <td>60756</td>\n",
       "      <td>funny</td>\n",
       "      <td>1445714994</td>\n",
       "    </tr>\n",
       "    <tr>\n",
       "      <th>1</th>\n",
       "      <td>2</td>\n",
       "      <td>60756</td>\n",
       "      <td>Highly quotable</td>\n",
       "      <td>1445714996</td>\n",
       "    </tr>\n",
       "    <tr>\n",
       "      <th>2</th>\n",
       "      <td>2</td>\n",
       "      <td>60756</td>\n",
       "      <td>will ferrell</td>\n",
       "      <td>1445714992</td>\n",
       "    </tr>\n",
       "    <tr>\n",
       "      <th>3</th>\n",
       "      <td>2</td>\n",
       "      <td>89774</td>\n",
       "      <td>Boxing story</td>\n",
       "      <td>1445715207</td>\n",
       "    </tr>\n",
       "    <tr>\n",
       "      <th>4</th>\n",
       "      <td>2</td>\n",
       "      <td>89774</td>\n",
       "      <td>MMA</td>\n",
       "      <td>1445715200</td>\n",
       "    </tr>\n",
       "  </tbody>\n",
       "</table>\n",
       "</div>"
      ],
      "text/plain": [
       "   userId  movieId              tag   timestamp\n",
       "0       2    60756            funny  1445714994\n",
       "1       2    60756  Highly quotable  1445714996\n",
       "2       2    60756     will ferrell  1445714992\n",
       "3       2    89774     Boxing story  1445715207\n",
       "4       2    89774              MMA  1445715200"
      ]
     },
     "metadata": {},
     "output_type": "display_data"
    }
   ],
   "source": [
    "# Load movies.csv\n",
    "print(\"\\nFirst 5 rows of movies.csv: \\n\")\n",
    "display(movies.head())\n",
    "\n",
    "# Load links.csv\n",
    "print(\"\\n\\n First 5 rows of links.csv:\")\n",
    "display(links.head())\n",
    "\n",
    "# Load ratings.csv\n",
    "print(\"\\n\\nFirst 5 rows of ratings.csv:\")\n",
    "display(ratings.head())\n",
    "\n",
    "# Load tags.csv\n",
    "print(\"\\n\\nFirst 5 rows of tags.csv:\")\n",
    "display(tag.head())"
   ]
  },
  {
   "cell_type": "markdown",
   "id": "42bf1b0a",
   "metadata": {},
   "source": [
    "## Data Preparation - Hannah"
   ]
  },
  {
   "cell_type": "code",
   "execution_count": 28,
   "id": "5357e0c3",
   "metadata": {},
   "outputs": [],
   "source": [
    "tag.drop('timestamp', axis=1, inplace=True)\n",
    "ratings.drop('timestamp', axis=1, inplace=True)"
   ]
  },
  {
   "cell_type": "code",
   "execution_count": 29,
   "id": "6b516e15",
   "metadata": {},
   "outputs": [
    {
     "data": {
      "text/html": [
       "<div>\n",
       "<style scoped>\n",
       "    .dataframe tbody tr th:only-of-type {\n",
       "        vertical-align: middle;\n",
       "    }\n",
       "\n",
       "    .dataframe tbody tr th {\n",
       "        vertical-align: top;\n",
       "    }\n",
       "\n",
       "    .dataframe thead th {\n",
       "        text-align: right;\n",
       "    }\n",
       "</style>\n",
       "<table border=\"1\" class=\"dataframe\">\n",
       "  <thead>\n",
       "    <tr style=\"text-align: right;\">\n",
       "      <th></th>\n",
       "      <th>movieId</th>\n",
       "      <th>title</th>\n",
       "      <th>genres</th>\n",
       "      <th>year</th>\n",
       "    </tr>\n",
       "  </thead>\n",
       "  <tbody>\n",
       "    <tr>\n",
       "      <th>0</th>\n",
       "      <td>1</td>\n",
       "      <td>Toy Story</td>\n",
       "      <td>Adventure|Animation|Children|Comedy|Fantasy</td>\n",
       "      <td>1995.0</td>\n",
       "    </tr>\n",
       "    <tr>\n",
       "      <th>1</th>\n",
       "      <td>2</td>\n",
       "      <td>Jumanji</td>\n",
       "      <td>Adventure|Children|Fantasy</td>\n",
       "      <td>1995.0</td>\n",
       "    </tr>\n",
       "    <tr>\n",
       "      <th>2</th>\n",
       "      <td>3</td>\n",
       "      <td>Grumpier Old Men</td>\n",
       "      <td>Comedy|Romance</td>\n",
       "      <td>1995.0</td>\n",
       "    </tr>\n",
       "    <tr>\n",
       "      <th>3</th>\n",
       "      <td>4</td>\n",
       "      <td>Waiting to Exhale</td>\n",
       "      <td>Comedy|Drama|Romance</td>\n",
       "      <td>1995.0</td>\n",
       "    </tr>\n",
       "    <tr>\n",
       "      <th>4</th>\n",
       "      <td>5</td>\n",
       "      <td>Father of the Bride Part II</td>\n",
       "      <td>Comedy</td>\n",
       "      <td>1995.0</td>\n",
       "    </tr>\n",
       "  </tbody>\n",
       "</table>\n",
       "</div>"
      ],
      "text/plain": [
       "   movieId                        title  \\\n",
       "0        1                    Toy Story   \n",
       "1        2                      Jumanji   \n",
       "2        3             Grumpier Old Men   \n",
       "3        4            Waiting to Exhale   \n",
       "4        5  Father of the Bride Part II   \n",
       "\n",
       "                                        genres    year  \n",
       "0  Adventure|Animation|Children|Comedy|Fantasy  1995.0  \n",
       "1                   Adventure|Children|Fantasy  1995.0  \n",
       "2                               Comedy|Romance  1995.0  \n",
       "3                         Comedy|Drama|Romance  1995.0  \n",
       "4                                       Comedy  1995.0  "
      ]
     },
     "execution_count": 29,
     "metadata": {},
     "output_type": "execute_result"
    }
   ],
   "source": [
    "movies_clean = movies.copy()\n",
    "movies_clean[\"year\"] = movies_clean[\"title\"].str.extract(r\"\\((\\d{4})\\)\").astype(float)\n",
    "movies_clean[\"title\"] = movies_clean[\"title\"].str.replace(r\"\\s*\\(\\d{4}\\)\", \"\", regex=True)\n",
    "movies_clean.head()"
   ]
  },
  {
   "cell_type": "code",
   "execution_count": 30,
   "id": "60a842d7",
   "metadata": {
    "scrolled": true
   },
   "outputs": [
    {
     "name": "stdout",
     "output_type": "stream",
     "text": [
      "-------- DataFrame Missing Values --------\n",
      "\n",
      "movieId     0\n",
      "title       0\n",
      "genres      0\n",
      "year       13\n",
      "dtype: int64\n",
      "\n",
      "\n",
      "-------- Dataframe Duplicate Values --------\n",
      "\n",
      "False    9742\n",
      "dtype: int64\n"
     ]
    }
   ],
   "source": [
    "data_integrity(movies_clean)"
   ]
  },
  {
   "cell_type": "code",
   "execution_count": 31,
   "id": "a08ddec6",
   "metadata": {},
   "outputs": [],
   "source": [
    "movies_clean.dropna(inplace=True)"
   ]
  },
  {
   "cell_type": "code",
   "execution_count": 32,
   "id": "adaad73f",
   "metadata": {},
   "outputs": [
    {
     "data": {
      "text/html": [
       "<div>\n",
       "<style scoped>\n",
       "    .dataframe tbody tr th:only-of-type {\n",
       "        vertical-align: middle;\n",
       "    }\n",
       "\n",
       "    .dataframe tbody tr th {\n",
       "        vertical-align: top;\n",
       "    }\n",
       "\n",
       "    .dataframe thead th {\n",
       "        text-align: right;\n",
       "    }\n",
       "</style>\n",
       "<table border=\"1\" class=\"dataframe\">\n",
       "  <thead>\n",
       "    <tr style=\"text-align: right;\">\n",
       "      <th></th>\n",
       "      <th>movieId</th>\n",
       "      <th>title</th>\n",
       "      <th>genres</th>\n",
       "      <th>year</th>\n",
       "    </tr>\n",
       "  </thead>\n",
       "  <tbody>\n",
       "    <tr>\n",
       "      <th>0</th>\n",
       "      <td>1</td>\n",
       "      <td>Toy Story</td>\n",
       "      <td>Adventure|Animation|Children|Comedy|Fantasy</td>\n",
       "      <td>1995</td>\n",
       "    </tr>\n",
       "    <tr>\n",
       "      <th>1</th>\n",
       "      <td>2</td>\n",
       "      <td>Jumanji</td>\n",
       "      <td>Adventure|Children|Fantasy</td>\n",
       "      <td>1995</td>\n",
       "    </tr>\n",
       "    <tr>\n",
       "      <th>2</th>\n",
       "      <td>3</td>\n",
       "      <td>Grumpier Old Men</td>\n",
       "      <td>Comedy|Romance</td>\n",
       "      <td>1995</td>\n",
       "    </tr>\n",
       "    <tr>\n",
       "      <th>3</th>\n",
       "      <td>4</td>\n",
       "      <td>Waiting to Exhale</td>\n",
       "      <td>Comedy|Drama|Romance</td>\n",
       "      <td>1995</td>\n",
       "    </tr>\n",
       "    <tr>\n",
       "      <th>4</th>\n",
       "      <td>5</td>\n",
       "      <td>Father of the Bride Part II</td>\n",
       "      <td>Comedy</td>\n",
       "      <td>1995</td>\n",
       "    </tr>\n",
       "  </tbody>\n",
       "</table>\n",
       "</div>"
      ],
      "text/plain": [
       "   movieId                        title  \\\n",
       "0        1                    Toy Story   \n",
       "1        2                      Jumanji   \n",
       "2        3             Grumpier Old Men   \n",
       "3        4            Waiting to Exhale   \n",
       "4        5  Father of the Bride Part II   \n",
       "\n",
       "                                        genres  year  \n",
       "0  Adventure|Animation|Children|Comedy|Fantasy  1995  \n",
       "1                   Adventure|Children|Fantasy  1995  \n",
       "2                               Comedy|Romance  1995  \n",
       "3                         Comedy|Drama|Romance  1995  \n",
       "4                                       Comedy  1995  "
      ]
     },
     "execution_count": 32,
     "metadata": {},
     "output_type": "execute_result"
    }
   ],
   "source": [
    "movies_clean['year'] = movies_clean['year'].astype(int)\n",
    "movies_clean.head()"
   ]
  },
  {
   "cell_type": "code",
   "execution_count": 33,
   "id": "37b0d0f8",
   "metadata": {},
   "outputs": [
    {
     "data": {
      "text/html": [
       "<div>\n",
       "<style scoped>\n",
       "    .dataframe tbody tr th:only-of-type {\n",
       "        vertical-align: middle;\n",
       "    }\n",
       "\n",
       "    .dataframe tbody tr th {\n",
       "        vertical-align: top;\n",
       "    }\n",
       "\n",
       "    .dataframe thead th {\n",
       "        text-align: right;\n",
       "    }\n",
       "</style>\n",
       "<table border=\"1\" class=\"dataframe\">\n",
       "  <thead>\n",
       "    <tr style=\"text-align: right;\">\n",
       "      <th></th>\n",
       "      <th>userId</th>\n",
       "      <th>movieId</th>\n",
       "      <th>rating</th>\n",
       "      <th>title</th>\n",
       "      <th>genres</th>\n",
       "      <th>year</th>\n",
       "    </tr>\n",
       "  </thead>\n",
       "  <tbody>\n",
       "    <tr>\n",
       "      <th>0</th>\n",
       "      <td>1</td>\n",
       "      <td>1</td>\n",
       "      <td>4.0</td>\n",
       "      <td>Toy Story</td>\n",
       "      <td>Adventure|Animation|Children|Comedy|Fantasy</td>\n",
       "      <td>1995.0</td>\n",
       "    </tr>\n",
       "    <tr>\n",
       "      <th>1</th>\n",
       "      <td>1</td>\n",
       "      <td>3</td>\n",
       "      <td>4.0</td>\n",
       "      <td>Grumpier Old Men</td>\n",
       "      <td>Comedy|Romance</td>\n",
       "      <td>1995.0</td>\n",
       "    </tr>\n",
       "    <tr>\n",
       "      <th>2</th>\n",
       "      <td>1</td>\n",
       "      <td>6</td>\n",
       "      <td>4.0</td>\n",
       "      <td>Heat</td>\n",
       "      <td>Action|Crime|Thriller</td>\n",
       "      <td>1995.0</td>\n",
       "    </tr>\n",
       "    <tr>\n",
       "      <th>3</th>\n",
       "      <td>1</td>\n",
       "      <td>47</td>\n",
       "      <td>5.0</td>\n",
       "      <td>Seven (a.k.a. Se7en)</td>\n",
       "      <td>Mystery|Thriller</td>\n",
       "      <td>1995.0</td>\n",
       "    </tr>\n",
       "    <tr>\n",
       "      <th>4</th>\n",
       "      <td>1</td>\n",
       "      <td>50</td>\n",
       "      <td>5.0</td>\n",
       "      <td>Usual Suspects, The</td>\n",
       "      <td>Crime|Mystery|Thriller</td>\n",
       "      <td>1995.0</td>\n",
       "    </tr>\n",
       "  </tbody>\n",
       "</table>\n",
       "</div>"
      ],
      "text/plain": [
       "   userId  movieId  rating                 title  \\\n",
       "0       1        1     4.0             Toy Story   \n",
       "1       1        3     4.0      Grumpier Old Men   \n",
       "2       1        6     4.0                  Heat   \n",
       "3       1       47     5.0  Seven (a.k.a. Se7en)   \n",
       "4       1       50     5.0   Usual Suspects, The   \n",
       "\n",
       "                                        genres    year  \n",
       "0  Adventure|Animation|Children|Comedy|Fantasy  1995.0  \n",
       "1                               Comedy|Romance  1995.0  \n",
       "2                        Action|Crime|Thriller  1995.0  \n",
       "3                             Mystery|Thriller  1995.0  \n",
       "4                       Crime|Mystery|Thriller  1995.0  "
      ]
     },
     "execution_count": 33,
     "metadata": {},
     "output_type": "execute_result"
    }
   ],
   "source": [
    "movie_ratings = ratings.merge(movies_clean, on='movieId', how='left')\n",
    "movie_ratings.head()"
   ]
  },
  {
   "cell_type": "code",
   "execution_count": 34,
   "id": "bd584e24",
   "metadata": {},
   "outputs": [
    {
     "name": "stdout",
     "output_type": "stream",
     "text": [
      "-------- DataFrame Missing Values --------\n",
      "\n",
      "userId      0\n",
      "movieId     0\n",
      "rating      0\n",
      "title      18\n",
      "genres     18\n",
      "year       18\n",
      "dtype: int64\n",
      "\n",
      "\n",
      "-------- Dataframe Duplicate Values --------\n",
      "\n",
      "False    100836\n",
      "dtype: int64\n"
     ]
    }
   ],
   "source": [
    "data_integrity(movie_ratings)"
   ]
  },
  {
   "cell_type": "code",
   "execution_count": 35,
   "id": "aa611cf2",
   "metadata": {},
   "outputs": [
    {
     "data": {
      "text/html": [
       "<div>\n",
       "<style scoped>\n",
       "    .dataframe tbody tr th:only-of-type {\n",
       "        vertical-align: middle;\n",
       "    }\n",
       "\n",
       "    .dataframe tbody tr th {\n",
       "        vertical-align: top;\n",
       "    }\n",
       "\n",
       "    .dataframe thead th {\n",
       "        text-align: right;\n",
       "    }\n",
       "</style>\n",
       "<table border=\"1\" class=\"dataframe\">\n",
       "  <thead>\n",
       "    <tr style=\"text-align: right;\">\n",
       "      <th></th>\n",
       "      <th>userId</th>\n",
       "      <th>movieId</th>\n",
       "      <th>rating</th>\n",
       "      <th>title</th>\n",
       "      <th>genres</th>\n",
       "      <th>year</th>\n",
       "    </tr>\n",
       "  </thead>\n",
       "  <tbody>\n",
       "    <tr>\n",
       "      <th>0</th>\n",
       "      <td>1</td>\n",
       "      <td>1</td>\n",
       "      <td>4.0</td>\n",
       "      <td>Toy Story</td>\n",
       "      <td>Adventure|Animation|Children|Comedy|Fantasy</td>\n",
       "      <td>1995</td>\n",
       "    </tr>\n",
       "    <tr>\n",
       "      <th>1</th>\n",
       "      <td>1</td>\n",
       "      <td>3</td>\n",
       "      <td>4.0</td>\n",
       "      <td>Grumpier Old Men</td>\n",
       "      <td>Comedy|Romance</td>\n",
       "      <td>1995</td>\n",
       "    </tr>\n",
       "    <tr>\n",
       "      <th>2</th>\n",
       "      <td>1</td>\n",
       "      <td>6</td>\n",
       "      <td>4.0</td>\n",
       "      <td>Heat</td>\n",
       "      <td>Action|Crime|Thriller</td>\n",
       "      <td>1995</td>\n",
       "    </tr>\n",
       "    <tr>\n",
       "      <th>3</th>\n",
       "      <td>1</td>\n",
       "      <td>47</td>\n",
       "      <td>5.0</td>\n",
       "      <td>Seven (a.k.a. Se7en)</td>\n",
       "      <td>Mystery|Thriller</td>\n",
       "      <td>1995</td>\n",
       "    </tr>\n",
       "    <tr>\n",
       "      <th>4</th>\n",
       "      <td>1</td>\n",
       "      <td>50</td>\n",
       "      <td>5.0</td>\n",
       "      <td>Usual Suspects, The</td>\n",
       "      <td>Crime|Mystery|Thriller</td>\n",
       "      <td>1995</td>\n",
       "    </tr>\n",
       "  </tbody>\n",
       "</table>\n",
       "</div>"
      ],
      "text/plain": [
       "   userId  movieId  rating                 title  \\\n",
       "0       1        1     4.0             Toy Story   \n",
       "1       1        3     4.0      Grumpier Old Men   \n",
       "2       1        6     4.0                  Heat   \n",
       "3       1       47     5.0  Seven (a.k.a. Se7en)   \n",
       "4       1       50     5.0   Usual Suspects, The   \n",
       "\n",
       "                                        genres  year  \n",
       "0  Adventure|Animation|Children|Comedy|Fantasy  1995  \n",
       "1                               Comedy|Romance  1995  \n",
       "2                        Action|Crime|Thriller  1995  \n",
       "3                             Mystery|Thriller  1995  \n",
       "4                       Crime|Mystery|Thriller  1995  "
      ]
     },
     "execution_count": 35,
     "metadata": {},
     "output_type": "execute_result"
    }
   ],
   "source": [
    "movie_ratings.dropna(inplace=True)\n",
    "movie_ratings['year'] = movie_ratings['year'].astype(int)\n",
    "movie_ratings.head()"
   ]
  },
  {
   "cell_type": "code",
   "execution_count": 36,
   "id": "7b564b92",
   "metadata": {},
   "outputs": [
    {
     "data": {
      "text/html": [
       "<div>\n",
       "<style scoped>\n",
       "    .dataframe tbody tr th:only-of-type {\n",
       "        vertical-align: middle;\n",
       "    }\n",
       "\n",
       "    .dataframe tbody tr th {\n",
       "        vertical-align: top;\n",
       "    }\n",
       "\n",
       "    .dataframe thead th {\n",
       "        text-align: right;\n",
       "    }\n",
       "</style>\n",
       "<table border=\"1\" class=\"dataframe\">\n",
       "  <thead>\n",
       "    <tr style=\"text-align: right;\">\n",
       "      <th></th>\n",
       "      <th>userId</th>\n",
       "      <th>movieId</th>\n",
       "      <th>tag</th>\n",
       "      <th>rating</th>\n",
       "      <th>title</th>\n",
       "      <th>genres</th>\n",
       "      <th>year</th>\n",
       "    </tr>\n",
       "  </thead>\n",
       "  <tbody>\n",
       "    <tr>\n",
       "      <th>0</th>\n",
       "      <td>2</td>\n",
       "      <td>60756</td>\n",
       "      <td>funny</td>\n",
       "      <td>5.0</td>\n",
       "      <td>Step Brothers</td>\n",
       "      <td>Comedy</td>\n",
       "      <td>2008.0</td>\n",
       "    </tr>\n",
       "    <tr>\n",
       "      <th>1</th>\n",
       "      <td>2</td>\n",
       "      <td>60756</td>\n",
       "      <td>Highly quotable</td>\n",
       "      <td>5.0</td>\n",
       "      <td>Step Brothers</td>\n",
       "      <td>Comedy</td>\n",
       "      <td>2008.0</td>\n",
       "    </tr>\n",
       "    <tr>\n",
       "      <th>2</th>\n",
       "      <td>2</td>\n",
       "      <td>60756</td>\n",
       "      <td>will ferrell</td>\n",
       "      <td>5.0</td>\n",
       "      <td>Step Brothers</td>\n",
       "      <td>Comedy</td>\n",
       "      <td>2008.0</td>\n",
       "    </tr>\n",
       "    <tr>\n",
       "      <th>3</th>\n",
       "      <td>2</td>\n",
       "      <td>89774</td>\n",
       "      <td>Boxing story</td>\n",
       "      <td>5.0</td>\n",
       "      <td>Warrior</td>\n",
       "      <td>Drama</td>\n",
       "      <td>2011.0</td>\n",
       "    </tr>\n",
       "    <tr>\n",
       "      <th>4</th>\n",
       "      <td>2</td>\n",
       "      <td>89774</td>\n",
       "      <td>MMA</td>\n",
       "      <td>5.0</td>\n",
       "      <td>Warrior</td>\n",
       "      <td>Drama</td>\n",
       "      <td>2011.0</td>\n",
       "    </tr>\n",
       "  </tbody>\n",
       "</table>\n",
       "</div>"
      ],
      "text/plain": [
       "   userId  movieId              tag  rating          title  genres    year\n",
       "0       2    60756            funny     5.0  Step Brothers  Comedy  2008.0\n",
       "1       2    60756  Highly quotable     5.0  Step Brothers  Comedy  2008.0\n",
       "2       2    60756     will ferrell     5.0  Step Brothers  Comedy  2008.0\n",
       "3       2    89774     Boxing story     5.0        Warrior   Drama  2011.0\n",
       "4       2    89774              MMA     5.0        Warrior   Drama  2011.0"
      ]
     },
     "execution_count": 36,
     "metadata": {},
     "output_type": "execute_result"
    }
   ],
   "source": [
    "tagged_movies = tag.merge(movie_ratings, on=['movieId', 'userId'], how='left')\n",
    "tagged_movies.head()"
   ]
  },
  {
   "cell_type": "markdown",
   "id": "71b425db",
   "metadata": {},
   "source": [
    "## EDA - Sam"
   ]
  },
  {
   "cell_type": "markdown",
   "id": "9620299f",
   "metadata": {},
   "source": [
    "### Objective 1: Investigate the most popular movies based on popularity\n",
    "In our first objective, we will identify the most popular movies by analyzing user ratings and watch frequency. \n",
    "<br>\n",
    "This will help us understand audience preferences and trends in movie popularity.\n",
    "<br>\n",
    "Below is the plot of movie title and and nmber of rating\n"
   ]
  },
  {
   "cell_type": "code",
   "execution_count": 37,
   "id": "30693d97",
   "metadata": {},
   "outputs": [
    {
     "data": {
      "text/html": [
       "<div>\n",
       "<style scoped>\n",
       "    .dataframe tbody tr th:only-of-type {\n",
       "        vertical-align: middle;\n",
       "    }\n",
       "\n",
       "    .dataframe tbody tr th {\n",
       "        vertical-align: top;\n",
       "    }\n",
       "\n",
       "    .dataframe thead th {\n",
       "        text-align: right;\n",
       "    }\n",
       "</style>\n",
       "<table border=\"1\" class=\"dataframe\">\n",
       "  <thead>\n",
       "    <tr style=\"text-align: right;\">\n",
       "      <th></th>\n",
       "      <th>movieId</th>\n",
       "      <th>avg_rating</th>\n",
       "      <th>num_ratings</th>\n",
       "      <th>title</th>\n",
       "      <th>genres</th>\n",
       "      <th>year</th>\n",
       "    </tr>\n",
       "  </thead>\n",
       "  <tbody>\n",
       "    <tr>\n",
       "      <th>0</th>\n",
       "      <td>356</td>\n",
       "      <td>4.164134</td>\n",
       "      <td>329</td>\n",
       "      <td>Forrest Gump</td>\n",
       "      <td>Comedy|Drama|Romance|War</td>\n",
       "      <td>1994</td>\n",
       "    </tr>\n",
       "    <tr>\n",
       "      <th>1</th>\n",
       "      <td>318</td>\n",
       "      <td>4.429022</td>\n",
       "      <td>317</td>\n",
       "      <td>Shawshank Redemption, The</td>\n",
       "      <td>Crime|Drama</td>\n",
       "      <td>1994</td>\n",
       "    </tr>\n",
       "    <tr>\n",
       "      <th>2</th>\n",
       "      <td>296</td>\n",
       "      <td>4.197068</td>\n",
       "      <td>307</td>\n",
       "      <td>Pulp Fiction</td>\n",
       "      <td>Comedy|Crime|Drama|Thriller</td>\n",
       "      <td>1994</td>\n",
       "    </tr>\n",
       "    <tr>\n",
       "      <th>3</th>\n",
       "      <td>593</td>\n",
       "      <td>4.161290</td>\n",
       "      <td>279</td>\n",
       "      <td>Silence of the Lambs, The</td>\n",
       "      <td>Crime|Horror|Thriller</td>\n",
       "      <td>1991</td>\n",
       "    </tr>\n",
       "    <tr>\n",
       "      <th>4</th>\n",
       "      <td>2571</td>\n",
       "      <td>4.192446</td>\n",
       "      <td>278</td>\n",
       "      <td>Matrix, The</td>\n",
       "      <td>Action|Sci-Fi|Thriller</td>\n",
       "      <td>1999</td>\n",
       "    </tr>\n",
       "  </tbody>\n",
       "</table>\n",
       "</div>"
      ],
      "text/plain": [
       "   movieId  avg_rating  num_ratings                      title  \\\n",
       "0      356    4.164134          329               Forrest Gump   \n",
       "1      318    4.429022          317  Shawshank Redemption, The   \n",
       "2      296    4.197068          307               Pulp Fiction   \n",
       "3      593    4.161290          279  Silence of the Lambs, The   \n",
       "4     2571    4.192446          278                Matrix, The   \n",
       "\n",
       "                        genres  year  \n",
       "0     Comedy|Drama|Romance|War  1994  \n",
       "1                  Crime|Drama  1994  \n",
       "2  Comedy|Crime|Drama|Thriller  1994  \n",
       "3        Crime|Horror|Thriller  1991  \n",
       "4       Action|Sci-Fi|Thriller  1999  "
      ]
     },
     "execution_count": 37,
     "metadata": {},
     "output_type": "execute_result"
    }
   ],
   "source": [
    "# Group by movieId and get the mean and coun\n",
    "popular_movies = ratings.groupby('movieId').agg({'rating': ['mean', 'count']})\n",
    "popular_movies.columns = ['avg_rating', 'num_ratings']\n",
    "popular_movies = popular_movies.sort_values('num_ratings', ascending=False)\n",
    "\n",
    "top_movies = pd.merge(popular_movies, movies_clean, on='movieId')\n",
    "top_movies.head()"
   ]
  },
  {
   "cell_type": "code",
   "execution_count": 38,
   "id": "b1f552de",
   "metadata": {},
   "outputs": [
    {
     "data": {
      "text/plain": [
       "<AxesSubplot:xlabel='num_ratings', ylabel='title'>"
      ]
     },
     "execution_count": 38,
     "metadata": {},
     "output_type": "execute_result"
    },
    {
     "data": {
      "image/png": "[encoded data removed]",
      "text/plain": [
       "<Figure size 432x288 with 1 Axes>"
      ]
     },
     "metadata": {},
     "output_type": "display_data"
    }
   ],
   "source": [
    "# Plot in descending order to show number of rating\n",
    "top_movies_by_num = top_movies.sort_values(by='num_ratings', ascending=False)\n",
    "sns.barplot(x='num_ratings', y='title', data=top_movies_by_num.head(10), palette='mako')"
   ]
  },
  {
   "cell_type": "markdown",
   "id": "1ab6f983",
   "metadata": {},
   "source": [
    "### Objective 2: Analysis on User rating\n",
    "Our objective here is to find out how many movies each user has rated.\n",
    "<br>\n",
    "This helps us see how active different users are and how often they give ratings.\n",
    "<br> Below is a plot for user count and the their rating"
   ]
  },
  {
   "cell_type": "code",
   "execution_count": 39,
   "id": "3babe1ba",
   "metadata": {},
   "outputs": [
    {
     "data": {
      "text/plain": [
       "(0.0, 1000.0)"
      ]
     },
     "execution_count": 39,
     "metadata": {},
     "output_type": "execute_result"
    },
    {
     "data": {
      "image/png": "[encoded data removed]",
      "text/plain": [
       "<Figure size 720x432 with 1 Axes>"
      ]
     },
     "metadata": {},
     "output_type": "display_data"
    }
   ],
   "source": [
    "# Group ratings by userId and sort in descending order\n",
    "user_rating_count = ratings.groupby('userId', as_index=False).size().sort_values(by='size', ascending=False)\n",
    "plt.figure(figsize=(10, 6))\n",
    "sns.histplot(x='size', data=user_rating_count)\n",
    "plt.xlim(0, 1000)"
   ]
  },
  {
   "cell_type": "markdown",
   "id": "cc167293-1590-46ef-8b22-2646bf195973",
   "metadata": {},
   "source": [
    "<h3>Objective 3: Analyze Trends in Movie Popularity Over the Years</h3>\n",
    "This objective focuses on understanding how movie popularity has changed over time by looking at the number of user ratings per year.\n",
    "<br>\n",
    "By using a line plot to show the total ratings of top movies across different years, we can observe patterns such as which years had a rise or drop in popularity.\n",
    "<br>\n",
    "This helps us identify periods when user interest in movies was high and may reveal how trends in movie watching have evolved.\n",
    "\n"
   ]
  },
  {
   "cell_type": "code",
   "execution_count": 40,
   "id": "292a647e",
   "metadata": {},
   "outputs": [
    {
     "data": {
      "text/plain": [
       "<AxesSubplot:xlabel='year', ylabel='num_ratings'>"
      ]
     },
     "execution_count": 40,
     "metadata": {},
     "output_type": "execute_result"
    },
    {
     "data": {
      "image/png": "[encoded data removed]",
      "text/plain": [
       "<Figure size 720x432 with 1 Axes>"
      ]
     },
     "metadata": {},
     "output_type": "display_data"
    }
   ],
   "source": [
    "plt.figure(figsize=(10, 6))\n",
    "sns.lineplot(x='year', y='num_ratings', data=top_movies, color=\"#06367D\")"
   ]
  },
  {
   "cell_type": "markdown",
   "id": "48d2c349-0d4b-42f5-9a6a-667af4ad6d41",
   "metadata": {},
   "source": [
    "<h3>Interpretation</h3>\n",
    "The plot shows that movie ratings increased steadily from the 1950s, peaking in the late 1990s to early 2000s.\n",
    "<br>\n",
    "After that, there is a sharp decline in ratings for newer movies. \n",
    "<br>\n",
    "This suggests that movies from the late 90s are the most rated, while older and more recent films received fewer ratings, possibly due to lower engagement or dataset limitations."
   ]
  },
  {
   "cell_type": "markdown",
   "id": "d9c27f0a",
   "metadata": {},
   "source": [
    "## Modelling\n",
    "To build an effective recommendation system, we will prepare the ratings data using the Surprise library.\n",
    "<br>\n",
    "This involves formatting the dataset appropriately, defining the rating scale, and splitting the data into training and testing sets.\n"
   ]
  },
  {
   "cell_type": "code",
   "execution_count": 41,
   "id": "cf2ee4a3",
   "metadata": {},
   "outputs": [
    {
     "name": "stdout",
     "output_type": "stream",
     "text": [
      "Number of users:  610 \n",
      "\n",
      "Number of items:  9711\n"
     ]
    }
   ],
   "source": [
    "#Sets ratings range from 0.5 to 5.0.\n",
    "reader = Reader(rating_scale=(0.5, 5.0))\n",
    "#  Loads your movie_ratings and use userId, movieId and rating columns\n",
    "data = Dataset.load_from_df(movie_ratings[['userId', 'movieId', 'rating']], reader=reader)\n",
    "# Convert dataset into surprise algorithm and build a training set on available data\n",
    "dataset = data.build_full_trainset()\n",
    "# Randomly splits the data into training 80% and testing 20% sets\n",
    "trainset, testset = train_test_split(data, test_size=0.2, random_state=42)\n",
    "print('Number of users: ', dataset.n_users, '\\n')\n",
    "print('Number of items: ', dataset.n_items)"
   ]
  },
  {
   "cell_type": "markdown",
   "id": "5ffd0478",
   "metadata": {},
   "source": [
    "### Collaborative Filtering"
   ]
  },
  {
   "cell_type": "markdown",
   "id": "b08358fa",
   "metadata": {},
   "source": [
    "#### KNN Basic\n",
    "In this section, we aim to build a collaborative filtering model using user-based KNN.\n",
    "<br>\n",
    "The goal is to recommend movies to users based on the preferences of similar users.\n",
    "<br>\n",
    "We will use cosine similarity to measure how similar users are, and fit the model on the full training dataset to learn user-user relationships."
   ]
  },
  {
   "cell_type": "code",
   "execution_count": 42,
   "id": "caf82f58",
   "metadata": {},
   "outputs": [
    {
     "name": "stdout",
     "output_type": "stream",
     "text": [
      "Computing the cosine similarity matrix...\n",
      "Done computing similarity matrix.\n"
     ]
    },
    {
     "data": {
      "text/plain": [
       "<surprise.prediction_algorithms.knns.KNNBasic at 0x144d1ecd8e0>"
      ]
     },
     "execution_count": 42,
     "metadata": {},
     "output_type": "execute_result"
    }
   ],
   "source": [
    "# sets the similarity options for the KNN algorithm\n",
    "sim_options = {'name': 'cosine', 'user_based': True}\n",
    "# Initializes the KNNBasic algorithm using the similarity options we defined\n",
    "model = KNNBasic(sim_options=sim_options)\n",
    "model.fit(dataset)"
   ]
  },
  {
   "cell_type": "code",
   "execution_count": 43,
   "id": "ff21c5e4",
   "metadata": {},
   "outputs": [
    {
     "name": "stdout",
     "output_type": "stream",
     "text": [
      "Computing the cosine similarity matrix...\n",
      "Done computing similarity matrix.\n",
      "Computing the cosine similarity matrix...\n",
      "Done computing similarity matrix.\n",
      "Computing the cosine similarity matrix...\n",
      "Done computing similarity matrix.\n",
      "Computing the cosine similarity matrix...\n",
      "Done computing similarity matrix.\n",
      "Computing the cosine similarity matrix...\n",
      "Done computing similarity matrix.\n"
     ]
    },
    {
     "data": {
      "text/plain": [
       "0.9724020960088655"
      ]
     },
     "execution_count": 43,
     "metadata": {},
     "output_type": "execute_result"
    }
   ],
   "source": [
    "# Splits your dataset into 5 folds and evaluates the model using RMSE \n",
    "score = cross_validate(model, data, measures=['RMSE'], cv=5, verbose=False)\n",
    "#  Calculates the average RMSE across the 5 folds.\n",
    "score['test_rmse'].mean()`"
   ]
  },
  {
   "cell_type": "markdown",
   "id": "4a2a131e-42c3-40af-a1a2-19bb4efdee75",
   "metadata": {},
   "source": [
    "**Finding**\n",
    "<br>\n",
    "RMSE is  0.97. This means that, on average, the model's predicted rating differs from the actual rating by 0.97 stars on the 0.5–5.0 rating scale.\n",
    "<h3>Interpretation</h3>\n",
    "The model's average error is less than 1 star, which suggests moderate accuracy.\n",
    "<br>\n",
    "While the model can reasonably predict user preferences, there’s still room for improvement \n",
    "<br>\n",
    "For example, using matrix factorization or tuning parameters might yield better performance."
   ]
  },
  {
   "cell_type": "markdown",
   "id": "20e5261a-a40a-4b2a-95ef-79f88aea6d45",
   "metadata": {},
   "source": [
    "### Tuning the Number of Neighbors (k) in KNN\n",
    "To improve the performance of our KNN-based collaborative filtering model, we test multiple values of k(number of neighbors) .\n",
    "<br>\n",
    "This will help us identify the one that yields the lowest prediction error.\n",
    "<br>\n",
    "We will evaluate each k using RMSE on the test set and visualize the results to find the optimal value. This process helps in selecting the most suitable k for better recommendation accuracy.\n",
    "\n"
   ]
  },
  {
   "cell_type": "code",
   "execution_count": 44,
   "id": "355a50bd",
   "metadata": {},
   "outputs": [
    {
     "data": {
      "image/png": "[encoded data removed]",
      "text/plain": [
       "<Figure size 720x432 with 1 Axes>"
      ]
     },
     "metadata": {},
     "output_type": "display_data"
    }
   ],
   "source": [
    "def optimal_k(knn_model):\n",
    "    k_values = np.arange(21, 50, 2)\n",
    "    scores = []\n",
    "    for n in k_values:\n",
    "        model = knn_model(k=n, sim_options=sim_options, verbose=False)\n",
    "        model.fit(trainset)\n",
    "        predictions = model.test(testset)\n",
    "        score = accuracy.rmse(predictions, verbose=False)\n",
    "        scores.append(score)\n",
    "\n",
    "    plt.figure(figsize=(10, 6))\n",
    "    sns.set_style('whitegrid')\n",
    "    sns.lineplot(x=k_values, y=scores, color=\"green\")\n",
    "    best_idx = np.argmin(scores)\n",
    "    best_k = k_values[best_idx]\n",
    "    best_score = scores[best_idx]\n",
    "    plt.scatter(best_k, best_score, color=\"red\", linewidths=3,\n",
    "            label=f'Optimal k: {best_k}\\nLowest RMSE: {best_score:.4f}')\n",
    "    plt.xlabel('k values')\n",
    "    plt.ylabel('RMSE')\n",
    "    \n",
    "    plt.title('Optimal k value for KNN')\n",
    "    plt.legend()\n",
    "    plt.show()\n",
    "\n",
    "optimal_k(KNNBasic)"
   ]
  },
  {
   "cell_type": "markdown",
   "id": "1e97979d-cd17-4937-a385-c2ef1daa9ea9",
   "metadata": {},
   "source": [
    "**Findings**\n",
    "<br>\n",
    "The RMSE decreases steadily as k increases, reaching its lowest point at k = 43.\n",
    "<br>\n",
    "At this point, the minimum RMSE is approximately 0.9727, marked clearly with a red dot.\n",
    "<br>\n",
    "Beyond k = 43, the RMSE starts to rise slightly, suggesting over-smoothing or reduced personalization.\n",
    "<br>\n"
   ]
  },
  {
   "cell_type": "code",
   "execution_count": 46,
   "id": "a8e0cee3",
   "metadata": {},
   "outputs": [
    {
     "data": {
      "text/plain": [
       "0.9729608774877683"
      ]
     },
     "execution_count": 46,
     "metadata": {},
     "output_type": "execute_result"
    }
   ],
   "source": [
    "optimal_knn_basic = KNNBasic(k=43, sim_options=sim_options, verbose=False)\n",
    "optimal_knn_basic.fit(dataset)\n",
    "scores = cross_validate(optimal_knn_basic, data, measures=['RMSE'], cv=5)\n",
    "scores['test_rmse'].mean()"
   ]
  },
  {
   "cell_type": "markdown",
   "id": "d23eb605-7306-46d4-add8-6d68ac18dda6",
   "metadata": {},
   "source": [
    "The optimized model with k = 43 achieves an average RMSE of approximately 0.9730, which is slightly better than the earlier baseline .\n"
   ]
  },
  {
   "cell_type": "markdown",
   "id": "0eba61ef",
   "metadata": {},
   "source": [
    "#### KNN With Means - Kelvin"
   ]
  },
  {
   "cell_type": "code",
   "execution_count": null,
   "id": "5f96ae0e",
   "metadata": {},
   "outputs": [],
   "source": [
    "knn_means = KNNWithMeans(sim_options=sim_options)\n",
    "knn_means.fit(dataset)"
   ]
  },
  {
   "cell_type": "code",
   "execution_count": null,
   "id": "ccfee42d",
   "metadata": {},
   "outputs": [],
   "source": [
    "scores = cross_validate(knn_means, data, measures=['RMSE'], cv=5)\n",
    "scores['test_rmse'].mean()"
   ]
  },
  {
   "cell_type": "code",
   "execution_count": null,
   "id": "8a046480",
   "metadata": {},
   "outputs": [],
   "source": [
    "optimal_k(KNNWithMeans)"
   ]
  },
  {
   "cell_type": "code",
   "execution_count": null,
   "id": "ce05aedc",
   "metadata": {},
   "outputs": [],
   "source": [
    "optimal_knn_means = KNNBWithMeans(k=, sim_options=sim_options, verbose=False)\n",
    "optimal_knn_means.fit(dataset)\n",
    "scores = cross_validate(optimal_knn_means, data, measures=['RMSE'], cv=5)\n",
    "scores['test_rmse'].mean()"
   ]
  },
  {
   "cell_type": "markdown",
   "id": "1ff4dcd2",
   "metadata": {},
   "source": [
    "#### Singluar Value Decomposition (SVD) - Kelvin"
   ]
  },
  {
   "cell_type": "code",
   "execution_count": null,
   "id": "b5649567",
   "metadata": {},
   "outputs": [],
   "source": [
    "param_grid = {\n",
    "    'n_factors': [50, 100],\n",
    "    'n_epochs': [10, 20],\n",
    "    'lr_all': [0.002, 0.005],\n",
    "    'reg_all': [0.02, 0.1]\n",
    "}\n",
    "grid_svd = GridSearchCV(SVD, param_grid, measures=['rmse', 'mae'], cv=3, joblib_verbose=1)\n",
    "grid_svd.fit(data)"
   ]
  },
  {
   "cell_type": "code",
   "execution_count": null,
   "id": "7fec2ef5",
   "metadata": {},
   "outputs": [],
   "source": [
    "grid_svd.best_score['rmse'], grid_svd.best_params['rmse']"
   ]
  },
  {
   "cell_type": "code",
   "execution_count": null,
   "id": "b5487ee8",
   "metadata": {},
   "outputs": [],
   "source": [
    "best_svd = grid_svd.best_estimator['rmse']\n",
    "best_svd.fit(trainset)"
   ]
  },
  {
   "cell_type": "code",
   "execution_count": null,
   "id": "446cece2",
   "metadata": {},
   "outputs": [],
   "source": [
    "best_svd.predict(1, 356)"
   ]
  },
  {
   "cell_type": "code",
   "execution_count": null,
   "id": "b8f86581",
   "metadata": {},
   "outputs": [],
   "source": [
    "def recommendations(user_id, n_recommendations=10):\n",
    "    all_movie_ids = movie_ratings['movieId'].unique()\n",
    "    rated_movies = movie_ratings[movie_ratings['userId'] == user_id]['movieId'].unique()\n",
    "    unrated_movies = [movie_id for movie_id in all_movie_ids if movie_id not in rated_movies]\n",
    "    predictions = [best_svd.predict(user_id, movie_id) for movie_id in unrated_movies]\n",
    "    predictions.sort(key=lambda x: x.est, reverse=True)\n",
    "    top_recommendations = predictions[:n_recommendations]\n",
    "    titles = []\n",
    "    results = []\n",
    "    for rec in top_recommendations:\n",
    "        title = movies_clean.loc[movies_clean['movieId'] == rec.iid, 'title'].values[0]\n",
    "        titles.append(title)\n",
    "        results.append(rec.est)\n",
    "\n",
    "    return pd.DataFrame(results, titles, columns=['Ratings'])\n",
    "recommendations(1, 10)"
   ]
  },
  {
   "cell_type": "markdown",
   "id": "7bcb53d2",
   "metadata": {},
   "source": [
    "### Content Based Filtering - Brian"
   ]
  },
  {
   "cell_type": "code",
   "execution_count": null,
   "id": "3360191d",
   "metadata": {},
   "outputs": [],
   "source": [
    "merged.isna().sum()"
   ]
  },
  {
   "cell_type": "code",
   "execution_count": null,
   "id": "7175fadf",
   "metadata": {},
   "outputs": [],
   "source": [
    "merged.dropna(inplace=True)"
   ]
  },
  {
   "cell_type": "code",
   "execution_count": null,
   "id": "7a31f249",
   "metadata": {},
   "outputs": [],
   "source": [
    "merged.head()"
   ]
  },
  {
   "cell_type": "code",
   "execution_count": null,
   "id": "d5b93f04",
   "metadata": {},
   "outputs": [],
   "source": [
    "merged_tags = merged.groupby(['movieId', 'title', 'genres', 'year'])['tag'] \\\n",
    "           .agg(lambda tags: ', '.join(set(tags))) \\\n",
    "           .reset_index(name='merged_tags')\n",
    "merged_tags.head()"
   ]
  },
  {
   "cell_type": "code",
   "execution_count": null,
   "id": "01aeb53d",
   "metadata": {},
   "outputs": [],
   "source": [
    "def merge(x):\n",
    "    genres = x.split('|')\n",
    "    return ' '.join(genres)\n",
    "merged_tags['genres'] = merged_tags['genres'].apply(merge)"
   ]
  },
  {
   "cell_type": "code",
   "execution_count": null,
   "id": "24025fb1",
   "metadata": {},
   "outputs": [],
   "source": [
    "merged_tags['soup'] = merged_tags['genres']+ ' ' + merged_tags['merged_tags']\n",
    "merged_tags.head()"
   ]
  },
  {
   "cell_type": "code",
   "execution_count": null,
   "id": "154a16d7",
   "metadata": {},
   "outputs": [],
   "source": [
    "vectorizer = TfidfVectorizer(stop_words='english')\n",
    "count_matrix = vectorizer.fit_transform(merged_tags['soup'])\n",
    "cosine_sim = linear_kernel(count_matrix, count_matrix)\n",
    "indices = pd.Series(merged_tags.index, index=merged_tags['title'])\n",
    "indices.head()"
   ]
  },
  {
   "cell_type": "code",
   "execution_count": null,
   "id": "f3bac5cd",
   "metadata": {},
   "outputs": [],
   "source": [
    "def get_recommendations(title):\n",
    "    if title not in indices.index:\n",
    "        raise ValueError(f\"Title '{title}' not found in the dataset.\")\n",
    "    index = indices[title]\n",
    "    sim_scores = list(enumerate(cosine_sim[index]))\n",
    "    sim_scores = sorted(sim_scores, key=lambda x: x[1], reverse=True)\n",
    "    sim_scores = sim_scores[1:11]  # Get top 10 recommendations\n",
    "    movie_indices = [i[0] for i in sim_scores]\n",
    "    return merged_tags.iloc[movie_indices][['title', 'genres', 'year']] \n",
    "\n",
    "get_recommendations('Jumanji')  "
   ]
  },
  {
   "cell_type": "markdown",
   "id": "48a7e162",
   "metadata": {},
   "source": [
    "### Hybrid Filtering"
   ]
  },
  {
   "cell_type": "code",
   "execution_count": null,
   "id": "c1c91210",
   "metadata": {},
   "outputs": [],
   "source": [
    "def hybrid_system(userId, movie_title):\n",
    "    movieId = merged_tags.iloc[indices[movie_title]]['movieId']\n",
    "    #  Collaborative Filtering\n",
    "    try:\n",
    "        cf_score = best_svd.predict(userId, movieId).est\n",
    "    except:\n",
    "        cf_score = 0\n",
    "    \n",
    "    # Content Based Filtering\n",
    "    try:\n",
    "        index = indices[movie_title]\n",
    "        user_rated_title = ratings[ratings['userId'] == userId]['title']\n",
    "        user_rated_idxs = indices[user_rated_title[user_rated_title.isin(indices.index)]]\n",
    "\n",
    "        if len(user_rated_title) == 0:\n",
    "            cb_score = 0\n",
    "        else:\n",
    "            similarities = cosine_sim[index, user_rated_idxs]\n",
    "            cb_score = similarities.mean()\n",
    "    except:\n",
    "        cb_score=0\n",
    "\n",
    "    return cf_score, cb_score\n",
    "\n",
    "\n",
    "hybrid_system(1, 'Jumanji')"
   ]
  },
  {
   "cell_type": "code",
   "execution_count": null,
   "id": "3e28605a",
   "metadata": {},
   "outputs": [],
   "source": [
    "def weighted_hybrid(user_id: int,\n",
    "                    title: str,\n",
    "                    top_n: int = 10,\n",
    "                    alpha: float = 0.5,\n",
    "                    extra_pool: int = 60) -> pd.DataFrame:\n",
    "    \n",
    "    if title not in indices:\n",
    "        raise ValueError(f\"'{title}' not found in indices.\")\n",
    "\n",
    "    # 1️⃣ Content‑based candidate list\n",
    "    idx = indices[title]\n",
    "    sim_scores = list(enumerate(cosine_sim[idx]))\n",
    "    sim_scores = sorted(sim_scores, key=lambda x: x[1], reverse=True)[1:extra_pool+1]  # skip seed itself\n",
    "\n",
    "    # 2️⃣ Merge with CF predictions\n",
    "    results = []\n",
    "    for i, cb_score in sim_scores:\n",
    "        movie_id = merged_tags.iloc[i]['movieId']\n",
    "        cf_score = best_svd.predict(user_id, movie_id).est\n",
    "        final_score = alpha * cb_score + (1 - alpha) * cf_score\n",
    "        results.append((movie_id,\n",
    "                        merged_tags.iloc[i]['title'],\n",
    "                        final_score,\n",
    "                        cb_score,\n",
    "                        cf_score))\n",
    "\n",
    "    # 3️⃣ Rank & output\n",
    "    rec_df = (pd.DataFrame(results,\n",
    "                           columns=['movieId', 'title',\n",
    "                                    'final_score', 'cb_score', 'cf_score'])\n",
    "                .sort_values('final_score', ascending=False)\n",
    "                .head(top_n)\n",
    "                .reset_index(drop=True))\n",
    "    return rec_df\n",
    "\n",
    "# quick sanity‑check\n",
    "weighted_hybrid(user_id=1, title=\"Jumanji\", top_n=10, alpha=0.4)"
   ]
  },
  {
   "cell_type": "code",
   "execution_count": null,
   "id": "88a18386",
   "metadata": {},
   "outputs": [],
   "source": [
    "def switching_hybrid(user_id: int,\n",
    "                     title: str,\n",
    "                     top_n: int = 10,\n",
    "                     cold_threshold: int = 10) -> pd.DataFrame:\n",
    "    \n",
    "\n",
    "    # Check user interaction history\n",
    "    user_history = ratings[ratings['userId'] == user_id]\n",
    "    num_ratings = len(user_history)\n",
    "\n",
    "    # Cold-start user: use content-based filtering only\n",
    "    if num_ratings < cold_threshold:\n",
    "        if title not in indices:\n",
    "            raise ValueError(f\"Title '{title}' not found in indices.\")\n",
    "        \n",
    "        idx = indices[title]\n",
    "        sim_scores = list(enumerate(cosine_sim[idx]))\n",
    "        sim_scores = sorted(sim_scores, key=lambda x: x[1], reverse=True)[1:top_n+1]\n",
    "\n",
    "        recommendations = []\n",
    "        for i, score in sim_scores:\n",
    "            movie_id = merged_tags.iloc[i]['movieId']\n",
    "            movie_title = merged_tags.iloc[i]['title']\n",
    "            recommendations.append((movie_id, movie_title, score, 'content'))\n",
    "\n",
    "        return pd.DataFrame(recommendations, columns=[\"movieId\", \"title\", \"score\", \"method\"])\n",
    "\n",
    "    # Warm user: use collaborative filtering only\n",
    "    else:\n",
    "        all_movie_ids = merged_tags['movieId'].unique()\n",
    "        seen = set(user_history['movieId'])\n",
    "        unseen = [m for m in all_movie_ids if m not in seen]\n",
    "\n",
    "        preds = []\n",
    "        for movie_id in unseen:\n",
    "            pred = best_svd.predict(user_id, movie_id)\n",
    "            preds.append((movie_id, pred.est))\n",
    "\n",
    "        top_preds = sorted(preds, key=lambda x: x[1], reverse=True)[:top_n]\n",
    "\n",
    "        recommendations = []\n",
    "        for movie_id, score in top_preds:\n",
    "            movie_title = merged_tags[merged_tags['movieId'] == movie_id]['title'].values[0]\n",
    "            recommendations.append((movie_id, movie_title, score, 'collaborative'))\n",
    "\n",
    "        return pd.DataFrame(recommendations, columns=[\"movieId\", \"title\", \"score\", \"method\"])\n",
    "\n",
    "# Try with a cold-start user\n",
    "switching_hybrid(user_id=9999, title=\"Jumanji\", top_n=10)\n",
    "\n",
    "# Try with a known, warm user\n",
    "switching_hybrid(user_id=15, title=\"Inception\", top_n=10)"
   ]
  },
  {
   "cell_type": "markdown",
   "id": "3f7ab804",
   "metadata": {},
   "source": [
    "## Business Recommendations - Kelvin"
   ]
  },
  {
   "cell_type": "markdown",
   "id": "06726d31",
   "metadata": {},
   "source": [
    "## Conclusion - Kelvin"
   ]
  },
  {
   "cell_type": "markdown",
   "id": "cca7727f",
   "metadata": {},
   "source": [
    "## Future Works - Kelvin"
   ]
  },
  {
   "cell_type": "markdown",
   "id": "c53e11e9",
   "metadata": {},
   "source": []
  }
 ],
 "metadata": {
  "kernelspec": {
   "display_name": "Python [conda env:learn-env]",
   "language": "python",
   "name": "conda-env-learn-env-py"
  },
  "language_info": {
   "codemirror_mode": {
    "name": "ipython",
    "version": 3
   },
   "file_extension": ".py",
   "mimetype": "text/x-python",
   "name": "python",
   "nbconvert_exporter": "python",
   "pygments_lexer": "ipython3",
   "version": "3.8.5"
  }
 },
 "nbformat": 4,
 "nbformat_minor": 5
}
